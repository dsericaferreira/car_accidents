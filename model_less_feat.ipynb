{
 "cells": [
  {
   "cell_type": "code",
   "execution_count": 162,
   "metadata": {},
   "outputs": [
    {
     "name": "stderr",
     "output_type": "stream",
     "text": [
      "[nltk_data] Downloading package punkt to\n",
      "[nltk_data]     C:\\Users\\vferr\\AppData\\Roaming\\nltk_data...\n",
      "[nltk_data]   Package punkt is already up-to-date!\n",
      "[nltk_data] Downloading package stopwords to\n",
      "[nltk_data]     C:\\Users\\vferr\\AppData\\Roaming\\nltk_data...\n",
      "[nltk_data]   Package stopwords is already up-to-date!\n"
     ]
    },
    {
     "data": {
      "text/plain": [
       "True"
      ]
     },
     "execution_count": 162,
     "metadata": {},
     "output_type": "execute_result"
    }
   ],
   "source": [
    "import pandas as pd\n",
    "import seaborn as sns\n",
    "import matplotlib.pyplot as plt\n",
    "from sklearn.feature_selection import mutual_info_regression\n",
    "import numpy as np\n",
    "import datetime\n",
    "from imblearn.over_sampling import RandomOverSampler\n",
    "from imblearn.under_sampling import RandomUnderSampler\n",
    "from imblearn.over_sampling import SMOTE\n",
    "from sklearn.metrics import classification_report\n",
    "from sklearn.neural_network import MLPClassifier\n",
    "from sklearn.model_selection import train_test_split\n",
    "from sklearn.preprocessing import MinMaxScaler\n",
    "from scipy.stats import chi2_contingency\n",
    "from keras.models import Sequential\n",
    "from keras.layers import Dense, Activation,  BatchNormalization, Dropout\n",
    "import joblib\n",
    "from sklearn.preprocessing import StandardScaler\n",
    "\n",
    "from keras.models import load_model\n",
    "\n",
    "import nltk\n",
    "from nltk.corpus import stopwords\n",
    "from nltk.tokenize import word_tokenize\n",
    "import spacy\n",
    "\n",
    "# Download NLTK resources if you haven't already\n",
    "nltk.download('punkt')\n",
    "nltk.download('stopwords')\n",
    "\n",
    "\n",
    " \n",
    "\n"
   ]
  },
  {
   "cell_type": "code",
   "execution_count": 163,
   "metadata": {},
   "outputs": [],
   "source": [
    "##! pip install --upgrade pydantic\n"
   ]
  },
  {
   "cell_type": "code",
   "execution_count": 164,
   "metadata": {},
   "outputs": [
    {
     "name": "stderr",
     "output_type": "stream",
     "text": [
      "C:\\Users\\vferr\\AppData\\Local\\Temp\\ipykernel_16200\\4224766566.py:1: DtypeWarning: Columns (6,7) have mixed types. Specify dtype option on import or set low_memory=False.\n",
      "  data = pd.read_csv('preprocess_data.csv')\n"
     ]
    }
   ],
   "source": [
    "data = pd.read_csv('preprocess_data.csv')"
   ]
  },
  {
   "cell_type": "code",
   "execution_count": 165,
   "metadata": {},
   "outputs": [],
   "source": [
    "data['br'] = data['br'].str.replace(\".0\", \"\")"
   ]
  },
  {
   "cell_type": "code",
   "execution_count": 166,
   "metadata": {},
   "outputs": [
    {
     "data": {
      "text/plain": [
       "array(['101', '116', '163', '376', '262', '381', '465', '392', '316',\n",
       "       '50', '365', '290', '386', '40', '324', '364', '407', '210', '412',\n",
       "       '428', '280', '470', '20', '480', '158', '153', '222', '277',\n",
       "       '282', '251', '70', '459', '259', '493', '230', '110', '343',\n",
       "       '242', '285', '60', '319', '174', '232', '467', '405', '476', '10',\n",
       "       '410', '423', '155', '287', '393', '421', '452', '356', '472',\n",
       "       '414', '135', '435', '373', '432', '226', '369', '354', '267',\n",
       "       'Unknown', '408', '359', '471', '349', '304', '424', '463', '293',\n",
       "       '80', '146', '235', '30', '104', '468', '448', '430', '406', '330',\n",
       "       '415', '402', '361', '487', '272', '427', '367', '495', '122',\n",
       "       '419', '429', '401', '420', '436', '308', '317', '156', '469',\n",
       "       '418', '425', '416', '488', '447', '437', '434', '352', '342',\n",
       "       '403', '433', '485', '422', '265', '482', '484', '475', '426',\n",
       "       '477', '457', '120', '383', '498', '377', '451', '404', '473', '0',\n",
       "       '450', nan, '474', '460', '(null)', '4', '617', '580', '221',\n",
       "       '560', '84', '687', '178', '601', '605', '604'], dtype=object)"
      ]
     },
     "execution_count": 166,
     "metadata": {},
     "output_type": "execute_result"
    }
   ],
   "source": [
    "data['br'].unique()"
   ]
  },
  {
   "cell_type": "code",
   "execution_count": 167,
   "metadata": {},
   "outputs": [],
   "source": [
    "## Garantir que minha coluna ANO está no formato de int\n",
    "data.ano = data.ano.astype(int)"
   ]
  },
  {
   "cell_type": "code",
   "execution_count": 168,
   "metadata": {},
   "outputs": [],
   "source": [
    "for column in data.columns:\n",
    "    if data[column].dtype == 'O':\n",
    "        data[column] = data[column].str.lower()\n",
    "        data[column] = data[column].replace(\n",
    "            '(null)', 'unknown').replace('0', 'unknown')\n",
    "        data[column] = data[column].str.encode(\n",
    "            'ISO-8859-1').str.decode('utf-8', 'ignore')\n",
    "        data[column] = data[column].fillna('unknown')\n",
    "    else:\n",
    "        data[column] = data[column].fillna(-99999999)\n"
   ]
  },
  {
   "cell_type": "code",
   "execution_count": 169,
   "metadata": {},
   "outputs": [
    {
     "data": {
      "text/plain": [
       "array(['101', '116', '163', '376', '262', '381', '465', '392', '316',\n",
       "       '50', '365', '290', '386', '40', '324', '364', '407', '210', '412',\n",
       "       '428', '280', '470', '20', '480', '158', '153', '222', '277',\n",
       "       '282', '251', '70', '459', '259', '493', '230', '110', '343',\n",
       "       '242', '285', '60', '319', '174', '232', '467', '405', '476', '10',\n",
       "       '410', '423', '155', '287', '393', '421', '452', '356', '472',\n",
       "       '414', '135', '435', '373', '432', '226', '369', '354', '267',\n",
       "       'unknown', '408', '359', '471', '349', '304', '424', '463', '293',\n",
       "       '80', '146', '235', '30', '104', '468', '448', '430', '406', '330',\n",
       "       '415', '402', '361', '487', '272', '427', '367', '495', '122',\n",
       "       '419', '429', '401', '420', '436', '308', '317', '156', '469',\n",
       "       '418', '425', '416', '488', '447', '437', '434', '352', '342',\n",
       "       '403', '433', '485', '422', '265', '482', '484', '475', '426',\n",
       "       '477', '457', '120', '383', '498', '377', '451', '404', '473',\n",
       "       '450', '474', '460', '4', '617', '580', '221', '560', '84', '687',\n",
       "       '178', '601', '605', '604'], dtype=object)"
      ]
     },
     "execution_count": 169,
     "metadata": {},
     "output_type": "execute_result"
    }
   ],
   "source": [
    "data.br.unique()"
   ]
  },
  {
   "cell_type": "code",
   "execution_count": 170,
   "metadata": {},
   "outputs": [],
   "source": [
    "#### Our approach will be based on the idea of choosing best features, grouping our data \n",
    "#### using those features so We can have the amount of accidents for each combination \n",
    "#### of features. \n",
    "\n",
    "### Since our task is a regression (to predict values, not classes) not a classification\n",
    "### We are not gonna be worried about data balacing. \n",
    "\n",
    "### Now, we are gonna work on the following steps first:\n",
    "\n",
    "# Feature Selection.\n",
    "# Missing values.\n",
    "# Data Transformation: Standardization and Hot Encodings. \n",
    "\n",
    "## Note that in our preprocessing notebook we've already dealed with missing data\n",
    "## turning them into Unknown or (numerical speaking) into -999999999.\n"
   ]
  },
  {
   "cell_type": "code",
   "execution_count": 171,
   "metadata": {},
   "outputs": [],
   "source": [
    "all_columns = [ 'dia_semana', 'horario',\n",
    "        'uf', 'br', 'km', 'municipio', 'causa_acidente', 'tipo_acidente',\n",
    "        'classificacao_acidente', 'fase_dia', 'sentido_via',\n",
    "        'condicao_metereologica', 'tipo_pista', 'tracado_via', 'uso_solo',\n",
    "        'pessoas', 'mortos', 'feridos_leves', 'feridos_graves', 'ilesos',\n",
    "        'ignorados', 'feridos', 'veiculos', 'latitude', 'longitude', 'regional',\n",
    "        'delegacia', 'uop', 'ano']\n",
    "\n",
    "grouped_data = data.groupby(all_columns).size().reset_index(name='num_accidents')\n"
   ]
  },
  {
   "cell_type": "code",
   "execution_count": 172,
   "metadata": {},
   "outputs": [],
   "source": [
    "X = grouped_data.drop('num_accidents', axis=1)\n",
    "\n",
    "Y = grouped_data['num_accidents']"
   ]
  },
  {
   "cell_type": "code",
   "execution_count": 173,
   "metadata": {},
   "outputs": [],
   "source": [
    "### We were gonna use Mutual Information to choose between the features, since We have categorical data\n",
    "### and hot encoding our data now would use more memory than is desirable, but, after a few tries, \n",
    "### the features choices were not consistent, because of that I changed the feature selection algorithm \n",
    "### for Chi-square test.\n",
    "\n",
    "for column in X.columns:\n",
    "    X[column] = X[column].astype('category').cat.codes\n"
   ]
  },
  {
   "cell_type": "code",
   "execution_count": 174,
   "metadata": {},
   "outputs": [],
   "source": [
    "\n",
    "results = dict()\n",
    "\n",
    "for column in X.columns:\n",
    "    contingency_table = pd.crosstab(X[column], Y)\n",
    "\n",
    "    chi2_stat, p_value, dof, expected = chi2_contingency(contingency_table)\n",
    "    if float(p_value) <0.004:\n",
    "        results[column] = p_value\n"
   ]
  },
  {
   "cell_type": "code",
   "execution_count": 175,
   "metadata": {},
   "outputs": [],
   "source": [
    "important_features = list(results.keys())"
   ]
  },
  {
   "cell_type": "code",
   "execution_count": 176,
   "metadata": {},
   "outputs": [
    {
     "data": {
      "text/plain": [
       "['dia_semana',\n",
       " 'horario',\n",
       " 'uf',\n",
       " 'causa_acidente',\n",
       " 'tipo_acidente',\n",
       " 'classificacao_acidente',\n",
       " 'fase_dia',\n",
       " 'condicao_metereologica',\n",
       " 'tipo_pista',\n",
       " 'tracado_via',\n",
       " 'uso_solo',\n",
       " 'feridos_leves',\n",
       " 'ilesos',\n",
       " 'feridos',\n",
       " 'regional',\n",
       " 'ano']"
      ]
     },
     "execution_count": 176,
     "metadata": {},
     "output_type": "execute_result"
    }
   ],
   "source": [
    "important_features\n"
   ]
  },
  {
   "cell_type": "code",
   "execution_count": 177,
   "metadata": {},
   "outputs": [],
   "source": [
    "### We've got  what we neeed!! Great! \n",
    "# Using \n",
    "# ['br',\n",
    "# 'tipo_acidente',\n",
    "# 'classificacao_acidente',\n",
    "# 'uso_solo',\n",
    "# 'regional',\n",
    "# 'ano']\n",
    "# to predict the number of car_accidents!\n"
   ]
  },
  {
   "cell_type": "code",
   "execution_count": 178,
   "metadata": {},
   "outputs": [],
   "source": [
    "### Now, What If We choose to use - br, regional and ano?"
   ]
  },
  {
   "cell_type": "code",
   "execution_count": 179,
   "metadata": {},
   "outputs": [],
   "source": [
    "important_features = ['ano', 'br', 'regional']\n"
   ]
  },
  {
   "cell_type": "code",
   "execution_count": 180,
   "metadata": {},
   "outputs": [],
   "source": [
    "dataset = data.groupby(important_features).size().reset_index(name='num_accidents')"
   ]
  },
  {
   "cell_type": "code",
   "execution_count": 181,
   "metadata": {},
   "outputs": [
    {
     "data": {
      "text/plain": [
       "928.8547047970479"
      ]
     },
     "execution_count": 181,
     "metadata": {},
     "output_type": "execute_result"
    }
   ],
   "source": [
    "dataset['num_accidents'].mean()\n"
   ]
  },
  {
   "cell_type": "code",
   "execution_count": 182,
   "metadata": {},
   "outputs": [],
   "source": [
    "### Let´s hot encode our categorical features and normalize our num_accidents"
   ]
  },
  {
   "cell_type": "code",
   "execution_count": 183,
   "metadata": {},
   "outputs": [],
   "source": [
    "scaler = MinMaxScaler()\n",
    "dataset['num_accidents_norm'] = scaler.fit_transform(dataset[['num_accidents']])\n",
    "\n",
    "scaler = StandardScaler()\n",
    "\n",
    "anos = dataset['ano'].values.reshape(-1, 1)\n",
    "scaled_ano = scaler.fit_transform(anos)\n",
    "\n",
    "dataset['ano'] = scaled_ano\n"
   ]
  },
  {
   "cell_type": "code",
   "execution_count": 184,
   "metadata": {},
   "outputs": [
    {
     "data": {
      "text/plain": [
       "Index(['ano', 'br', 'regional', 'num_accidents', 'num_accidents_norm'], dtype='object')"
      ]
     },
     "execution_count": 184,
     "metadata": {},
     "output_type": "execute_result"
    }
   ],
   "source": [
    "dataset.columns"
   ]
  },
  {
   "cell_type": "code",
   "execution_count": 185,
   "metadata": {},
   "outputs": [],
   "source": [
    "dataset_ = pd.get_dummies(dataset, columns=['br', 'regional'], drop_first=True)\n"
   ]
  },
  {
   "cell_type": "code",
   "execution_count": 186,
   "metadata": {},
   "outputs": [],
   "source": [
    "X = dataset_.drop([\"num_accidents\", \"num_accidents_norm\"], axis=1)\n",
    "Y = dataset_['num_accidents_norm']\n"
   ]
  },
  {
   "cell_type": "code",
   "execution_count": 187,
   "metadata": {},
   "outputs": [
    {
     "data": {
      "text/plain": [
       "Index(['ano', 'br_101', 'br_104', 'br_110', 'br_116', 'br_120', 'br_122',\n",
       "       'br_135', 'br_146', 'br_153',\n",
       "       ...\n",
       "       'regional_sprf-rn', 'regional_sprf-ro', 'regional_sprf-rr',\n",
       "       'regional_sprf-rs', 'regional_sprf-sc', 'regional_sprf-se',\n",
       "       'regional_sprf-sp', 'regional_sprf-to', 'regional_uniprf',\n",
       "       'regional_unknown'],\n",
       "      dtype='object', length=171)"
      ]
     },
     "execution_count": 187,
     "metadata": {},
     "output_type": "execute_result"
    }
   ],
   "source": [
    "X.columns"
   ]
  },
  {
   "cell_type": "code",
   "execution_count": 188,
   "metadata": {},
   "outputs": [],
   "source": [
    "for i in X.columns:\n",
    "    if i != 'ano':\n",
    "        X[i] = [0 if x == False else 1 for x in X[i]]\n",
    "\n"
   ]
  },
  {
   "cell_type": "code",
   "execution_count": 189,
   "metadata": {},
   "outputs": [
    {
     "data": {
      "text/html": [
       "<div>\n",
       "<style scoped>\n",
       "    .dataframe tbody tr th:only-of-type {\n",
       "        vertical-align: middle;\n",
       "    }\n",
       "\n",
       "    .dataframe tbody tr th {\n",
       "        vertical-align: top;\n",
       "    }\n",
       "\n",
       "    .dataframe thead th {\n",
       "        text-align: right;\n",
       "    }\n",
       "</style>\n",
       "<table border=\"1\" class=\"dataframe\">\n",
       "  <thead>\n",
       "    <tr style=\"text-align: right;\">\n",
       "      <th></th>\n",
       "      <th>ano</th>\n",
       "      <th>br_101</th>\n",
       "      <th>br_104</th>\n",
       "      <th>br_110</th>\n",
       "      <th>br_116</th>\n",
       "      <th>br_120</th>\n",
       "      <th>br_122</th>\n",
       "      <th>br_135</th>\n",
       "      <th>br_146</th>\n",
       "      <th>br_153</th>\n",
       "      <th>...</th>\n",
       "      <th>regional_sprf-rn</th>\n",
       "      <th>regional_sprf-ro</th>\n",
       "      <th>regional_sprf-rr</th>\n",
       "      <th>regional_sprf-rs</th>\n",
       "      <th>regional_sprf-sc</th>\n",
       "      <th>regional_sprf-se</th>\n",
       "      <th>regional_sprf-sp</th>\n",
       "      <th>regional_sprf-to</th>\n",
       "      <th>regional_uniprf</th>\n",
       "      <th>regional_unknown</th>\n",
       "    </tr>\n",
       "  </thead>\n",
       "  <tbody>\n",
       "    <tr>\n",
       "      <th>0</th>\n",
       "      <td>-2.590728</td>\n",
       "      <td>0</td>\n",
       "      <td>0</td>\n",
       "      <td>0</td>\n",
       "      <td>0</td>\n",
       "      <td>0</td>\n",
       "      <td>0</td>\n",
       "      <td>0</td>\n",
       "      <td>0</td>\n",
       "      <td>0</td>\n",
       "      <td>...</td>\n",
       "      <td>0</td>\n",
       "      <td>0</td>\n",
       "      <td>0</td>\n",
       "      <td>0</td>\n",
       "      <td>0</td>\n",
       "      <td>0</td>\n",
       "      <td>0</td>\n",
       "      <td>0</td>\n",
       "      <td>0</td>\n",
       "      <td>1</td>\n",
       "    </tr>\n",
       "    <tr>\n",
       "      <th>1</th>\n",
       "      <td>-2.590728</td>\n",
       "      <td>1</td>\n",
       "      <td>0</td>\n",
       "      <td>0</td>\n",
       "      <td>0</td>\n",
       "      <td>0</td>\n",
       "      <td>0</td>\n",
       "      <td>0</td>\n",
       "      <td>0</td>\n",
       "      <td>0</td>\n",
       "      <td>...</td>\n",
       "      <td>0</td>\n",
       "      <td>0</td>\n",
       "      <td>0</td>\n",
       "      <td>0</td>\n",
       "      <td>0</td>\n",
       "      <td>0</td>\n",
       "      <td>0</td>\n",
       "      <td>0</td>\n",
       "      <td>0</td>\n",
       "      <td>1</td>\n",
       "    </tr>\n",
       "    <tr>\n",
       "      <th>2</th>\n",
       "      <td>-2.590728</td>\n",
       "      <td>0</td>\n",
       "      <td>1</td>\n",
       "      <td>0</td>\n",
       "      <td>0</td>\n",
       "      <td>0</td>\n",
       "      <td>0</td>\n",
       "      <td>0</td>\n",
       "      <td>0</td>\n",
       "      <td>0</td>\n",
       "      <td>...</td>\n",
       "      <td>0</td>\n",
       "      <td>0</td>\n",
       "      <td>0</td>\n",
       "      <td>0</td>\n",
       "      <td>0</td>\n",
       "      <td>0</td>\n",
       "      <td>0</td>\n",
       "      <td>0</td>\n",
       "      <td>0</td>\n",
       "      <td>1</td>\n",
       "    </tr>\n",
       "    <tr>\n",
       "      <th>3</th>\n",
       "      <td>-2.590728</td>\n",
       "      <td>0</td>\n",
       "      <td>0</td>\n",
       "      <td>1</td>\n",
       "      <td>0</td>\n",
       "      <td>0</td>\n",
       "      <td>0</td>\n",
       "      <td>0</td>\n",
       "      <td>0</td>\n",
       "      <td>0</td>\n",
       "      <td>...</td>\n",
       "      <td>0</td>\n",
       "      <td>0</td>\n",
       "      <td>0</td>\n",
       "      <td>0</td>\n",
       "      <td>0</td>\n",
       "      <td>0</td>\n",
       "      <td>0</td>\n",
       "      <td>0</td>\n",
       "      <td>0</td>\n",
       "      <td>1</td>\n",
       "    </tr>\n",
       "    <tr>\n",
       "      <th>4</th>\n",
       "      <td>-2.590728</td>\n",
       "      <td>0</td>\n",
       "      <td>0</td>\n",
       "      <td>0</td>\n",
       "      <td>1</td>\n",
       "      <td>0</td>\n",
       "      <td>0</td>\n",
       "      <td>0</td>\n",
       "      <td>0</td>\n",
       "      <td>0</td>\n",
       "      <td>...</td>\n",
       "      <td>0</td>\n",
       "      <td>0</td>\n",
       "      <td>0</td>\n",
       "      <td>0</td>\n",
       "      <td>0</td>\n",
       "      <td>0</td>\n",
       "      <td>0</td>\n",
       "      <td>0</td>\n",
       "      <td>0</td>\n",
       "      <td>1</td>\n",
       "    </tr>\n",
       "    <tr>\n",
       "      <th>...</th>\n",
       "      <td>...</td>\n",
       "      <td>...</td>\n",
       "      <td>...</td>\n",
       "      <td>...</td>\n",
       "      <td>...</td>\n",
       "      <td>...</td>\n",
       "      <td>...</td>\n",
       "      <td>...</td>\n",
       "      <td>...</td>\n",
       "      <td>...</td>\n",
       "      <td>...</td>\n",
       "      <td>...</td>\n",
       "      <td>...</td>\n",
       "      <td>...</td>\n",
       "      <td>...</td>\n",
       "      <td>...</td>\n",
       "      <td>...</td>\n",
       "      <td>...</td>\n",
       "      <td>...</td>\n",
       "      <td>...</td>\n",
       "      <td>...</td>\n",
       "    </tr>\n",
       "    <tr>\n",
       "      <th>2163</th>\n",
       "      <td>1.099764</td>\n",
       "      <td>0</td>\n",
       "      <td>0</td>\n",
       "      <td>0</td>\n",
       "      <td>0</td>\n",
       "      <td>0</td>\n",
       "      <td>0</td>\n",
       "      <td>0</td>\n",
       "      <td>0</td>\n",
       "      <td>0</td>\n",
       "      <td>...</td>\n",
       "      <td>0</td>\n",
       "      <td>0</td>\n",
       "      <td>0</td>\n",
       "      <td>0</td>\n",
       "      <td>0</td>\n",
       "      <td>1</td>\n",
       "      <td>0</td>\n",
       "      <td>0</td>\n",
       "      <td>0</td>\n",
       "      <td>0</td>\n",
       "    </tr>\n",
       "    <tr>\n",
       "      <th>2164</th>\n",
       "      <td>1.099764</td>\n",
       "      <td>0</td>\n",
       "      <td>0</td>\n",
       "      <td>0</td>\n",
       "      <td>0</td>\n",
       "      <td>0</td>\n",
       "      <td>0</td>\n",
       "      <td>0</td>\n",
       "      <td>0</td>\n",
       "      <td>0</td>\n",
       "      <td>...</td>\n",
       "      <td>0</td>\n",
       "      <td>0</td>\n",
       "      <td>0</td>\n",
       "      <td>0</td>\n",
       "      <td>0</td>\n",
       "      <td>0</td>\n",
       "      <td>1</td>\n",
       "      <td>0</td>\n",
       "      <td>0</td>\n",
       "      <td>0</td>\n",
       "    </tr>\n",
       "    <tr>\n",
       "      <th>2165</th>\n",
       "      <td>1.099764</td>\n",
       "      <td>0</td>\n",
       "      <td>0</td>\n",
       "      <td>0</td>\n",
       "      <td>0</td>\n",
       "      <td>0</td>\n",
       "      <td>0</td>\n",
       "      <td>0</td>\n",
       "      <td>0</td>\n",
       "      <td>0</td>\n",
       "      <td>...</td>\n",
       "      <td>0</td>\n",
       "      <td>0</td>\n",
       "      <td>0</td>\n",
       "      <td>0</td>\n",
       "      <td>0</td>\n",
       "      <td>0</td>\n",
       "      <td>0</td>\n",
       "      <td>1</td>\n",
       "      <td>0</td>\n",
       "      <td>0</td>\n",
       "    </tr>\n",
       "    <tr>\n",
       "      <th>2166</th>\n",
       "      <td>1.099764</td>\n",
       "      <td>0</td>\n",
       "      <td>0</td>\n",
       "      <td>0</td>\n",
       "      <td>0</td>\n",
       "      <td>0</td>\n",
       "      <td>0</td>\n",
       "      <td>0</td>\n",
       "      <td>0</td>\n",
       "      <td>0</td>\n",
       "      <td>...</td>\n",
       "      <td>0</td>\n",
       "      <td>0</td>\n",
       "      <td>0</td>\n",
       "      <td>0</td>\n",
       "      <td>0</td>\n",
       "      <td>0</td>\n",
       "      <td>0</td>\n",
       "      <td>0</td>\n",
       "      <td>1</td>\n",
       "      <td>0</td>\n",
       "    </tr>\n",
       "    <tr>\n",
       "      <th>2167</th>\n",
       "      <td>1.099764</td>\n",
       "      <td>0</td>\n",
       "      <td>0</td>\n",
       "      <td>0</td>\n",
       "      <td>0</td>\n",
       "      <td>0</td>\n",
       "      <td>0</td>\n",
       "      <td>0</td>\n",
       "      <td>0</td>\n",
       "      <td>0</td>\n",
       "      <td>...</td>\n",
       "      <td>0</td>\n",
       "      <td>0</td>\n",
       "      <td>0</td>\n",
       "      <td>0</td>\n",
       "      <td>0</td>\n",
       "      <td>0</td>\n",
       "      <td>0</td>\n",
       "      <td>0</td>\n",
       "      <td>0</td>\n",
       "      <td>1</td>\n",
       "    </tr>\n",
       "  </tbody>\n",
       "</table>\n",
       "<p>2168 rows × 171 columns</p>\n",
       "</div>"
      ],
      "text/plain": [
       "           ano  br_101  br_104  br_110  br_116  br_120  br_122  br_135   \n",
       "0    -2.590728       0       0       0       0       0       0       0  \\\n",
       "1    -2.590728       1       0       0       0       0       0       0   \n",
       "2    -2.590728       0       1       0       0       0       0       0   \n",
       "3    -2.590728       0       0       1       0       0       0       0   \n",
       "4    -2.590728       0       0       0       1       0       0       0   \n",
       "...        ...     ...     ...     ...     ...     ...     ...     ...   \n",
       "2163  1.099764       0       0       0       0       0       0       0   \n",
       "2164  1.099764       0       0       0       0       0       0       0   \n",
       "2165  1.099764       0       0       0       0       0       0       0   \n",
       "2166  1.099764       0       0       0       0       0       0       0   \n",
       "2167  1.099764       0       0       0       0       0       0       0   \n",
       "\n",
       "      br_146  br_153  ...  regional_sprf-rn  regional_sprf-ro   \n",
       "0          0       0  ...                 0                 0  \\\n",
       "1          0       0  ...                 0                 0   \n",
       "2          0       0  ...                 0                 0   \n",
       "3          0       0  ...                 0                 0   \n",
       "4          0       0  ...                 0                 0   \n",
       "...      ...     ...  ...               ...               ...   \n",
       "2163       0       0  ...                 0                 0   \n",
       "2164       0       0  ...                 0                 0   \n",
       "2165       0       0  ...                 0                 0   \n",
       "2166       0       0  ...                 0                 0   \n",
       "2167       0       0  ...                 0                 0   \n",
       "\n",
       "      regional_sprf-rr  regional_sprf-rs  regional_sprf-sc  regional_sprf-se   \n",
       "0                    0                 0                 0                 0  \\\n",
       "1                    0                 0                 0                 0   \n",
       "2                    0                 0                 0                 0   \n",
       "3                    0                 0                 0                 0   \n",
       "4                    0                 0                 0                 0   \n",
       "...                ...               ...               ...               ...   \n",
       "2163                 0                 0                 0                 1   \n",
       "2164                 0                 0                 0                 0   \n",
       "2165                 0                 0                 0                 0   \n",
       "2166                 0                 0                 0                 0   \n",
       "2167                 0                 0                 0                 0   \n",
       "\n",
       "      regional_sprf-sp  regional_sprf-to  regional_uniprf  regional_unknown  \n",
       "0                    0                 0                0                 1  \n",
       "1                    0                 0                0                 1  \n",
       "2                    0                 0                0                 1  \n",
       "3                    0                 0                0                 1  \n",
       "4                    0                 0                0                 1  \n",
       "...                ...               ...              ...               ...  \n",
       "2163                 0                 0                0                 0  \n",
       "2164                 1                 0                0                 0  \n",
       "2165                 0                 1                0                 0  \n",
       "2166                 0                 0                1                 0  \n",
       "2167                 0                 0                0                 1  \n",
       "\n",
       "[2168 rows x 171 columns]"
      ]
     },
     "execution_count": 189,
     "metadata": {},
     "output_type": "execute_result"
    }
   ],
   "source": [
    "X"
   ]
  },
  {
   "cell_type": "code",
   "execution_count": 190,
   "metadata": {},
   "outputs": [],
   "source": [
    "X_train, X_test, y_train, y_teste = train_test_split(X, Y, random_state=32, test_size=0.3)"
   ]
  },
  {
   "cell_type": "code",
   "execution_count": 191,
   "metadata": {},
   "outputs": [],
   "source": [
    "## We are gonna create a MLP neural Network using Sequential from keras. \n",
    "## I am also adding BatchNormalization - To imporve stability and performance.\n",
    "## As also output dropout - to prevent overfitting.  "
   ]
  },
  {
   "cell_type": "code",
   "execution_count": 192,
   "metadata": {},
   "outputs": [],
   "source": [
    "### Before We start our neural network, we must work with a few steps:\n",
    "\n",
    "# 1 - Let's choose our sctivation function (We chose ReLu) so We can initalize our weights(he_normal).\n",
    "# 2 - Remeber to add Batch  normalization and dropouts - our probability in droping out a neuron is of 0.2 (the best response), which means 20%.\n",
    "# 3 - Let's choose our optimizer (ADAM) and loss-function - I chose mean_squared_error which makes a lot of sense for me, since We have a regression problem.\n",
    "\n"
   ]
  },
  {
   "cell_type": "code",
   "execution_count": 193,
   "metadata": {},
   "outputs": [
    {
     "data": {
      "text/plain": [
       "ano                 float64\n",
       "br_101                int64\n",
       "br_104                int64\n",
       "br_110                int64\n",
       "br_116                int64\n",
       "                     ...   \n",
       "regional_sprf-se      int64\n",
       "regional_sprf-sp      int64\n",
       "regional_sprf-to      int64\n",
       "regional_uniprf       int64\n",
       "regional_unknown      int64\n",
       "Length: 171, dtype: object"
      ]
     },
     "execution_count": 193,
     "metadata": {},
     "output_type": "execute_result"
    }
   ],
   "source": [
    "X_train.dtypes"
   ]
  },
  {
   "cell_type": "code",
   "execution_count": 208,
   "metadata": {},
   "outputs": [],
   "source": [
    "model = Sequential()"
   ]
  },
  {
   "cell_type": "code",
   "execution_count": 209,
   "metadata": {},
   "outputs": [],
   "source": [
    "model.add(\n",
    "    Dense(units=100, input_dim=X_train.shape[1], kernel_initializer='he_normal'))\n",
    "model.add(BatchNormalization())  # Add Batch Normalization\n",
    "model.add(Activation('linear'))\n",
    "#model.add(Dropout(0.2))\n"
   ]
  },
  {
   "cell_type": "code",
   "execution_count": 210,
   "metadata": {},
   "outputs": [],
   "source": [
    "model.add(Dense(units=50, kernel_initializer='he_normal'))\n",
    "model.add(BatchNormalization())  # Add Batch Normalization\n",
    "model.add(Activation('linear'))\n",
    "#model.add(Dropout(0.2))\n"
   ]
  },
  {
   "cell_type": "code",
   "execution_count": 211,
   "metadata": {},
   "outputs": [],
   "source": [
    "model.add(Dense(units=1, kernel_initializer='he_normal'))\n"
   ]
  },
  {
   "cell_type": "code",
   "execution_count": 212,
   "metadata": {},
   "outputs": [],
   "source": [
    "model.compile(loss='mean_squared_error', optimizer='adam')\n"
   ]
  },
  {
   "cell_type": "code",
   "execution_count": 213,
   "metadata": {},
   "outputs": [
    {
     "name": "stdout",
     "output_type": "stream",
     "text": [
      "Model: \"sequential_4\"\n",
      "_________________________________________________________________\n",
      " Layer (type)                Output Shape              Param #   \n",
      "=================================================================\n",
      " dense_12 (Dense)            (None, 100)               17200     \n",
      "                                                                 \n",
      " batch_normalization_8 (Bat  (None, 100)               400       \n",
      " chNormalization)                                                \n",
      "                                                                 \n",
      " activation_8 (Activation)   (None, 100)               0         \n",
      "                                                                 \n",
      " dense_13 (Dense)            (None, 50)                5050      \n",
      "                                                                 \n",
      " batch_normalization_9 (Bat  (None, 50)                200       \n",
      " chNormalization)                                                \n",
      "                                                                 \n",
      " activation_9 (Activation)   (None, 50)                0         \n",
      "                                                                 \n",
      " dense_14 (Dense)            (None, 1)                 51        \n",
      "                                                                 \n",
      "=================================================================\n",
      "Total params: 22901 (89.46 KB)\n",
      "Trainable params: 22601 (88.29 KB)\n",
      "Non-trainable params: 300 (1.17 KB)\n",
      "_________________________________________________________________\n"
     ]
    }
   ],
   "source": [
    "model.summary()\n"
   ]
  },
  {
   "cell_type": "code",
   "execution_count": 214,
   "metadata": {},
   "outputs": [
    {
     "name": "stdout",
     "output_type": "stream",
     "text": [
      "Epoch 1/10\n",
      "38/38 [==============================] - 1s 4ms/step - loss: 0.6933 - val_loss: 0.0147\n",
      "Epoch 2/10\n",
      "38/38 [==============================] - 0s 2ms/step - loss: 0.0662 - val_loss: 0.0118\n",
      "Epoch 3/10\n",
      "38/38 [==============================] - 0s 1ms/step - loss: 0.0441 - val_loss: 0.0054\n",
      "Epoch 4/10\n",
      "38/38 [==============================] - 0s 1ms/step - loss: 0.0343 - val_loss: 0.0045\n",
      "Epoch 5/10\n",
      "38/38 [==============================] - 0s 1ms/step - loss: 0.0401 - val_loss: 0.0060\n",
      "Epoch 6/10\n",
      "38/38 [==============================] - 0s 1ms/step - loss: 0.0295 - val_loss: 0.0058\n",
      "Epoch 7/10\n",
      "38/38 [==============================] - 0s 2ms/step - loss: 0.0301 - val_loss: 0.0051\n",
      "Epoch 8/10\n",
      "38/38 [==============================] - 0s 2ms/step - loss: 0.0249 - val_loss: 0.0050\n",
      "Epoch 9/10\n",
      "38/38 [==============================] - 0s 2ms/step - loss: 0.0246 - val_loss: 0.0036\n",
      "Epoch 10/10\n",
      "38/38 [==============================] - 0s 2ms/step - loss: 0.0204 - val_loss: 0.0071\n"
     ]
    },
    {
     "data": {
      "image/png": "[encoded data removed]",
      "text/plain": [
       "<Figure size 640x480 with 1 Axes>"
      ]
     },
     "metadata": {},
     "output_type": "display_data"
    }
   ],
   "source": [
    "training = model.fit(X_train, y_train, validation_split=0.2,\n",
    "                    epochs=10, batch_size=32)\n",
    "\n",
    "## Monitor:\n",
    "\n",
    "\n",
    "loss = training.history['loss']\n",
    "val_loss = training.history['val_loss']\n",
    "\n",
    "# Plot training and validation loss\n",
    "plt.plot(loss, label='Training Loss')\n",
    "plt.plot(val_loss, label='Validation Loss')\n",
    "plt.xlabel('Epochs')\n",
    "plt.ylabel('Loss')\n",
    "plt.legend()\n",
    "plt.show()\n"
   ]
  },
  {
   "cell_type": "code",
   "execution_count": 215,
   "metadata": {},
   "outputs": [
    {
     "name": "stdout",
     "output_type": "stream",
     "text": [
      "21/21 [==============================] - 0s 648us/step - loss: 0.0092\n",
      "Test Loss: 0.009231752716004848\n"
     ]
    }
   ],
   "source": [
    "test_loss = model.evaluate(X_test, y_teste)\n",
    "print(f'Test Loss: {test_loss}')\n"
   ]
  },
  {
   "cell_type": "code",
   "execution_count": 216,
   "metadata": {},
   "outputs": [
    {
     "name": "stdout",
     "output_type": "stream",
     "text": [
      "21/21 [==============================] - 0s 587us/step\n"
     ]
    }
   ],
   "source": [
    "y_pred = model.predict(X_test)\n"
   ]
  },
  {
   "cell_type": "code",
   "execution_count": 217,
   "metadata": {},
   "outputs": [
    {
     "name": "stdout",
     "output_type": "stream",
     "text": [
      "Mean Absolute Error (MAE): 0.06349278110285635\n",
      "Root Mean Squared Error (RMSE): 0.09608201180569963\n"
     ]
    }
   ],
   "source": [
    "mae = np.mean(np.abs(y_pred.flatten() - y_teste))\n",
    "print(f'Mean Absolute Error (MAE): {mae}')\n",
    "\n",
    "rmse = np.sqrt(np.mean((y_pred.flatten() - y_teste)**2))\n",
    "print(f'Root Mean Squared Error (RMSE): {rmse}')\n"
   ]
  },
  {
   "cell_type": "code",
   "execution_count": 218,
   "metadata": {},
   "outputs": [
    {
     "name": "stderr",
     "output_type": "stream",
     "text": [
      "C:\\Users\\vferr\\AppData\\Local\\Packages\\PythonSoftwareFoundation.Python.3.10_qbz5n2kfra8p0\\LocalCache\\local-packages\\Python310\\site-packages\\keras\\src\\engine\\training.py:3000: UserWarning: You are saving your model as an HDF5 file via `model.save()`. This file format is considered legacy. We recommend using instead the native Keras format, e.g. `model.save('my_model.keras')`.\n",
      "  saving_api.save_model(\n"
     ]
    }
   ],
   "source": [
    "model.save('mlp_model_features_reduced.h5')"
   ]
  },
  {
   "cell_type": "code",
   "execution_count": 219,
   "metadata": {},
   "outputs": [
    {
     "data": {
      "text/plain": [
       "['mlp_model_features_reduced.pkl']"
      ]
     },
     "execution_count": 219,
     "metadata": {},
     "output_type": "execute_result"
    }
   ],
   "source": [
    "model = load_model('mlp_model_features_reduced.h5')\n",
    "\n",
    "joblib.dump(model, 'mlp_model_features_reduced.pkl')\n"
   ]
  },
  {
   "cell_type": "code",
   "execution_count": 206,
   "metadata": {},
   "outputs": [
    {
     "data": {
      "text/plain": [
       "['colunas_reduzidas']"
      ]
     },
     "execution_count": 206,
     "metadata": {},
     "output_type": "execute_result"
    }
   ],
   "source": [
    "sample_columns = pd.DataFrame(columns = X_train.columns)\n",
    "\n",
    "# for i in sample_columns.columns:\n",
    "    #sample_columns[i] = 0\n",
    "\n",
    "joblib.dump(sample_columns, 'colunas_reduzidas')\n"
   ]
  }
 ],
 "metadata": {
  "kernelspec": {
   "display_name": "Python 3",
   "language": "python",
   "name": "python3"
  },
  "language_info": {
   "codemirror_mode": {
    "name": "ipython",
    "version": 3
   },
   "file_extension": ".py",
   "mimetype": "text/x-python",
   "name": "python",
   "nbconvert_exporter": "python",
   "pygments_lexer": "ipython3",
   "version": "3.10.11"
  },
  "orig_nbformat": 4
 },
 "nbformat": 4,
 "nbformat_minor": 2
}
