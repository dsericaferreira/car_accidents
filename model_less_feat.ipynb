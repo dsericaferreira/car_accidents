{
 "cells": [
  {
   "cell_type": "code",
   "execution_count": 66,
   "metadata": {},
   "outputs": [
    {
     "name": "stderr",
     "output_type": "stream",
     "text": [
      "[nltk_data] Downloading package punkt to\n",
      "[nltk_data]     C:\\Users\\vferr\\AppData\\Roaming\\nltk_data...\n",
      "[nltk_data]   Package punkt is already up-to-date!\n",
      "[nltk_data] Downloading package stopwords to\n",
      "[nltk_data]     C:\\Users\\vferr\\AppData\\Roaming\\nltk_data...\n",
      "[nltk_data]   Package stopwords is already up-to-date!\n"
     ]
    },
    {
     "data": {
      "text/plain": [
       "True"
      ]
     },
     "execution_count": 66,
     "metadata": {},
     "output_type": "execute_result"
    }
   ],
   "source": [
    "import pandas as pd\n",
    "import seaborn as sns\n",
    "import matplotlib.pyplot as plt\n",
    "from sklearn.feature_selection import mutual_info_regression\n",
    "import numpy as np\n",
    "import datetime\n",
    "from imblearn.over_sampling import RandomOverSampler\n",
    "from imblearn.under_sampling import RandomUnderSampler\n",
    "from imblearn.over_sampling import SMOTE\n",
    "from sklearn.metrics import classification_report\n",
    "from sklearn.neural_network import MLPClassifier\n",
    "from sklearn.model_selection import train_test_split\n",
    "from sklearn.preprocessing import MinMaxScaler\n",
    "from scipy.stats import chi2_contingency\n",
    "from keras.models import Sequential\n",
    "from keras.layers import Dense, Activation,  BatchNormalization, Dropout\n",
    "import joblib\n",
    "from sklearn.preprocessing import StandardScaler\n",
    "\n",
    "from keras.models import load_model\n",
    "\n",
    "import nltk\n",
    "from nltk.corpus import stopwords\n",
    "from nltk.tokenize import word_tokenize\n",
    "import spacy\n",
    "\n",
    "# Download NLTK resources if you haven't already\n",
    "nltk.download('punkt')\n",
    "nltk.download('stopwords')\n",
    "\n",
    "\n",
    " \n",
    "\n"
   ]
  },
  {
   "cell_type": "code",
   "execution_count": 67,
   "metadata": {},
   "outputs": [],
   "source": [
    "##! pip install --upgrade pydantic\n"
   ]
  },
  {
   "cell_type": "code",
   "execution_count": 68,
   "metadata": {},
   "outputs": [
    {
     "name": "stderr",
     "output_type": "stream",
     "text": [
      "C:\\Users\\vferr\\AppData\\Local\\Temp\\ipykernel_12756\\4224766566.py:1: DtypeWarning: Columns (6,7) have mixed types. Specify dtype option on import or set low_memory=False.\n",
      "  data = pd.read_csv('preprocess_data.csv')\n"
     ]
    }
   ],
   "source": [
    "data = pd.read_csv('preprocess_data.csv')"
   ]
  },
  {
   "cell_type": "code",
   "execution_count": 69,
   "metadata": {},
   "outputs": [],
   "source": [
    "## Garantir que minha coluna ANO está no formato de int\n",
    "data.ano = data.ano.astype(int)"
   ]
  },
  {
   "cell_type": "code",
   "execution_count": 70,
   "metadata": {},
   "outputs": [],
   "source": [
    "for column in data.columns:\n",
    "    if data[column].dtype == 'O':\n",
    "        data[column] = data[column].str.lower()\n",
    "        data[column] = data[column].replace(\n",
    "            '(null)', 'unknown').replace('0', 'unknown')\n",
    "        data[column] = data[column].str.encode(\n",
    "            'ISO-8859-1').str.decode('utf-8', 'ignore')\n",
    "        data[column] = data[column].fillna('unknown')\n",
    "    else:\n",
    "        data[column] = data[column].fillna(-99999999)\n"
   ]
  },
  {
   "cell_type": "code",
   "execution_count": 71,
   "metadata": {},
   "outputs": [
    {
     "data": {
      "text/plain": [
       "array(['101.0', '116.0', '163.0', '376.0', '262.0', '381.0', '465.0',\n",
       "       '392.0', '316.0', '50.0', '365.0', '290.0', '386.0', '40.0',\n",
       "       '324.0', '364.0', '407.0', '210.0', '412.0', '428.0', '280.0',\n",
       "       '470.0', '20.0', '480.0', '158.0', '153.0', '222.0', '277.0',\n",
       "       '282.0', '251.0', '70.0', '459.0', '259.0', '493.0', '230.0',\n",
       "       '110.0', '343.0', '242.0', '285.0', '60.0', '319.0', '174.0',\n",
       "       '232.0', '467.0', '405.0', '476.0', '10.0', '410.0', '423.0',\n",
       "       '155.0', '287.0', '393.0', '421.0', '452.0', '356.0', '472.0',\n",
       "       '414.0', '135.0', '435.0', '373.0', '432.0', '226.0', '369.0',\n",
       "       '354.0', '267.0', 'unknown', '408.0', '359.0', '471.0', '349.0',\n",
       "       '304.0', '424.0', '463.0', '293.0', '80.0', '146.0', '235.0',\n",
       "       '30.0', '104.0', '468.0', '448.0', '430.0', '406.0', '330.0',\n",
       "       '415.0', '402.0', '361.0', '487.0', '272.0', '427.0', '367.0',\n",
       "       '495.0', '122.0', '419.0', '429.0', '401.0', '420.0', '436.0',\n",
       "       '308.0', '317.0', '156.0', '469.0', '418.0', '425.0', '416.0',\n",
       "       '488.0', '447.0', '437.0', '434.0', '352.0', '342.0', '403.0',\n",
       "       '433.0', '485.0', '422.0', '265.0', '482.0', '484.0', '475.0',\n",
       "       '426.0', '477.0', '457.0', '120.0', '383.0', '498.0', '377.0',\n",
       "       '451.0', '404.0', '473.0', '101', '277', '476', '282', '50', '163',\n",
       "       '230', '174', '40', '60', '116', '222', '376', '386', '153', '135',\n",
       "       '158', '262', '381', '232', '470', '285', '401', '226', '104',\n",
       "       '365', '235', '343', '287', '316', '242', '267', '393', '369',\n",
       "       '364', '423', '465', '70', '10', '110', '414', '459', '373', '415',\n",
       "       '280', '392', '290', '324', '319', '471', '259', '304', '251',\n",
       "       '20', '424', '356', '428', '407', '80', '493', '330', '156', '377',\n",
       "       '405', '408', '463', '410', '354', '432', '472', '293', '361',\n",
       "       '473', '402', '317', '487', '406', '272', '155', '427', '367',\n",
       "       '452', '146', '480', '467', '412', '308', '495', '488', '210',\n",
       "       '425', '469', '419', '468', '418', '404', '448', '429', '450',\n",
       "       '359', '30', '474', '460', '485', '349', '4', '447', '352', '617',\n",
       "       '580', '420', '221', '560', '84', '687', '178', '601', '605',\n",
       "       '604', '416', '433'], dtype=object)"
      ]
     },
     "execution_count": 71,
     "metadata": {},
     "output_type": "execute_result"
    }
   ],
   "source": [
    "data.br.unique()"
   ]
  },
  {
   "cell_type": "code",
   "execution_count": 72,
   "metadata": {},
   "outputs": [],
   "source": [
    "#### Our approach will be based on the idea of choosing best features, grouping our data \n",
    "#### using those features so We can have the amount of accidents for each combination \n",
    "#### of features. \n",
    "\n",
    "### Since our task is a regression (to predict values, not classes) not a classification\n",
    "### We are not gonna be worried about data balacing. \n",
    "\n",
    "### Now, we are gonna work on the following steps first:\n",
    "\n",
    "# Feature Selection.\n",
    "# Missing values.\n",
    "# Data Transformation: Standardization and Hot Encodings. \n",
    "\n",
    "## Note that in our preprocessing notebook we've already dealed with missing data\n",
    "## turning them into Unknown or (numerical speaking) into -999999999.\n"
   ]
  },
  {
   "cell_type": "code",
   "execution_count": 73,
   "metadata": {},
   "outputs": [],
   "source": [
    "all_columns = [ 'dia_semana', 'horario',\n",
    "        'uf', 'br', 'km', 'municipio', 'causa_acidente', 'tipo_acidente',\n",
    "        'classificacao_acidente', 'fase_dia', 'sentido_via',\n",
    "        'condicao_metereologica', 'tipo_pista', 'tracado_via', 'uso_solo',\n",
    "        'pessoas', 'mortos', 'feridos_leves', 'feridos_graves', 'ilesos',\n",
    "        'ignorados', 'feridos', 'veiculos', 'latitude', 'longitude', 'regional',\n",
    "        'delegacia', 'uop', 'ano']\n",
    "\n",
    "grouped_data = data.groupby(all_columns).size().reset_index(name='num_accidents')\n"
   ]
  },
  {
   "cell_type": "code",
   "execution_count": 74,
   "metadata": {},
   "outputs": [],
   "source": [
    "X = grouped_data.drop('num_accidents', axis=1)\n",
    "\n",
    "Y = grouped_data['num_accidents']"
   ]
  },
  {
   "cell_type": "code",
   "execution_count": 75,
   "metadata": {},
   "outputs": [],
   "source": [
    "### We were gonna use Mutual Information to choose between the features, since We have categorical data\n",
    "### and hot encoding our data now would use more memory than is desirable, but, after a few tries, \n",
    "### the features choices were not consistent, because of that I changed the feature selection algorithm \n",
    "### for Chi-square test.\n",
    "\n",
    "for column in X.columns:\n",
    "    X[column] = X[column].astype('category').cat.codes\n"
   ]
  },
  {
   "cell_type": "code",
   "execution_count": 76,
   "metadata": {},
   "outputs": [],
   "source": [
    "\n",
    "results = dict()\n",
    "\n",
    "for column in X.columns:\n",
    "    contingency_table = pd.crosstab(X[column], Y)\n",
    "\n",
    "    chi2_stat, p_value, dof, expected = chi2_contingency(contingency_table)\n",
    "    if float(p_value) <0.004:\n",
    "        results[column] = p_value\n"
   ]
  },
  {
   "cell_type": "code",
   "execution_count": 11,
   "metadata": {},
   "outputs": [],
   "source": [
    "important_features = list(results.keys())"
   ]
  },
  {
   "cell_type": "code",
   "execution_count": 77,
   "metadata": {},
   "outputs": [
    {
     "data": {
      "text/plain": [
       "['ano', 'br', 'regional']"
      ]
     },
     "execution_count": 77,
     "metadata": {},
     "output_type": "execute_result"
    }
   ],
   "source": [
    "important_features\n"
   ]
  },
  {
   "cell_type": "code",
   "execution_count": 78,
   "metadata": {},
   "outputs": [],
   "source": [
    "### We've got  what we neeed!! Great! \n",
    "# Using \n",
    "# ['br',\n",
    "# 'tipo_acidente',\n",
    "# 'classificacao_acidente',\n",
    "# 'uso_solo',\n",
    "# 'regional',\n",
    "# 'ano']\n",
    "# to predict the number of car_accidents!\n"
   ]
  },
  {
   "cell_type": "code",
   "execution_count": 79,
   "metadata": {},
   "outputs": [],
   "source": [
    "### Now, What If We choose to use - br, regional and ano?"
   ]
  },
  {
   "cell_type": "code",
   "execution_count": 80,
   "metadata": {},
   "outputs": [],
   "source": [
    "important_features = ['ano', 'br', 'regional']\n"
   ]
  },
  {
   "cell_type": "code",
   "execution_count": 85,
   "metadata": {},
   "outputs": [],
   "source": [
    "dataset = data.groupby(important_features).size().reset_index(name='num_accidents')"
   ]
  },
  {
   "cell_type": "code",
   "execution_count": 86,
   "metadata": {},
   "outputs": [
    {
     "data": {
      "text/plain": [
       "928.8547047970479"
      ]
     },
     "execution_count": 86,
     "metadata": {},
     "output_type": "execute_result"
    }
   ],
   "source": [
    "dataset['num_accidents'].mean()\n"
   ]
  },
  {
   "cell_type": "code",
   "execution_count": 87,
   "metadata": {},
   "outputs": [],
   "source": [
    "### Let´s hot encode our categorical features and normalize our num_accidents"
   ]
  },
  {
   "cell_type": "code",
   "execution_count": 89,
   "metadata": {},
   "outputs": [],
   "source": [
    "scaler = MinMaxScaler()\n",
    "dataset['num_accidents_norm'] = scaler.fit_transform(dataset[['num_accidents']])\n",
    "\n",
    "scaler = StandardScaler()\n",
    "\n",
    "anos = dataset['ano'].values.reshape(-1, 1)\n",
    "scaled_ano = scaler.fit_transform(anos)\n",
    "\n",
    "dataset['ano'] = scaled_ano\n"
   ]
  },
  {
   "cell_type": "code",
   "execution_count": 90,
   "metadata": {},
   "outputs": [
    {
     "data": {
      "text/plain": [
       "Index(['ano', 'br', 'regional', 'num_accidents', 'num_accidents_norm'], dtype='object')"
      ]
     },
     "execution_count": 90,
     "metadata": {},
     "output_type": "execute_result"
    }
   ],
   "source": [
    "dataset.columns"
   ]
  },
  {
   "cell_type": "code",
   "execution_count": 91,
   "metadata": {},
   "outputs": [],
   "source": [
    "dataset_ = pd.get_dummies(dataset, columns=['br', 'regional'], drop_first=True)\n"
   ]
  },
  {
   "cell_type": "code",
   "execution_count": 92,
   "metadata": {},
   "outputs": [],
   "source": [
    "X = dataset_.drop([\"num_accidents\", \"num_accidents_norm\"], axis=1)\n",
    "Y = dataset_['num_accidents_norm']\n"
   ]
  },
  {
   "cell_type": "code",
   "execution_count": 93,
   "metadata": {},
   "outputs": [
    {
     "data": {
      "text/plain": [
       "Index(['ano', 'br_10.0', 'br_101', 'br_101.0', 'br_104', 'br_104.0', 'br_110',\n",
       "       'br_110.0', 'br_116', 'br_116.0',\n",
       "       ...\n",
       "       'regional_sprf-rn', 'regional_sprf-ro', 'regional_sprf-rr',\n",
       "       'regional_sprf-rs', 'regional_sprf-sc', 'regional_sprf-se',\n",
       "       'regional_sprf-sp', 'regional_sprf-to', 'regional_uniprf',\n",
       "       'regional_unknown'],\n",
       "      dtype='object', length=278)"
      ]
     },
     "execution_count": 93,
     "metadata": {},
     "output_type": "execute_result"
    }
   ],
   "source": [
    "X.columns"
   ]
  },
  {
   "cell_type": "code",
   "execution_count": 94,
   "metadata": {},
   "outputs": [],
   "source": [
    "for i in X.columns:\n",
    "    if i != 'ano':\n",
    "        X[i] = [0 if x == False else 1 for x in X[i]]\n",
    "\n"
   ]
  },
  {
   "cell_type": "code",
   "execution_count": 95,
   "metadata": {},
   "outputs": [
    {
     "data": {
      "text/html": [
       "<div>\n",
       "<style scoped>\n",
       "    .dataframe tbody tr th:only-of-type {\n",
       "        vertical-align: middle;\n",
       "    }\n",
       "\n",
       "    .dataframe tbody tr th {\n",
       "        vertical-align: top;\n",
       "    }\n",
       "\n",
       "    .dataframe thead th {\n",
       "        text-align: right;\n",
       "    }\n",
       "</style>\n",
       "<table border=\"1\" class=\"dataframe\">\n",
       "  <thead>\n",
       "    <tr style=\"text-align: right;\">\n",
       "      <th></th>\n",
       "      <th>ano</th>\n",
       "      <th>br_10.0</th>\n",
       "      <th>br_101</th>\n",
       "      <th>br_101.0</th>\n",
       "      <th>br_104</th>\n",
       "      <th>br_104.0</th>\n",
       "      <th>br_110</th>\n",
       "      <th>br_110.0</th>\n",
       "      <th>br_116</th>\n",
       "      <th>br_116.0</th>\n",
       "      <th>...</th>\n",
       "      <th>regional_sprf-rn</th>\n",
       "      <th>regional_sprf-ro</th>\n",
       "      <th>regional_sprf-rr</th>\n",
       "      <th>regional_sprf-rs</th>\n",
       "      <th>regional_sprf-sc</th>\n",
       "      <th>regional_sprf-se</th>\n",
       "      <th>regional_sprf-sp</th>\n",
       "      <th>regional_sprf-to</th>\n",
       "      <th>regional_uniprf</th>\n",
       "      <th>regional_unknown</th>\n",
       "    </tr>\n",
       "  </thead>\n",
       "  <tbody>\n",
       "    <tr>\n",
       "      <th>0</th>\n",
       "      <td>-2.590728</td>\n",
       "      <td>0</td>\n",
       "      <td>0</td>\n",
       "      <td>0</td>\n",
       "      <td>0</td>\n",
       "      <td>0</td>\n",
       "      <td>0</td>\n",
       "      <td>0</td>\n",
       "      <td>0</td>\n",
       "      <td>0</td>\n",
       "      <td>...</td>\n",
       "      <td>0</td>\n",
       "      <td>0</td>\n",
       "      <td>0</td>\n",
       "      <td>0</td>\n",
       "      <td>0</td>\n",
       "      <td>0</td>\n",
       "      <td>0</td>\n",
       "      <td>0</td>\n",
       "      <td>0</td>\n",
       "      <td>1</td>\n",
       "    </tr>\n",
       "    <tr>\n",
       "      <th>1</th>\n",
       "      <td>-2.590728</td>\n",
       "      <td>0</td>\n",
       "      <td>1</td>\n",
       "      <td>0</td>\n",
       "      <td>0</td>\n",
       "      <td>0</td>\n",
       "      <td>0</td>\n",
       "      <td>0</td>\n",
       "      <td>0</td>\n",
       "      <td>0</td>\n",
       "      <td>...</td>\n",
       "      <td>0</td>\n",
       "      <td>0</td>\n",
       "      <td>0</td>\n",
       "      <td>0</td>\n",
       "      <td>0</td>\n",
       "      <td>0</td>\n",
       "      <td>0</td>\n",
       "      <td>0</td>\n",
       "      <td>0</td>\n",
       "      <td>1</td>\n",
       "    </tr>\n",
       "    <tr>\n",
       "      <th>2</th>\n",
       "      <td>-2.590728</td>\n",
       "      <td>0</td>\n",
       "      <td>0</td>\n",
       "      <td>0</td>\n",
       "      <td>1</td>\n",
       "      <td>0</td>\n",
       "      <td>0</td>\n",
       "      <td>0</td>\n",
       "      <td>0</td>\n",
       "      <td>0</td>\n",
       "      <td>...</td>\n",
       "      <td>0</td>\n",
       "      <td>0</td>\n",
       "      <td>0</td>\n",
       "      <td>0</td>\n",
       "      <td>0</td>\n",
       "      <td>0</td>\n",
       "      <td>0</td>\n",
       "      <td>0</td>\n",
       "      <td>0</td>\n",
       "      <td>1</td>\n",
       "    </tr>\n",
       "    <tr>\n",
       "      <th>3</th>\n",
       "      <td>-2.590728</td>\n",
       "      <td>0</td>\n",
       "      <td>0</td>\n",
       "      <td>0</td>\n",
       "      <td>0</td>\n",
       "      <td>0</td>\n",
       "      <td>1</td>\n",
       "      <td>0</td>\n",
       "      <td>0</td>\n",
       "      <td>0</td>\n",
       "      <td>...</td>\n",
       "      <td>0</td>\n",
       "      <td>0</td>\n",
       "      <td>0</td>\n",
       "      <td>0</td>\n",
       "      <td>0</td>\n",
       "      <td>0</td>\n",
       "      <td>0</td>\n",
       "      <td>0</td>\n",
       "      <td>0</td>\n",
       "      <td>1</td>\n",
       "    </tr>\n",
       "    <tr>\n",
       "      <th>4</th>\n",
       "      <td>-2.590728</td>\n",
       "      <td>0</td>\n",
       "      <td>0</td>\n",
       "      <td>0</td>\n",
       "      <td>0</td>\n",
       "      <td>0</td>\n",
       "      <td>0</td>\n",
       "      <td>0</td>\n",
       "      <td>1</td>\n",
       "      <td>0</td>\n",
       "      <td>...</td>\n",
       "      <td>0</td>\n",
       "      <td>0</td>\n",
       "      <td>0</td>\n",
       "      <td>0</td>\n",
       "      <td>0</td>\n",
       "      <td>0</td>\n",
       "      <td>0</td>\n",
       "      <td>0</td>\n",
       "      <td>0</td>\n",
       "      <td>1</td>\n",
       "    </tr>\n",
       "    <tr>\n",
       "      <th>...</th>\n",
       "      <td>...</td>\n",
       "      <td>...</td>\n",
       "      <td>...</td>\n",
       "      <td>...</td>\n",
       "      <td>...</td>\n",
       "      <td>...</td>\n",
       "      <td>...</td>\n",
       "      <td>...</td>\n",
       "      <td>...</td>\n",
       "      <td>...</td>\n",
       "      <td>...</td>\n",
       "      <td>...</td>\n",
       "      <td>...</td>\n",
       "      <td>...</td>\n",
       "      <td>...</td>\n",
       "      <td>...</td>\n",
       "      <td>...</td>\n",
       "      <td>...</td>\n",
       "      <td>...</td>\n",
       "      <td>...</td>\n",
       "      <td>...</td>\n",
       "    </tr>\n",
       "    <tr>\n",
       "      <th>2163</th>\n",
       "      <td>1.099764</td>\n",
       "      <td>0</td>\n",
       "      <td>0</td>\n",
       "      <td>0</td>\n",
       "      <td>0</td>\n",
       "      <td>0</td>\n",
       "      <td>0</td>\n",
       "      <td>0</td>\n",
       "      <td>0</td>\n",
       "      <td>0</td>\n",
       "      <td>...</td>\n",
       "      <td>0</td>\n",
       "      <td>0</td>\n",
       "      <td>0</td>\n",
       "      <td>0</td>\n",
       "      <td>0</td>\n",
       "      <td>1</td>\n",
       "      <td>0</td>\n",
       "      <td>0</td>\n",
       "      <td>0</td>\n",
       "      <td>0</td>\n",
       "    </tr>\n",
       "    <tr>\n",
       "      <th>2164</th>\n",
       "      <td>1.099764</td>\n",
       "      <td>0</td>\n",
       "      <td>0</td>\n",
       "      <td>0</td>\n",
       "      <td>0</td>\n",
       "      <td>0</td>\n",
       "      <td>0</td>\n",
       "      <td>0</td>\n",
       "      <td>0</td>\n",
       "      <td>0</td>\n",
       "      <td>...</td>\n",
       "      <td>0</td>\n",
       "      <td>0</td>\n",
       "      <td>0</td>\n",
       "      <td>0</td>\n",
       "      <td>0</td>\n",
       "      <td>0</td>\n",
       "      <td>1</td>\n",
       "      <td>0</td>\n",
       "      <td>0</td>\n",
       "      <td>0</td>\n",
       "    </tr>\n",
       "    <tr>\n",
       "      <th>2165</th>\n",
       "      <td>1.099764</td>\n",
       "      <td>0</td>\n",
       "      <td>0</td>\n",
       "      <td>0</td>\n",
       "      <td>0</td>\n",
       "      <td>0</td>\n",
       "      <td>0</td>\n",
       "      <td>0</td>\n",
       "      <td>0</td>\n",
       "      <td>0</td>\n",
       "      <td>...</td>\n",
       "      <td>0</td>\n",
       "      <td>0</td>\n",
       "      <td>0</td>\n",
       "      <td>0</td>\n",
       "      <td>0</td>\n",
       "      <td>0</td>\n",
       "      <td>0</td>\n",
       "      <td>1</td>\n",
       "      <td>0</td>\n",
       "      <td>0</td>\n",
       "    </tr>\n",
       "    <tr>\n",
       "      <th>2166</th>\n",
       "      <td>1.099764</td>\n",
       "      <td>0</td>\n",
       "      <td>0</td>\n",
       "      <td>0</td>\n",
       "      <td>0</td>\n",
       "      <td>0</td>\n",
       "      <td>0</td>\n",
       "      <td>0</td>\n",
       "      <td>0</td>\n",
       "      <td>0</td>\n",
       "      <td>...</td>\n",
       "      <td>0</td>\n",
       "      <td>0</td>\n",
       "      <td>0</td>\n",
       "      <td>0</td>\n",
       "      <td>0</td>\n",
       "      <td>0</td>\n",
       "      <td>0</td>\n",
       "      <td>0</td>\n",
       "      <td>1</td>\n",
       "      <td>0</td>\n",
       "    </tr>\n",
       "    <tr>\n",
       "      <th>2167</th>\n",
       "      <td>1.099764</td>\n",
       "      <td>0</td>\n",
       "      <td>0</td>\n",
       "      <td>0</td>\n",
       "      <td>0</td>\n",
       "      <td>0</td>\n",
       "      <td>0</td>\n",
       "      <td>0</td>\n",
       "      <td>0</td>\n",
       "      <td>0</td>\n",
       "      <td>...</td>\n",
       "      <td>0</td>\n",
       "      <td>0</td>\n",
       "      <td>0</td>\n",
       "      <td>0</td>\n",
       "      <td>0</td>\n",
       "      <td>0</td>\n",
       "      <td>0</td>\n",
       "      <td>0</td>\n",
       "      <td>0</td>\n",
       "      <td>1</td>\n",
       "    </tr>\n",
       "  </tbody>\n",
       "</table>\n",
       "<p>2168 rows × 278 columns</p>\n",
       "</div>"
      ],
      "text/plain": [
       "           ano  br_10.0  br_101  br_101.0  br_104  br_104.0  br_110  br_110.0   \n",
       "0    -2.590728        0       0         0       0         0       0         0  \\\n",
       "1    -2.590728        0       1         0       0         0       0         0   \n",
       "2    -2.590728        0       0         0       1         0       0         0   \n",
       "3    -2.590728        0       0         0       0         0       1         0   \n",
       "4    -2.590728        0       0         0       0         0       0         0   \n",
       "...        ...      ...     ...       ...     ...       ...     ...       ...   \n",
       "2163  1.099764        0       0         0       0         0       0         0   \n",
       "2164  1.099764        0       0         0       0         0       0         0   \n",
       "2165  1.099764        0       0         0       0         0       0         0   \n",
       "2166  1.099764        0       0         0       0         0       0         0   \n",
       "2167  1.099764        0       0         0       0         0       0         0   \n",
       "\n",
       "      br_116  br_116.0  ...  regional_sprf-rn  regional_sprf-ro   \n",
       "0          0         0  ...                 0                 0  \\\n",
       "1          0         0  ...                 0                 0   \n",
       "2          0         0  ...                 0                 0   \n",
       "3          0         0  ...                 0                 0   \n",
       "4          1         0  ...                 0                 0   \n",
       "...      ...       ...  ...               ...               ...   \n",
       "2163       0         0  ...                 0                 0   \n",
       "2164       0         0  ...                 0                 0   \n",
       "2165       0         0  ...                 0                 0   \n",
       "2166       0         0  ...                 0                 0   \n",
       "2167       0         0  ...                 0                 0   \n",
       "\n",
       "      regional_sprf-rr  regional_sprf-rs  regional_sprf-sc  regional_sprf-se   \n",
       "0                    0                 0                 0                 0  \\\n",
       "1                    0                 0                 0                 0   \n",
       "2                    0                 0                 0                 0   \n",
       "3                    0                 0                 0                 0   \n",
       "4                    0                 0                 0                 0   \n",
       "...                ...               ...               ...               ...   \n",
       "2163                 0                 0                 0                 1   \n",
       "2164                 0                 0                 0                 0   \n",
       "2165                 0                 0                 0                 0   \n",
       "2166                 0                 0                 0                 0   \n",
       "2167                 0                 0                 0                 0   \n",
       "\n",
       "      regional_sprf-sp  regional_sprf-to  regional_uniprf  regional_unknown  \n",
       "0                    0                 0                0                 1  \n",
       "1                    0                 0                0                 1  \n",
       "2                    0                 0                0                 1  \n",
       "3                    0                 0                0                 1  \n",
       "4                    0                 0                0                 1  \n",
       "...                ...               ...              ...               ...  \n",
       "2163                 0                 0                0                 0  \n",
       "2164                 1                 0                0                 0  \n",
       "2165                 0                 1                0                 0  \n",
       "2166                 0                 0                1                 0  \n",
       "2167                 0                 0                0                 1  \n",
       "\n",
       "[2168 rows x 278 columns]"
      ]
     },
     "execution_count": 95,
     "metadata": {},
     "output_type": "execute_result"
    }
   ],
   "source": [
    "X"
   ]
  },
  {
   "cell_type": "code",
   "execution_count": 96,
   "metadata": {},
   "outputs": [],
   "source": [
    "X_train, X_test, y_train, y_teste = train_test_split(X, Y, random_state=32, test_size=0.3)"
   ]
  },
  {
   "cell_type": "code",
   "execution_count": 97,
   "metadata": {},
   "outputs": [],
   "source": [
    "## We are gonna create a MLP neural Network using Sequential from keras. \n",
    "## I am also adding BatchNormalization - To imporve stability and performance.\n",
    "## As also output dropout - to prevent overfitting.  "
   ]
  },
  {
   "cell_type": "code",
   "execution_count": 98,
   "metadata": {},
   "outputs": [],
   "source": [
    "### Before We start our neural network, we must work with a few steps:\n",
    "\n",
    "# 1 - Let's choose our sctivation function (We chose ReLu) so We can initalize our weights(he_normal).\n",
    "# 2 - Remeber to add Batch  normalization and dropouts - our probability in droping out a neuron is of 0.2 (the best response), which means 20%.\n",
    "# 3 - Let's choose our optimizer (ADAM) and loss-function - I chose mean_squared_error which makes a lot of sense for me, since We have a regression problem.\n",
    "\n"
   ]
  },
  {
   "cell_type": "code",
   "execution_count": 99,
   "metadata": {},
   "outputs": [
    {
     "data": {
      "text/plain": [
       "ano                 float64\n",
       "br_10.0               int64\n",
       "br_101                int64\n",
       "br_101.0              int64\n",
       "br_104                int64\n",
       "                     ...   \n",
       "regional_sprf-se      int64\n",
       "regional_sprf-sp      int64\n",
       "regional_sprf-to      int64\n",
       "regional_uniprf       int64\n",
       "regional_unknown      int64\n",
       "Length: 278, dtype: object"
      ]
     },
     "execution_count": 99,
     "metadata": {},
     "output_type": "execute_result"
    }
   ],
   "source": [
    "X_train.dtypes"
   ]
  },
  {
   "cell_type": "code",
   "execution_count": 100,
   "metadata": {},
   "outputs": [],
   "source": [
    "model = Sequential()"
   ]
  },
  {
   "cell_type": "code",
   "execution_count": 101,
   "metadata": {},
   "outputs": [],
   "source": [
    "model.add(\n",
    "    Dense(units=100, input_dim=X_train.shape[1], kernel_initializer='he_normal'))\n",
    "model.add(BatchNormalization())  # Add Batch Normalization\n",
    "model.add(Activation('relu'))\n",
    "model.add(Dropout(0.2))\n"
   ]
  },
  {
   "cell_type": "code",
   "execution_count": 102,
   "metadata": {},
   "outputs": [],
   "source": [
    "model.add(Dense(units=50, kernel_initializer='he_normal'))\n",
    "model.add(BatchNormalization())  # Add Batch Normalization\n",
    "model.add(Activation('relu'))\n",
    "model.add(Dropout(0.2))\n"
   ]
  },
  {
   "cell_type": "code",
   "execution_count": 103,
   "metadata": {},
   "outputs": [],
   "source": [
    "model.add(Dense(units=1, kernel_initializer='he_normal'))\n"
   ]
  },
  {
   "cell_type": "code",
   "execution_count": 104,
   "metadata": {},
   "outputs": [],
   "source": [
    "model.compile(loss='mean_squared_error', optimizer='adam')\n"
   ]
  },
  {
   "cell_type": "code",
   "execution_count": 105,
   "metadata": {},
   "outputs": [
    {
     "name": "stdout",
     "output_type": "stream",
     "text": [
      "Model: \"sequential_1\"\n",
      "_________________________________________________________________\n",
      " Layer (type)                Output Shape              Param #   \n",
      "=================================================================\n",
      " dense_3 (Dense)             (None, 100)               27900     \n",
      "                                                                 \n",
      " batch_normalization_2 (Bat  (None, 100)               400       \n",
      " chNormalization)                                                \n",
      "                                                                 \n",
      " activation_2 (Activation)   (None, 100)               0         \n",
      "                                                                 \n",
      " dropout_2 (Dropout)         (None, 100)               0         \n",
      "                                                                 \n",
      " dense_4 (Dense)             (None, 50)                5050      \n",
      "                                                                 \n",
      " batch_normalization_3 (Bat  (None, 50)                200       \n",
      " chNormalization)                                                \n",
      "                                                                 \n",
      " activation_3 (Activation)   (None, 50)                0         \n",
      "                                                                 \n",
      " dropout_3 (Dropout)         (None, 50)                0         \n",
      "                                                                 \n",
      " dense_5 (Dense)             (None, 1)                 51        \n",
      "                                                                 \n",
      "=================================================================\n",
      "Total params: 33601 (131.25 KB)\n",
      "Trainable params: 33301 (130.08 KB)\n",
      "Non-trainable params: 300 (1.17 KB)\n",
      "_________________________________________________________________\n"
     ]
    }
   ],
   "source": [
    "model.summary()\n"
   ]
  },
  {
   "cell_type": "code",
   "execution_count": 106,
   "metadata": {},
   "outputs": [
    {
     "name": "stdout",
     "output_type": "stream",
     "text": [
      "Epoch 1/10\n"
     ]
    },
    {
     "name": "stdout",
     "output_type": "stream",
     "text": [
      "38/38 [==============================] - 1s 4ms/step - loss: 0.6364 - val_loss: 0.0136\n",
      "Epoch 2/10\n",
      "38/38 [==============================] - 0s 2ms/step - loss: 0.3383 - val_loss: 0.0119\n",
      "Epoch 3/10\n",
      "38/38 [==============================] - 0s 2ms/step - loss: 0.2657 - val_loss: 0.0075\n",
      "Epoch 4/10\n",
      "38/38 [==============================] - 0s 2ms/step - loss: 0.2168 - val_loss: 0.0074\n",
      "Epoch 5/10\n",
      "38/38 [==============================] - 0s 2ms/step - loss: 0.1632 - val_loss: 0.0102\n",
      "Epoch 6/10\n",
      "38/38 [==============================] - 0s 2ms/step - loss: 0.1496 - val_loss: 0.0079\n",
      "Epoch 7/10\n",
      "38/38 [==============================] - 0s 2ms/step - loss: 0.1309 - val_loss: 0.0077\n",
      "Epoch 8/10\n",
      "38/38 [==============================] - 0s 2ms/step - loss: 0.1089 - val_loss: 0.0093\n",
      "Epoch 9/10\n",
      "38/38 [==============================] - 0s 2ms/step - loss: 0.0841 - val_loss: 0.0060\n",
      "Epoch 10/10\n",
      "38/38 [==============================] - 0s 2ms/step - loss: 0.0742 - val_loss: 0.0058\n"
     ]
    },
    {
     "data": {
      "image/png": "[encoded data removed]",
      "text/plain": [
       "<Figure size 640x480 with 1 Axes>"
      ]
     },
     "metadata": {},
     "output_type": "display_data"
    }
   ],
   "source": [
    "training = model.fit(X_train, y_train, validation_split=0.2,\n",
    "                    epochs=10, batch_size=32)\n",
    "\n",
    "## Monitor:\n",
    "\n",
    "\n",
    "loss = training.history['loss']\n",
    "val_loss = training.history['val_loss']\n",
    "\n",
    "# Plot training and validation loss\n",
    "plt.plot(loss, label='Training Loss')\n",
    "plt.plot(val_loss, label='Validation Loss')\n",
    "plt.xlabel('Epochs')\n",
    "plt.ylabel('Loss')\n",
    "plt.legend()\n",
    "plt.show()\n"
   ]
  },
  {
   "cell_type": "code",
   "execution_count": 107,
   "metadata": {},
   "outputs": [
    {
     "name": "stdout",
     "output_type": "stream",
     "text": [
      "21/21 [==============================] - 0s 705us/step - loss: 0.0069\n",
      "Test Loss: 0.006940142717212439\n"
     ]
    }
   ],
   "source": [
    "test_loss = model.evaluate(X_test, y_teste)\n",
    "print(f'Test Loss: {test_loss}')\n"
   ]
  },
  {
   "cell_type": "code",
   "execution_count": 108,
   "metadata": {},
   "outputs": [
    {
     "name": "stdout",
     "output_type": "stream",
     "text": [
      "21/21 [==============================] - 0s 636us/step\n"
     ]
    }
   ],
   "source": [
    "y_pred = model.predict(X_test)\n"
   ]
  },
  {
   "cell_type": "code",
   "execution_count": 109,
   "metadata": {},
   "outputs": [
    {
     "name": "stdout",
     "output_type": "stream",
     "text": [
      "Mean Absolute Error (MAE): 0.06053861766080007\n",
      "Root Mean Squared Error (RMSE): 0.08330752147278782\n"
     ]
    }
   ],
   "source": [
    "mae = np.mean(np.abs(y_pred.flatten() - y_teste))\n",
    "print(f'Mean Absolute Error (MAE): {mae}')\n",
    "\n",
    "rmse = np.sqrt(np.mean((y_pred.flatten() - y_teste)**2))\n",
    "print(f'Root Mean Squared Error (RMSE): {rmse}')\n"
   ]
  },
  {
   "cell_type": "code",
   "execution_count": 110,
   "metadata": {},
   "outputs": [
    {
     "name": "stderr",
     "output_type": "stream",
     "text": [
      "C:\\Users\\vferr\\AppData\\Local\\Packages\\PythonSoftwareFoundation.Python.3.10_qbz5n2kfra8p0\\LocalCache\\local-packages\\Python310\\site-packages\\keras\\src\\engine\\training.py:3000: UserWarning: You are saving your model as an HDF5 file via `model.save()`. This file format is considered legacy. We recommend using instead the native Keras format, e.g. `model.save('my_model.keras')`.\n",
      "  saving_api.save_model(\n"
     ]
    }
   ],
   "source": [
    "model.save('mlp_model_features_reduced.h5')"
   ]
  },
  {
   "cell_type": "code",
   "execution_count": 111,
   "metadata": {},
   "outputs": [
    {
     "data": {
      "text/plain": [
       "['mlp_model_features_reduced.pkl']"
      ]
     },
     "execution_count": 111,
     "metadata": {},
     "output_type": "execute_result"
    }
   ],
   "source": [
    "model = load_model('mlp_model_features_reduced.h5')\n",
    "\n",
    "joblib.dump(model, 'mlp_model_features_reduced.pkl')\n"
   ]
  },
  {
   "cell_type": "code",
   "execution_count": 112,
   "metadata": {},
   "outputs": [
    {
     "data": {
      "text/plain": [
       "['colunas_reduzidas']"
      ]
     },
     "execution_count": 112,
     "metadata": {},
     "output_type": "execute_result"
    }
   ],
   "source": [
    "sample_columns = pd.DataFrame(columns = X_train.columns)\n",
    "\n",
    "# for i in sample_columns.columns:\n",
    "    #sample_columns[i] = 0\n",
    "\n",
    "joblib.dump(sample_columns, 'colunas_reduzidas')\n"
   ]
  },
  {
   "cell_type": "code",
   "execution_count": 113,
   "metadata": {},
   "outputs": [
    {
     "data": {
      "text/plain": [
       "ano            2023\n",
       "br            101.0\n",
       "regional    sprf-pe\n",
       "Name: 100, dtype: object"
      ]
     },
     "execution_count": 113,
     "metadata": {},
     "output_type": "execute_result"
    }
   ],
   "source": [
    "data.iloc[100][important_features]"
   ]
  }
 ],
 "metadata": {
  "kernelspec": {
   "display_name": "Python 3",
   "language": "python",
   "name": "python3"
  },
  "language_info": {
   "codemirror_mode": {
    "name": "ipython",
    "version": 3
   },
   "file_extension": ".py",
   "mimetype": "text/x-python",
   "name": "python",
   "nbconvert_exporter": "python",
   "pygments_lexer": "ipython3",
   "version": "3.10.11"
  },
  "orig_nbformat": 4
 },
 "nbformat": 4,
 "nbformat_minor": 2
}
