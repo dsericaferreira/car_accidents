{
 "cells": [
  {
   "cell_type": "code",
   "execution_count": 1,
   "metadata": {},
   "outputs": [],
   "source": [
    "import pandas as pd\n",
    "import seaborn as sns\n",
    "import matplotlib.pyplot as plt\n",
    "from sklearn.feature_selection import mutual_info_regression\n",
    "import numpy as np\n",
    "import datetime\n",
    "from imblearn.over_sampling import RandomOverSampler\n",
    "from imblearn.under_sampling import RandomUnderSampler\n",
    "from imblearn.over_sampling import SMOTE\n",
    "from sklearn.metrics import classification_report\n",
    "from sklearn.neural_network import MLPClassifier\n",
    "from sklearn.model_selection import train_test_split\n",
    "from sklearn.preprocessing import MinMaxScaler\n",
    "from scipy.stats import chi2_contingency\n",
    "from keras.models import Sequential\n",
    "from keras.layers import Dense, Activation,  BatchNormalization, Dropout\n",
    "import joblib\n",
    "from sklearn.preprocessing import StandardScaler\n",
    "\n",
    "from keras.models import load_model\n",
    "\n",
    "\n",
    "\n",
    "\n"
   ]
  },
  {
   "cell_type": "code",
   "execution_count": 2,
   "metadata": {},
   "outputs": [
    {
     "name": "stderr",
     "output_type": "stream",
     "text": [
      "C:\\Users\\vferr\\AppData\\Local\\Temp\\ipykernel_13952\\4224766566.py:1: DtypeWarning: Columns (6,7) have mixed types. Specify dtype option on import or set low_memory=False.\n",
      "  data = pd.read_csv('preprocess_data.csv')\n"
     ]
    }
   ],
   "source": [
    "data = pd.read_csv('preprocess_data.csv')"
   ]
  },
  {
   "cell_type": "code",
   "execution_count": 3,
   "metadata": {},
   "outputs": [],
   "source": [
    "data.ano = data.ano.astype(int)"
   ]
  },
  {
   "cell_type": "code",
   "execution_count": 4,
   "metadata": {},
   "outputs": [],
   "source": [
    "for column in data.columns:\n",
    "    if data[column].dtype == 'O':\n",
    "        data[column] = data[column].str.lower()\n",
    "        data[column] = data[column].replace(\n",
    "            '(null)', 'unknown').replace('0', 'unknown')\n",
    "        data[column] = data[column].str.encode(\n",
    "            'ISO-8859-1').str.decode('utf-8', 'ignore')\n",
    "        data[column] = data[column].fillna('unknown')\n",
    "    else:\n",
    "        data[column] = data[column].fillna(-99999999)\n"
   ]
  },
  {
   "cell_type": "code",
   "execution_count": 5,
   "metadata": {},
   "outputs": [
    {
     "data": {
      "text/plain": [
       "array(['sprf-es', 'sprf-sp', 'sprf-mt', 'sprf-pr', 'sprf-mg', 'sprf-ba',\n",
       "       'sprf-rj', 'sprf-rs', 'sprf-sc', 'sprf-pi', 'sprf-go', 'sprf-pe',\n",
       "       'sprf-pa', 'sprf-ms', 'sprf-ma', 'sprf-ce', 'sprf-ap', 'sprf-pb',\n",
       "       'sprf-df', 'sprf-se', 'sprf-ro', 'sprf-rn', 'sprf-to', 'sprf-rr',\n",
       "       'sprf-al', 'sprf-ac', 'unknown', 'sprf-am', 'uniprf'], dtype=object)"
      ]
     },
     "execution_count": 5,
     "metadata": {},
     "output_type": "execute_result"
    }
   ],
   "source": [
    "data.regional.unique()"
   ]
  },
  {
   "cell_type": "code",
   "execution_count": 6,
   "metadata": {},
   "outputs": [],
   "source": [
    "#### Our approach will be based on the idea of choosing best features, grouping our data \n",
    "#### using those features so We can have the amount of accidents for each combination \n",
    "#### of features. \n",
    "\n",
    "### Since our task is a regression (to predict values, not classes) not a classification\n",
    "### We are not gonna be worried about data balacing. \n",
    "\n",
    "### Now, we are gonna work on the following steps first:\n",
    "\n",
    "# Feature Selection.\n",
    "# Missing values.\n",
    "# Data Transformation: Standardization and Hot Encodings. \n",
    "\n",
    "## Note that in our preprocessing notebook we've already dealed with missing data\n",
    "## turning them into Unknown or (numerical speaking) into -999999999.\n"
   ]
  },
  {
   "cell_type": "code",
   "execution_count": 7,
   "metadata": {},
   "outputs": [],
   "source": [
    "all_columns = [ 'dia_semana', 'horario',\n",
    "        'uf', 'br', 'km', 'municipio', 'causa_acidente', 'tipo_acidente',\n",
    "        'classificacao_acidente', 'fase_dia', 'sentido_via',\n",
    "        'condicao_metereologica', 'tipo_pista', 'tracado_via', 'uso_solo',\n",
    "        'pessoas', 'mortos', 'feridos_leves', 'feridos_graves', 'ilesos',\n",
    "        'ignorados', 'feridos', 'veiculos', 'latitude', 'longitude', 'regional',\n",
    "        'delegacia', 'uop', 'ano']\n",
    "\n",
    "grouped_data = data.groupby(all_columns).size().reset_index(name='num_accidents')\n"
   ]
  },
  {
   "cell_type": "code",
   "execution_count": 8,
   "metadata": {},
   "outputs": [],
   "source": [
    "X = grouped_data.drop('num_accidents', axis=1)\n",
    "\n",
    "Y = grouped_data['num_accidents']"
   ]
  },
  {
   "cell_type": "code",
   "execution_count": 9,
   "metadata": {},
   "outputs": [],
   "source": [
    "### We were gonna use Mutual Information to choose between the features, since We have categorical data\n",
    "### and hot encoding our data now would use more memory than is desirable, but, after a few tries, \n",
    "### the features choices were not consistent, because of that I changed the feature selection algorithm \n",
    "### for Chi-square test.\n",
    "\n",
    "for column in X.columns:\n",
    "    X[column] = X[column].astype('category').cat.codes\n"
   ]
  },
  {
   "cell_type": "code",
   "execution_count": 10,
   "metadata": {},
   "outputs": [],
   "source": [
    "\n",
    "results = dict()\n",
    "\n",
    "for column in X.columns:\n",
    "    contingency_table = pd.crosstab(X[column], Y)\n",
    "\n",
    "    chi2_stat, p_value, dof, expected = chi2_contingency(contingency_table)\n",
    "    if float(p_value) <0.004:\n",
    "        results[column] = p_value\n"
   ]
  },
  {
   "cell_type": "code",
   "execution_count": 11,
   "metadata": {},
   "outputs": [],
   "source": [
    "important_features = list(results.keys())"
   ]
  },
  {
   "cell_type": "code",
   "execution_count": 12,
   "metadata": {},
   "outputs": [
    {
     "data": {
      "text/plain": [
       "['br',\n",
       " 'tipo_acidente',\n",
       " 'classificacao_acidente',\n",
       " 'uso_solo',\n",
       " 'regional',\n",
       " 'ano']"
      ]
     },
     "execution_count": 12,
     "metadata": {},
     "output_type": "execute_result"
    }
   ],
   "source": [
    "important_features\n"
   ]
  },
  {
   "cell_type": "code",
   "execution_count": 13,
   "metadata": {},
   "outputs": [],
   "source": [
    "### We've got  what we neeed!! Great! \n",
    "# Using \n",
    "# ['br',\n",
    "# 'tipo_acidente',\n",
    "# 'classificacao_acidente',\n",
    "# 'uso_solo',\n",
    "# 'regional',\n",
    "# 'ano']\n",
    "# to predict the number of car_accidents!\n"
   ]
  },
  {
   "cell_type": "code",
   "execution_count": null,
   "metadata": {},
   "outputs": [],
   "source": [
    "###"
   ]
  },
  {
   "cell_type": "code",
   "execution_count": 14,
   "metadata": {},
   "outputs": [
    {
     "data": {
      "text/plain": [
       "['br',\n",
       " 'tipo_acidente',\n",
       " 'classificacao_acidente',\n",
       " 'uso_solo',\n",
       " 'regional',\n",
       " 'ano']"
      ]
     },
     "execution_count": 14,
     "metadata": {},
     "output_type": "execute_result"
    }
   ],
   "source": [
    "important_features"
   ]
  },
  {
   "cell_type": "code",
   "execution_count": 15,
   "metadata": {},
   "outputs": [],
   "source": [
    "dataset = data.groupby(important_features).size().reset_index(name='num_accidents')"
   ]
  },
  {
   "cell_type": "code",
   "execution_count": 17,
   "metadata": {},
   "outputs": [
    {
     "data": {
      "text/plain": [
       "0        1\n",
       "1        1\n",
       "2        1\n",
       "3        1\n",
       "4        1\n",
       "        ..\n",
       "68162    1\n",
       "68163    1\n",
       "68164    1\n",
       "68165    1\n",
       "68166    1\n",
       "Name: num_accidents, Length: 68167, dtype: int64"
      ]
     },
     "execution_count": 17,
     "metadata": {},
     "output_type": "execute_result"
    }
   ],
   "source": [
    "dataset['num_accidents']\n"
   ]
  },
  {
   "cell_type": "code",
   "execution_count": 18,
   "metadata": {},
   "outputs": [],
   "source": [
    "### Let´s hot encode our categorical features and normalize our num_accidents"
   ]
  },
  {
   "cell_type": "code",
   "execution_count": 36,
   "metadata": {},
   "outputs": [],
   "source": [
    "scaler = MinMaxScaler()\n",
    "dataset['num_accidents_norm'] = scaler.fit_transform(dataset[['num_accidents']])\n",
    "\n",
    "scaler = StandardScaler()\n",
    "\n",
    "anos = dataset['ano'].values.reshape(-1, 1)\n",
    "scaled_ano = scaler.fit_transform(anos)\n",
    "\n",
    "dataset['ano'] = scaled_ano\n"
   ]
  },
  {
   "cell_type": "code",
   "execution_count": 37,
   "metadata": {},
   "outputs": [
    {
     "data": {
      "text/plain": [
       "Index(['br', 'tipo_acidente', 'classificacao_acidente', 'uso_solo', 'regional',\n",
       "       'ano', 'num_accidents', 'num_accidents_norm'],\n",
       "      dtype='object')"
      ]
     },
     "execution_count": 37,
     "metadata": {},
     "output_type": "execute_result"
    }
   ],
   "source": [
    "dataset.columns"
   ]
  },
  {
   "cell_type": "code",
   "execution_count": 38,
   "metadata": {},
   "outputs": [],
   "source": [
    "dataset_ = pd.get_dummies(dataset, columns=['br', 'tipo_acidente', 'classificacao_acidente',\n",
    "                                           'uso_solo', 'regional'] , drop_first=True)\n"
   ]
  },
  {
   "cell_type": "code",
   "execution_count": 39,
   "metadata": {},
   "outputs": [],
   "source": [
    "X = dataset_.drop([\"num_accidents\", \"num_accidents_norm\"], axis=1)\n",
    "Y = dataset_['num_accidents_norm']\n"
   ]
  },
  {
   "cell_type": "code",
   "execution_count": 40,
   "metadata": {},
   "outputs": [
    {
     "data": {
      "text/plain": [
       "Index(['ano', 'br_10', 'br_10.0', 'br_101', 'br_101.0', 'br_104', 'br_104.0',\n",
       "       'br_110', 'br_110.0', 'br_116',\n",
       "       ...\n",
       "       'regional_sprf-rn', 'regional_sprf-ro', 'regional_sprf-rr',\n",
       "       'regional_sprf-rs', 'regional_sprf-sc', 'regional_sprf-se',\n",
       "       'regional_sprf-sp', 'regional_sprf-to', 'regional_uniprf',\n",
       "       'regional_unknown'],\n",
       "      dtype='object', length=315)"
      ]
     },
     "execution_count": 40,
     "metadata": {},
     "output_type": "execute_result"
    }
   ],
   "source": [
    "X.columns"
   ]
  },
  {
   "cell_type": "code",
   "execution_count": 41,
   "metadata": {},
   "outputs": [],
   "source": [
    "for i in X.columns:\n",
    "    if i != 'ano':\n",
    "        X[i] = [0 if x == False else 1 for x in X[i]]\n",
    "\n"
   ]
  },
  {
   "cell_type": "code",
   "execution_count": 42,
   "metadata": {},
   "outputs": [
    {
     "data": {
      "text/html": [
       "<div>\n",
       "<style scoped>\n",
       "    .dataframe tbody tr th:only-of-type {\n",
       "        vertical-align: middle;\n",
       "    }\n",
       "\n",
       "    .dataframe tbody tr th {\n",
       "        vertical-align: top;\n",
       "    }\n",
       "\n",
       "    .dataframe thead th {\n",
       "        text-align: right;\n",
       "    }\n",
       "</style>\n",
       "<table border=\"1\" class=\"dataframe\">\n",
       "  <thead>\n",
       "    <tr style=\"text-align: right;\">\n",
       "      <th></th>\n",
       "      <th>ano</th>\n",
       "      <th>br_10</th>\n",
       "      <th>br_10.0</th>\n",
       "      <th>br_101</th>\n",
       "      <th>br_101.0</th>\n",
       "      <th>br_104</th>\n",
       "      <th>br_104.0</th>\n",
       "      <th>br_110</th>\n",
       "      <th>br_110.0</th>\n",
       "      <th>br_116</th>\n",
       "      <th>...</th>\n",
       "      <th>regional_sprf-rn</th>\n",
       "      <th>regional_sprf-ro</th>\n",
       "      <th>regional_sprf-rr</th>\n",
       "      <th>regional_sprf-rs</th>\n",
       "      <th>regional_sprf-sc</th>\n",
       "      <th>regional_sprf-se</th>\n",
       "      <th>regional_sprf-sp</th>\n",
       "      <th>regional_sprf-to</th>\n",
       "      <th>regional_uniprf</th>\n",
       "      <th>regional_unknown</th>\n",
       "    </tr>\n",
       "  </thead>\n",
       "  <tbody>\n",
       "    <tr>\n",
       "      <th>0</th>\n",
       "      <td>-1.302092</td>\n",
       "      <td>0</td>\n",
       "      <td>0</td>\n",
       "      <td>0</td>\n",
       "      <td>0</td>\n",
       "      <td>0</td>\n",
       "      <td>0</td>\n",
       "      <td>0</td>\n",
       "      <td>0</td>\n",
       "      <td>0</td>\n",
       "      <td>...</td>\n",
       "      <td>0</td>\n",
       "      <td>0</td>\n",
       "      <td>0</td>\n",
       "      <td>0</td>\n",
       "      <td>0</td>\n",
       "      <td>0</td>\n",
       "      <td>0</td>\n",
       "      <td>0</td>\n",
       "      <td>0</td>\n",
       "      <td>1</td>\n",
       "    </tr>\n",
       "    <tr>\n",
       "      <th>1</th>\n",
       "      <td>-1.302092</td>\n",
       "      <td>0</td>\n",
       "      <td>0</td>\n",
       "      <td>0</td>\n",
       "      <td>0</td>\n",
       "      <td>0</td>\n",
       "      <td>0</td>\n",
       "      <td>0</td>\n",
       "      <td>0</td>\n",
       "      <td>0</td>\n",
       "      <td>...</td>\n",
       "      <td>0</td>\n",
       "      <td>0</td>\n",
       "      <td>0</td>\n",
       "      <td>0</td>\n",
       "      <td>0</td>\n",
       "      <td>0</td>\n",
       "      <td>0</td>\n",
       "      <td>0</td>\n",
       "      <td>0</td>\n",
       "      <td>1</td>\n",
       "    </tr>\n",
       "    <tr>\n",
       "      <th>2</th>\n",
       "      <td>-1.302092</td>\n",
       "      <td>0</td>\n",
       "      <td>0</td>\n",
       "      <td>0</td>\n",
       "      <td>0</td>\n",
       "      <td>0</td>\n",
       "      <td>0</td>\n",
       "      <td>0</td>\n",
       "      <td>0</td>\n",
       "      <td>0</td>\n",
       "      <td>...</td>\n",
       "      <td>0</td>\n",
       "      <td>0</td>\n",
       "      <td>0</td>\n",
       "      <td>0</td>\n",
       "      <td>0</td>\n",
       "      <td>0</td>\n",
       "      <td>0</td>\n",
       "      <td>0</td>\n",
       "      <td>0</td>\n",
       "      <td>1</td>\n",
       "    </tr>\n",
       "    <tr>\n",
       "      <th>3</th>\n",
       "      <td>-0.419655</td>\n",
       "      <td>0</td>\n",
       "      <td>0</td>\n",
       "      <td>0</td>\n",
       "      <td>0</td>\n",
       "      <td>0</td>\n",
       "      <td>0</td>\n",
       "      <td>0</td>\n",
       "      <td>0</td>\n",
       "      <td>0</td>\n",
       "      <td>...</td>\n",
       "      <td>0</td>\n",
       "      <td>0</td>\n",
       "      <td>0</td>\n",
       "      <td>0</td>\n",
       "      <td>0</td>\n",
       "      <td>0</td>\n",
       "      <td>0</td>\n",
       "      <td>0</td>\n",
       "      <td>0</td>\n",
       "      <td>1</td>\n",
       "    </tr>\n",
       "    <tr>\n",
       "      <th>4</th>\n",
       "      <td>-1.302092</td>\n",
       "      <td>0</td>\n",
       "      <td>0</td>\n",
       "      <td>0</td>\n",
       "      <td>0</td>\n",
       "      <td>0</td>\n",
       "      <td>0</td>\n",
       "      <td>0</td>\n",
       "      <td>0</td>\n",
       "      <td>0</td>\n",
       "      <td>...</td>\n",
       "      <td>0</td>\n",
       "      <td>0</td>\n",
       "      <td>0</td>\n",
       "      <td>0</td>\n",
       "      <td>0</td>\n",
       "      <td>0</td>\n",
       "      <td>0</td>\n",
       "      <td>0</td>\n",
       "      <td>0</td>\n",
       "      <td>1</td>\n",
       "    </tr>\n",
       "    <tr>\n",
       "      <th>...</th>\n",
       "      <td>...</td>\n",
       "      <td>...</td>\n",
       "      <td>...</td>\n",
       "      <td>...</td>\n",
       "      <td>...</td>\n",
       "      <td>...</td>\n",
       "      <td>...</td>\n",
       "      <td>...</td>\n",
       "      <td>...</td>\n",
       "      <td>...</td>\n",
       "      <td>...</td>\n",
       "      <td>...</td>\n",
       "      <td>...</td>\n",
       "      <td>...</td>\n",
       "      <td>...</td>\n",
       "      <td>...</td>\n",
       "      <td>...</td>\n",
       "      <td>...</td>\n",
       "      <td>...</td>\n",
       "      <td>...</td>\n",
       "      <td>...</td>\n",
       "    </tr>\n",
       "    <tr>\n",
       "      <th>68162</th>\n",
       "      <td>-0.199046</td>\n",
       "      <td>0</td>\n",
       "      <td>0</td>\n",
       "      <td>0</td>\n",
       "      <td>0</td>\n",
       "      <td>0</td>\n",
       "      <td>0</td>\n",
       "      <td>0</td>\n",
       "      <td>0</td>\n",
       "      <td>0</td>\n",
       "      <td>...</td>\n",
       "      <td>0</td>\n",
       "      <td>0</td>\n",
       "      <td>0</td>\n",
       "      <td>0</td>\n",
       "      <td>0</td>\n",
       "      <td>0</td>\n",
       "      <td>0</td>\n",
       "      <td>0</td>\n",
       "      <td>0</td>\n",
       "      <td>0</td>\n",
       "    </tr>\n",
       "    <tr>\n",
       "      <th>68163</th>\n",
       "      <td>-0.199046</td>\n",
       "      <td>0</td>\n",
       "      <td>0</td>\n",
       "      <td>0</td>\n",
       "      <td>0</td>\n",
       "      <td>0</td>\n",
       "      <td>0</td>\n",
       "      <td>0</td>\n",
       "      <td>0</td>\n",
       "      <td>0</td>\n",
       "      <td>...</td>\n",
       "      <td>0</td>\n",
       "      <td>1</td>\n",
       "      <td>0</td>\n",
       "      <td>0</td>\n",
       "      <td>0</td>\n",
       "      <td>0</td>\n",
       "      <td>0</td>\n",
       "      <td>0</td>\n",
       "      <td>0</td>\n",
       "      <td>0</td>\n",
       "    </tr>\n",
       "    <tr>\n",
       "      <th>68164</th>\n",
       "      <td>1.124610</td>\n",
       "      <td>0</td>\n",
       "      <td>0</td>\n",
       "      <td>0</td>\n",
       "      <td>0</td>\n",
       "      <td>0</td>\n",
       "      <td>0</td>\n",
       "      <td>0</td>\n",
       "      <td>0</td>\n",
       "      <td>0</td>\n",
       "      <td>...</td>\n",
       "      <td>0</td>\n",
       "      <td>0</td>\n",
       "      <td>0</td>\n",
       "      <td>0</td>\n",
       "      <td>0</td>\n",
       "      <td>1</td>\n",
       "      <td>0</td>\n",
       "      <td>0</td>\n",
       "      <td>0</td>\n",
       "      <td>0</td>\n",
       "    </tr>\n",
       "    <tr>\n",
       "      <th>68165</th>\n",
       "      <td>0.683391</td>\n",
       "      <td>0</td>\n",
       "      <td>0</td>\n",
       "      <td>0</td>\n",
       "      <td>0</td>\n",
       "      <td>0</td>\n",
       "      <td>0</td>\n",
       "      <td>0</td>\n",
       "      <td>0</td>\n",
       "      <td>0</td>\n",
       "      <td>...</td>\n",
       "      <td>0</td>\n",
       "      <td>0</td>\n",
       "      <td>0</td>\n",
       "      <td>0</td>\n",
       "      <td>0</td>\n",
       "      <td>0</td>\n",
       "      <td>0</td>\n",
       "      <td>0</td>\n",
       "      <td>0</td>\n",
       "      <td>0</td>\n",
       "    </tr>\n",
       "    <tr>\n",
       "      <th>68166</th>\n",
       "      <td>0.904001</td>\n",
       "      <td>0</td>\n",
       "      <td>0</td>\n",
       "      <td>0</td>\n",
       "      <td>0</td>\n",
       "      <td>0</td>\n",
       "      <td>0</td>\n",
       "      <td>0</td>\n",
       "      <td>0</td>\n",
       "      <td>0</td>\n",
       "      <td>...</td>\n",
       "      <td>0</td>\n",
       "      <td>0</td>\n",
       "      <td>0</td>\n",
       "      <td>0</td>\n",
       "      <td>0</td>\n",
       "      <td>0</td>\n",
       "      <td>0</td>\n",
       "      <td>0</td>\n",
       "      <td>0</td>\n",
       "      <td>0</td>\n",
       "    </tr>\n",
       "  </tbody>\n",
       "</table>\n",
       "<p>68167 rows × 315 columns</p>\n",
       "</div>"
      ],
      "text/plain": [
       "            ano  br_10  br_10.0  br_101  br_101.0  br_104  br_104.0  br_110   \n",
       "0     -1.302092      0        0       0         0       0         0       0  \\\n",
       "1     -1.302092      0        0       0         0       0         0       0   \n",
       "2     -1.302092      0        0       0         0       0         0       0   \n",
       "3     -0.419655      0        0       0         0       0         0       0   \n",
       "4     -1.302092      0        0       0         0       0         0       0   \n",
       "...         ...    ...      ...     ...       ...     ...       ...     ...   \n",
       "68162 -0.199046      0        0       0         0       0         0       0   \n",
       "68163 -0.199046      0        0       0         0       0         0       0   \n",
       "68164  1.124610      0        0       0         0       0         0       0   \n",
       "68165  0.683391      0        0       0         0       0         0       0   \n",
       "68166  0.904001      0        0       0         0       0         0       0   \n",
       "\n",
       "       br_110.0  br_116  ...  regional_sprf-rn  regional_sprf-ro   \n",
       "0             0       0  ...                 0                 0  \\\n",
       "1             0       0  ...                 0                 0   \n",
       "2             0       0  ...                 0                 0   \n",
       "3             0       0  ...                 0                 0   \n",
       "4             0       0  ...                 0                 0   \n",
       "...         ...     ...  ...               ...               ...   \n",
       "68162         0       0  ...                 0                 0   \n",
       "68163         0       0  ...                 0                 1   \n",
       "68164         0       0  ...                 0                 0   \n",
       "68165         0       0  ...                 0                 0   \n",
       "68166         0       0  ...                 0                 0   \n",
       "\n",
       "       regional_sprf-rr  regional_sprf-rs  regional_sprf-sc  regional_sprf-se   \n",
       "0                     0                 0                 0                 0  \\\n",
       "1                     0                 0                 0                 0   \n",
       "2                     0                 0                 0                 0   \n",
       "3                     0                 0                 0                 0   \n",
       "4                     0                 0                 0                 0   \n",
       "...                 ...               ...               ...               ...   \n",
       "68162                 0                 0                 0                 0   \n",
       "68163                 0                 0                 0                 0   \n",
       "68164                 0                 0                 0                 1   \n",
       "68165                 0                 0                 0                 0   \n",
       "68166                 0                 0                 0                 0   \n",
       "\n",
       "       regional_sprf-sp  regional_sprf-to  regional_uniprf  regional_unknown  \n",
       "0                     0                 0                0                 1  \n",
       "1                     0                 0                0                 1  \n",
       "2                     0                 0                0                 1  \n",
       "3                     0                 0                0                 1  \n",
       "4                     0                 0                0                 1  \n",
       "...                 ...               ...              ...               ...  \n",
       "68162                 0                 0                0                 0  \n",
       "68163                 0                 0                0                 0  \n",
       "68164                 0                 0                0                 0  \n",
       "68165                 0                 0                0                 0  \n",
       "68166                 0                 0                0                 0  \n",
       "\n",
       "[68167 rows x 315 columns]"
      ]
     },
     "execution_count": 42,
     "metadata": {},
     "output_type": "execute_result"
    }
   ],
   "source": [
    "X"
   ]
  },
  {
   "cell_type": "code",
   "execution_count": 43,
   "metadata": {},
   "outputs": [],
   "source": [
    "X_train, X_test, y_train, y_teste = train_test_split(X, Y, random_state=32, test_size=0.3)"
   ]
  },
  {
   "cell_type": "code",
   "execution_count": null,
   "metadata": {},
   "outputs": [],
   "source": [
    "## We are gonna create a MLP neural Network using Sequential from keras. \n",
    "## I am also adding BatchNormalization - To imporve stability and performance.\n",
    "## As also output dropout - to prevent overfitting.  "
   ]
  },
  {
   "cell_type": "code",
   "execution_count": null,
   "metadata": {},
   "outputs": [],
   "source": [
    "### Before We start our neural network, we must work with a few steps:\n",
    "\n",
    "# 1 - Let's choose our sctivation function (We chose ReLu) so We can initalize our weights(he_normal).\n",
    "# 2 - Remeber to add Batch  normalization and dropouts - our probability in droping out a neuron is of 0.2 (the best response), which means 20%.\n",
    "# 3 - Let's choose our optimizer (ADAM) and loss-function - I chose mean_squared_error which makes a lot of sense for me, since We have a regression problem.\n",
    "\n"
   ]
  },
  {
   "cell_type": "code",
   "execution_count": 44,
   "metadata": {},
   "outputs": [
    {
     "data": {
      "text/plain": [
       "ano                 float64\n",
       "br_10                 int64\n",
       "br_10.0               int64\n",
       "br_101                int64\n",
       "br_101.0              int64\n",
       "                     ...   \n",
       "regional_sprf-se      int64\n",
       "regional_sprf-sp      int64\n",
       "regional_sprf-to      int64\n",
       "regional_uniprf       int64\n",
       "regional_unknown      int64\n",
       "Length: 315, dtype: object"
      ]
     },
     "execution_count": 44,
     "metadata": {},
     "output_type": "execute_result"
    }
   ],
   "source": [
    "X_train.dtypes"
   ]
  },
  {
   "cell_type": "code",
   "execution_count": 45,
   "metadata": {},
   "outputs": [],
   "source": [
    "model = Sequential()"
   ]
  },
  {
   "cell_type": "code",
   "execution_count": 46,
   "metadata": {},
   "outputs": [],
   "source": [
    "model.add(\n",
    "    Dense(units=100, input_dim=X_train.shape[1], kernel_initializer='he_normal'))\n",
    "model.add(BatchNormalization())  # Add Batch Normalization\n",
    "model.add(Activation('relu'))\n",
    "model.add(Dropout(0.2))\n"
   ]
  },
  {
   "cell_type": "code",
   "execution_count": 47,
   "metadata": {},
   "outputs": [],
   "source": [
    "model.add(Dense(units=50, kernel_initializer='he_normal'))\n",
    "model.add(BatchNormalization())  # Add Batch Normalization\n",
    "model.add(Activation('relu'))\n",
    "model.add(Dropout(0.2))\n"
   ]
  },
  {
   "cell_type": "code",
   "execution_count": 48,
   "metadata": {},
   "outputs": [],
   "source": [
    "model.add(Dense(units=1, kernel_initializer='he_normal'))\n"
   ]
  },
  {
   "cell_type": "code",
   "execution_count": 49,
   "metadata": {},
   "outputs": [],
   "source": [
    "model.compile(loss='mean_squared_error', optimizer='adam')\n"
   ]
  },
  {
   "cell_type": "code",
   "execution_count": 50,
   "metadata": {},
   "outputs": [
    {
     "name": "stdout",
     "output_type": "stream",
     "text": [
      "Model: \"sequential_1\"\n",
      "_________________________________________________________________\n",
      " Layer (type)                Output Shape              Param #   \n",
      "=================================================================\n",
      " dense_3 (Dense)             (None, 100)               31600     \n",
      "                                                                 \n",
      " batch_normalization_2 (Bat  (None, 100)               400       \n",
      " chNormalization)                                                \n",
      "                                                                 \n",
      " activation_2 (Activation)   (None, 100)               0         \n",
      "                                                                 \n",
      " dropout_2 (Dropout)         (None, 100)               0         \n",
      "                                                                 \n",
      " dense_4 (Dense)             (None, 50)                5050      \n",
      "                                                                 \n",
      " batch_normalization_3 (Bat  (None, 50)                200       \n",
      " chNormalization)                                                \n",
      "                                                                 \n",
      " activation_3 (Activation)   (None, 50)                0         \n",
      "                                                                 \n",
      " dropout_3 (Dropout)         (None, 50)                0         \n",
      "                                                                 \n",
      " dense_5 (Dense)             (None, 1)                 51        \n",
      "                                                                 \n",
      "=================================================================\n",
      "Total params: 37301 (145.71 KB)\n",
      "Trainable params: 37001 (144.54 KB)\n",
      "Non-trainable params: 300 (1.17 KB)\n",
      "_________________________________________________________________\n"
     ]
    }
   ],
   "source": [
    "model.summary()\n"
   ]
  },
  {
   "cell_type": "code",
   "execution_count": 51,
   "metadata": {},
   "outputs": [
    {
     "name": "stdout",
     "output_type": "stream",
     "text": [
      "Epoch 1/10\n",
      "1193/1193 [==============================] - 2s 1ms/step - loss: 0.0492 - val_loss: 2.7273e-04\n",
      "Epoch 2/10\n",
      "1193/1193 [==============================] - 1s 1ms/step - loss: 5.6649e-04 - val_loss: 1.2055e-04\n",
      "Epoch 3/10\n",
      "1193/1193 [==============================] - 1s 1ms/step - loss: 2.4216e-04 - val_loss: 9.3511e-05\n",
      "Epoch 4/10\n",
      "1193/1193 [==============================] - 1s 1ms/step - loss: 2.1970e-04 - val_loss: 9.2363e-05\n",
      "Epoch 5/10\n",
      "1193/1193 [==============================] - 1s 1ms/step - loss: 2.2544e-04 - val_loss: 8.9908e-05\n",
      "Epoch 6/10\n",
      "1193/1193 [==============================] - 2s 1ms/step - loss: 2.2281e-04 - val_loss: 1.0182e-04\n",
      "Epoch 7/10\n",
      "1193/1193 [==============================] - 1s 1ms/step - loss: 2.2042e-04 - val_loss: 8.0939e-05\n",
      "Epoch 8/10\n",
      "1193/1193 [==============================] - 1s 1ms/step - loss: 2.0224e-04 - val_loss: 7.3214e-05\n",
      "Epoch 9/10\n",
      "1193/1193 [==============================] - 2s 1ms/step - loss: 1.8636e-04 - val_loss: 6.8264e-05\n",
      "Epoch 10/10\n",
      "1193/1193 [==============================] - 2s 1ms/step - loss: 1.7090e-04 - val_loss: 7.2871e-05\n"
     ]
    },
    {
     "data": {
      "image/png": "[encoded data removed]",
      "text/plain": [
       "<Figure size 640x480 with 1 Axes>"
      ]
     },
     "metadata": {},
     "output_type": "display_data"
    }
   ],
   "source": [
    "training = model.fit(X_train, y_train, validation_split=0.2,\n",
    "                    epochs=10, batch_size=32)\n",
    "\n",
    "## Monitor:\n",
    "\n",
    "\n",
    "loss = training.history['loss']\n",
    "val_loss = training.history['val_loss']\n",
    "\n",
    "# Plot training and validation loss\n",
    "plt.plot(loss, label='Training Loss')\n",
    "plt.plot(val_loss, label='Validation Loss')\n",
    "plt.xlabel('Epochs')\n",
    "plt.ylabel('Loss')\n",
    "plt.legend()\n",
    "plt.show()\n"
   ]
  },
  {
   "cell_type": "code",
   "execution_count": 52,
   "metadata": {},
   "outputs": [
    {
     "name": "stdout",
     "output_type": "stream",
     "text": [
      "640/640 [==============================] - 0s 606us/step - loss: 1.3083e-04\n",
      "Test Loss: 0.00013083242811262608\n"
     ]
    }
   ],
   "source": [
    "test_loss = model.evaluate(X_test, y_teste)\n",
    "print(f'Test Loss: {test_loss}')\n"
   ]
  },
  {
   "cell_type": "code",
   "execution_count": 53,
   "metadata": {},
   "outputs": [
    {
     "name": "stdout",
     "output_type": "stream",
     "text": [
      "640/640 [==============================] - 0s 595us/step\n"
     ]
    }
   ],
   "source": [
    "y_pred = model.predict(X_test)\n"
   ]
  },
  {
   "cell_type": "code",
   "execution_count": 54,
   "metadata": {},
   "outputs": [
    {
     "name": "stdout",
     "output_type": "stream",
     "text": [
      "Mean Absolute Error (MAE): 0.0056763515136141205\n",
      "Root Mean Squared Error (RMSE): 0.011438202551020587\n"
     ]
    }
   ],
   "source": [
    "mae = np.mean(np.abs(y_pred.flatten() - y_teste))\n",
    "print(f'Mean Absolute Error (MAE): {mae}')\n",
    "\n",
    "rmse = np.sqrt(np.mean((y_pred.flatten() - y_teste)**2))\n",
    "print(f'Root Mean Squared Error (RMSE): {rmse}')\n"
   ]
  },
  {
   "cell_type": "code",
   "execution_count": 55,
   "metadata": {},
   "outputs": [
    {
     "name": "stderr",
     "output_type": "stream",
     "text": [
      "C:\\Users\\vferr\\AppData\\Local\\Packages\\PythonSoftwareFoundation.Python.3.10_qbz5n2kfra8p0\\LocalCache\\local-packages\\Python310\\site-packages\\keras\\src\\engine\\training.py:3000: UserWarning: You are saving your model as an HDF5 file via `model.save()`. This file format is considered legacy. We recommend using instead the native Keras format, e.g. `model.save('my_model.keras')`.\n",
      "  saving_api.save_model(\n"
     ]
    }
   ],
   "source": [
    "model.save('mlp_model.h5')"
   ]
  },
  {
   "cell_type": "code",
   "execution_count": 56,
   "metadata": {},
   "outputs": [
    {
     "data": {
      "text/plain": [
       "['mlp_model.pkl']"
      ]
     },
     "execution_count": 56,
     "metadata": {},
     "output_type": "execute_result"
    }
   ],
   "source": [
    "model = load_model('mlp_model.h5')\n",
    "\n",
    "joblib.dump(model, 'mlp_model.pkl')\n"
   ]
  },
  {
   "cell_type": "code",
   "execution_count": 63,
   "metadata": {},
   "outputs": [
    {
     "data": {
      "text/plain": [
       "['colunas']"
      ]
     },
     "execution_count": 63,
     "metadata": {},
     "output_type": "execute_result"
    }
   ],
   "source": [
    "sample_columns = pd.DataFrame(columns = X_train.columns)\n",
    "\n",
    "# for i in sample_columns.columns:\n",
    "    #sample_columns[i] = 0\n",
    "\n",
    "joblib.dump(sample_columns, 'colunas')\n"
   ]
  },
  {
   "cell_type": "code",
   "execution_count": 57,
   "metadata": {},
   "outputs": [
    {
     "data": {
      "text/plain": [
       "br                                     101.0\n",
       "tipo_acidente                     tombamento\n",
       "classificacao_acidente    com vtimas feridas\n",
       "uso_solo                                  no\n",
       "regional                             sprf-pe\n",
       "ano                                     2023\n",
       "Name: 100, dtype: object"
      ]
     },
     "execution_count": 57,
     "metadata": {},
     "output_type": "execute_result"
    }
   ],
   "source": [
    "data.iloc[100][important_features]"
   ]
  }
 ],
 "metadata": {
  "kernelspec": {
   "display_name": "Python 3",
   "language": "python",
   "name": "python3"
  },
  "language_info": {
   "codemirror_mode": {
    "name": "ipython",
    "version": 3
   },
   "file_extension": ".py",
   "mimetype": "text/x-python",
   "name": "python",
   "nbconvert_exporter": "python",
   "pygments_lexer": "ipython3",
   "version": "3.10.11"
  },
  "orig_nbformat": 4
 },
 "nbformat": 4,
 "nbformat_minor": 2
}
