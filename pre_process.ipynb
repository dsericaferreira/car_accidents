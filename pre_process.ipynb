{
 "cells": [
  {
   "cell_type": "code",
   "execution_count": 1,
   "metadata": {},
   "outputs": [],
   "source": [
    "import pandas as pd"
   ]
  },
  {
   "cell_type": "code",
   "execution_count": 2,
   "metadata": {},
   "outputs": [
    {
     "name": "stderr",
     "output_type": "stream",
     "text": [
      "C:\\Users\\erica.carneiro\\AppData\\Local\\Temp\\ipykernel_20684\\586706299.py:6: DtypeWarning: Columns (5,6) have mixed types. Specify dtype option on import or set low_memory=False.\n",
      "  df = pd.read_csv(dir, sep=';', encoding='latin1', header = 0)\n"
     ]
    },
    {
     "name": "stdout",
     "output_type": "stream",
     "text": [
      "2007\n"
     ]
    },
    {
     "name": "stderr",
     "output_type": "stream",
     "text": [
      "C:\\Users\\erica.carneiro\\AppData\\Local\\Temp\\ipykernel_20684\\586706299.py:6: DtypeWarning: Columns (5,6) have mixed types. Specify dtype option on import or set low_memory=False.\n",
      "  df = pd.read_csv(dir, sep=';', encoding='latin1', header = 0)\n"
     ]
    },
    {
     "name": "stdout",
     "output_type": "stream",
     "text": [
      "2008\n",
      "2009\n",
      "2010\n",
      "2011\n"
     ]
    },
    {
     "name": "stderr",
     "output_type": "stream",
     "text": [
      "C:\\Users\\erica.carneiro\\AppData\\Local\\Temp\\ipykernel_20684\\586706299.py:6: DtypeWarning: Columns (5,6) have mixed types. Specify dtype option on import or set low_memory=False.\n",
      "  df = pd.read_csv(dir, sep=';', encoding='latin1', header = 0)\n"
     ]
    },
    {
     "name": "stdout",
     "output_type": "stream",
     "text": [
      "2012\n",
      "2013\n",
      "2014\n",
      "2015\n",
      "2016\n",
      "2017\n",
      "2018\n",
      "2019\n",
      "2020\n",
      "2021\n",
      "2022\n",
      "2023\n"
     ]
    }
   ],
   "source": [
    "start = 2007\n",
    "df = pd.DataFrame()\n",
    "data = pd.DataFrame()\n",
    "while start <= 2023:\n",
    "    dir = \"dataset\\Dados_PRF_\"+str(start)+\".csv\"\n",
    "    df = pd.read_csv(dir, sep=';', encoding='latin1', header = 0)\n",
    "    if not 'ano' in df.columns:\n",
    "        df['ano'] = int(start)\n",
    "    else:\n",
    "        df['ano'] = df['ano'].fillna(int(start))\n",
    "    print(start)\n",
    "    if start!= 2007:\n",
    "        data = pd.concat([df, data])\n",
    "    else:\n",
    "        data = df\n",
    "    start += 1\n",
    "        "
   ]
  },
  {
   "cell_type": "code",
   "execution_count": 3,
   "metadata": {},
   "outputs": [
    {
     "data": {
      "text/plain": [
       "Index(['id', 'data_inversa', 'dia_semana', 'horario', 'uf', 'br', 'km',\n",
       "       'municipio', 'causa_acidente', 'tipo_acidente',\n",
       "       'classificacao_acidente', 'fase_dia', 'sentido_via',\n",
       "       'condicao_metereologica', 'tipo_pista', 'tracado_via', 'uso_solo',\n",
       "       'pessoas', 'mortos', 'feridos_leves', 'feridos_graves', 'ilesos',\n",
       "       'ignorados', 'feridos', 'veiculos', 'latitude', 'longitude', 'regional',\n",
       "       'delegacia', 'uop', 'ano'],\n",
       "      dtype='object')"
      ]
     },
     "execution_count": 3,
     "metadata": {},
     "output_type": "execute_result"
    }
   ],
   "source": [
    "data.columns"
   ]
  },
  {
   "cell_type": "code",
   "execution_count": 4,
   "metadata": {},
   "outputs": [
    {
     "data": {
      "text/html": [
       "<div>\n",
       "<style scoped>\n",
       "    .dataframe tbody tr th:only-of-type {\n",
       "        vertical-align: middle;\n",
       "    }\n",
       "\n",
       "    .dataframe tbody tr th {\n",
       "        vertical-align: top;\n",
       "    }\n",
       "\n",
       "    .dataframe thead th {\n",
       "        text-align: right;\n",
       "    }\n",
       "</style>\n",
       "<table border=\"1\" class=\"dataframe\">\n",
       "  <thead>\n",
       "    <tr style=\"text-align: right;\">\n",
       "      <th></th>\n",
       "      <th>id</th>\n",
       "      <th>data_inversa</th>\n",
       "      <th>dia_semana</th>\n",
       "      <th>horario</th>\n",
       "      <th>uf</th>\n",
       "      <th>br</th>\n",
       "      <th>km</th>\n",
       "      <th>municipio</th>\n",
       "      <th>causa_acidente</th>\n",
       "      <th>tipo_acidente</th>\n",
       "      <th>...</th>\n",
       "      <th>ilesos</th>\n",
       "      <th>ignorados</th>\n",
       "      <th>feridos</th>\n",
       "      <th>veiculos</th>\n",
       "      <th>latitude</th>\n",
       "      <th>longitude</th>\n",
       "      <th>regional</th>\n",
       "      <th>delegacia</th>\n",
       "      <th>uop</th>\n",
       "      <th>ano</th>\n",
       "    </tr>\n",
       "  </thead>\n",
       "  <tbody>\n",
       "    <tr>\n",
       "      <th>96358</th>\n",
       "      <td>83529876.0</td>\n",
       "      <td>10/11/16</td>\n",
       "      <td>Quinta</td>\n",
       "      <td>16:15:00</td>\n",
       "      <td>MT</td>\n",
       "      <td>163</td>\n",
       "      <td>1009</td>\n",
       "      <td>PEIXOTO DE AZEVEDO</td>\n",
       "      <td>Falta de atenção</td>\n",
       "      <td>Saída de Pista</td>\n",
       "      <td>...</td>\n",
       "      <td>0</td>\n",
       "      <td>0</td>\n",
       "      <td>1</td>\n",
       "      <td>1</td>\n",
       "      <td>NaN</td>\n",
       "      <td>NaN</td>\n",
       "      <td>NaN</td>\n",
       "      <td>NaN</td>\n",
       "      <td>NaN</td>\n",
       "      <td>2016</td>\n",
       "    </tr>\n",
       "  </tbody>\n",
       "</table>\n",
       "<p>1 rows × 31 columns</p>\n",
       "</div>"
      ],
      "text/plain": [
       "               id data_inversa dia_semana   horario  uf   br    km  \\\n",
       "96358  83529876.0     10/11/16     Quinta  16:15:00  MT  163  1009   \n",
       "\n",
       "                municipio    causa_acidente   tipo_acidente  ... ilesos  \\\n",
       "96358  PEIXOTO DE AZEVEDO  Falta de atenção  Saída de Pista  ...      0   \n",
       "\n",
       "      ignorados feridos veiculos latitude longitude regional  delegacia  uop  \\\n",
       "96358         0       1        1      NaN       NaN      NaN        NaN  NaN   \n",
       "\n",
       "        ano  \n",
       "96358  2016  \n",
       "\n",
       "[1 rows x 31 columns]"
      ]
     },
     "execution_count": 4,
     "metadata": {},
     "output_type": "execute_result"
    }
   ],
   "source": [
    "data[data['id'] == 83529876]"
   ]
  },
  {
   "cell_type": "code",
   "execution_count": 5,
   "metadata": {},
   "outputs": [
    {
     "data": {
      "text/html": [
       "<div>\n",
       "<style scoped>\n",
       "    .dataframe tbody tr th:only-of-type {\n",
       "        vertical-align: middle;\n",
       "    }\n",
       "\n",
       "    .dataframe tbody tr th {\n",
       "        vertical-align: top;\n",
       "    }\n",
       "\n",
       "    .dataframe thead th {\n",
       "        text-align: right;\n",
       "    }\n",
       "</style>\n",
       "<table border=\"1\" class=\"dataframe\">\n",
       "  <thead>\n",
       "    <tr style=\"text-align: right;\">\n",
       "      <th></th>\n",
       "      <th>id</th>\n",
       "      <th>data_inversa</th>\n",
       "      <th>dia_semana</th>\n",
       "      <th>horario</th>\n",
       "      <th>uf</th>\n",
       "      <th>br</th>\n",
       "      <th>km</th>\n",
       "      <th>municipio</th>\n",
       "      <th>causa_acidente</th>\n",
       "      <th>tipo_acidente</th>\n",
       "      <th>...</th>\n",
       "      <th>ilesos</th>\n",
       "      <th>ignorados</th>\n",
       "      <th>feridos</th>\n",
       "      <th>veiculos</th>\n",
       "      <th>latitude</th>\n",
       "      <th>longitude</th>\n",
       "      <th>regional</th>\n",
       "      <th>delegacia</th>\n",
       "      <th>uop</th>\n",
       "      <th>ano</th>\n",
       "    </tr>\n",
       "  </thead>\n",
       "  <tbody>\n",
       "    <tr>\n",
       "      <th>0</th>\n",
       "      <td>496519.0</td>\n",
       "      <td>2023-01-01</td>\n",
       "      <td>domingo</td>\n",
       "      <td>02:00:00</td>\n",
       "      <td>ES</td>\n",
       "      <td>101.0</td>\n",
       "      <td>114</td>\n",
       "      <td>SOORETAMA</td>\n",
       "      <td>Ausência de reação do condutor</td>\n",
       "      <td>Saída de leito carroçável</td>\n",
       "      <td>...</td>\n",
       "      <td>0</td>\n",
       "      <td>0</td>\n",
       "      <td>1</td>\n",
       "      <td>1</td>\n",
       "      <td>-19,09484877</td>\n",
       "      <td>-40,05095848</td>\n",
       "      <td>SPRF-ES</td>\n",
       "      <td>DEL04-ES</td>\n",
       "      <td>UOP01-DEL04-ES</td>\n",
       "      <td>2023</td>\n",
       "    </tr>\n",
       "    <tr>\n",
       "      <th>1</th>\n",
       "      <td>496543.0</td>\n",
       "      <td>2023-01-01</td>\n",
       "      <td>domingo</td>\n",
       "      <td>03:40:00</td>\n",
       "      <td>SP</td>\n",
       "      <td>116.0</td>\n",
       "      <td>113,1</td>\n",
       "      <td>TAUBATE</td>\n",
       "      <td>Entrada inopinada do pedestre</td>\n",
       "      <td>Atropelamento de Pedestre</td>\n",
       "      <td>...</td>\n",
       "      <td>0</td>\n",
       "      <td>4</td>\n",
       "      <td>0</td>\n",
       "      <td>1</td>\n",
       "      <td>-23,0445658</td>\n",
       "      <td>-45,58259814</td>\n",
       "      <td>SPRF-SP</td>\n",
       "      <td>DEL02-SP</td>\n",
       "      <td>UOP02-DEL02-SP</td>\n",
       "      <td>2023</td>\n",
       "    </tr>\n",
       "    <tr>\n",
       "      <th>2</th>\n",
       "      <td>496590.0</td>\n",
       "      <td>2023-01-01</td>\n",
       "      <td>domingo</td>\n",
       "      <td>01:40:00</td>\n",
       "      <td>MT</td>\n",
       "      <td>163.0</td>\n",
       "      <td>1112</td>\n",
       "      <td>GUARANTA DO NORTE</td>\n",
       "      <td>Reação tardia ou ineficiente do condutor</td>\n",
       "      <td>Tombamento</td>\n",
       "      <td>...</td>\n",
       "      <td>0</td>\n",
       "      <td>0</td>\n",
       "      <td>1</td>\n",
       "      <td>1</td>\n",
       "      <td>-9,70020602</td>\n",
       "      <td>-54,87588757</td>\n",
       "      <td>SPRF-MT</td>\n",
       "      <td>DEL06-MT</td>\n",
       "      <td>UOP03-DEL06-MT</td>\n",
       "      <td>2023</td>\n",
       "    </tr>\n",
       "    <tr>\n",
       "      <th>3</th>\n",
       "      <td>496610.0</td>\n",
       "      <td>2023-01-01</td>\n",
       "      <td>domingo</td>\n",
       "      <td>10:40:00</td>\n",
       "      <td>PR</td>\n",
       "      <td>376.0</td>\n",
       "      <td>314,8</td>\n",
       "      <td>ORTIGUEIRA</td>\n",
       "      <td>Velocidade Incompatível</td>\n",
       "      <td>Tombamento</td>\n",
       "      <td>...</td>\n",
       "      <td>1</td>\n",
       "      <td>0</td>\n",
       "      <td>0</td>\n",
       "      <td>1</td>\n",
       "      <td>-23,985512</td>\n",
       "      <td>-51,083555</td>\n",
       "      <td>SPRF-PR</td>\n",
       "      <td>DEL07-PR</td>\n",
       "      <td>UOP02-DEL07-PR</td>\n",
       "      <td>2023</td>\n",
       "    </tr>\n",
       "    <tr>\n",
       "      <th>4</th>\n",
       "      <td>496659.0</td>\n",
       "      <td>2023-01-01</td>\n",
       "      <td>domingo</td>\n",
       "      <td>14:55:00</td>\n",
       "      <td>MG</td>\n",
       "      <td>116.0</td>\n",
       "      <td>569,4</td>\n",
       "      <td>MANHUACU</td>\n",
       "      <td>Acumulo de água sobre o pavimento</td>\n",
       "      <td>Colisão frontal</td>\n",
       "      <td>...</td>\n",
       "      <td>1</td>\n",
       "      <td>0</td>\n",
       "      <td>2</td>\n",
       "      <td>2</td>\n",
       "      <td>-20,10007457</td>\n",
       "      <td>-42,17884091</td>\n",
       "      <td>SPRF-MG</td>\n",
       "      <td>DEL06-MG</td>\n",
       "      <td>UOP03-DEL06-MG</td>\n",
       "      <td>2023</td>\n",
       "    </tr>\n",
       "    <tr>\n",
       "      <th>...</th>\n",
       "      <td>...</td>\n",
       "      <td>...</td>\n",
       "      <td>...</td>\n",
       "      <td>...</td>\n",
       "      <td>...</td>\n",
       "      <td>...</td>\n",
       "      <td>...</td>\n",
       "      <td>...</td>\n",
       "      <td>...</td>\n",
       "      <td>...</td>\n",
       "      <td>...</td>\n",
       "      <td>...</td>\n",
       "      <td>...</td>\n",
       "      <td>...</td>\n",
       "      <td>...</td>\n",
       "      <td>...</td>\n",
       "      <td>...</td>\n",
       "      <td>...</td>\n",
       "      <td>...</td>\n",
       "      <td>...</td>\n",
       "      <td>...</td>\n",
       "    </tr>\n",
       "    <tr>\n",
       "      <th>127670</th>\n",
       "      <td>956310.0</td>\n",
       "      <td>15/12/2007</td>\n",
       "      <td>Sábado</td>\n",
       "      <td>08:00:00</td>\n",
       "      <td>MG</td>\n",
       "      <td>50</td>\n",
       "      <td>22.0</td>\n",
       "      <td>ARAGUARI</td>\n",
       "      <td>Falta de atenção</td>\n",
       "      <td>Colisão com objeto fixo</td>\n",
       "      <td>...</td>\n",
       "      <td>0</td>\n",
       "      <td>0</td>\n",
       "      <td>4</td>\n",
       "      <td>1</td>\n",
       "      <td>NaN</td>\n",
       "      <td>NaN</td>\n",
       "      <td>NaN</td>\n",
       "      <td>NaN</td>\n",
       "      <td>NaN</td>\n",
       "      <td>2007</td>\n",
       "    </tr>\n",
       "    <tr>\n",
       "      <th>127671</th>\n",
       "      <td>964123.0</td>\n",
       "      <td>16/06/2007</td>\n",
       "      <td>Sábado</td>\n",
       "      <td>14:50:00</td>\n",
       "      <td>PR</td>\n",
       "      <td>373</td>\n",
       "      <td>268.3</td>\n",
       "      <td>PRUDENTOPOLIS</td>\n",
       "      <td>Outras</td>\n",
       "      <td>Danos Eventuais</td>\n",
       "      <td>...</td>\n",
       "      <td>2</td>\n",
       "      <td>0</td>\n",
       "      <td>1</td>\n",
       "      <td>2</td>\n",
       "      <td>NaN</td>\n",
       "      <td>NaN</td>\n",
       "      <td>NaN</td>\n",
       "      <td>NaN</td>\n",
       "      <td>NaN</td>\n",
       "      <td>2007</td>\n",
       "    </tr>\n",
       "    <tr>\n",
       "      <th>127672</th>\n",
       "      <td>985245.0</td>\n",
       "      <td>11/12/2007</td>\n",
       "      <td>Terça</td>\n",
       "      <td>14:00:00</td>\n",
       "      <td>MT</td>\n",
       "      <td>70</td>\n",
       "      <td>697.1</td>\n",
       "      <td>CACERES</td>\n",
       "      <td>Outras</td>\n",
       "      <td>Colisão frontal</td>\n",
       "      <td>...</td>\n",
       "      <td>2</td>\n",
       "      <td>0</td>\n",
       "      <td>6</td>\n",
       "      <td>3</td>\n",
       "      <td>NaN</td>\n",
       "      <td>NaN</td>\n",
       "      <td>NaN</td>\n",
       "      <td>NaN</td>\n",
       "      <td>NaN</td>\n",
       "      <td>2007</td>\n",
       "    </tr>\n",
       "    <tr>\n",
       "      <th>127673</th>\n",
       "      <td>987413.0</td>\n",
       "      <td>09/05/2007</td>\n",
       "      <td>Quarta</td>\n",
       "      <td>14:50:00</td>\n",
       "      <td>SC</td>\n",
       "      <td>470</td>\n",
       "      <td>65.8</td>\n",
       "      <td>INDAIAL</td>\n",
       "      <td>Falta de atenção</td>\n",
       "      <td>Colisão Transversal</td>\n",
       "      <td>...</td>\n",
       "      <td>0</td>\n",
       "      <td>0</td>\n",
       "      <td>3</td>\n",
       "      <td>2</td>\n",
       "      <td>NaN</td>\n",
       "      <td>NaN</td>\n",
       "      <td>NaN</td>\n",
       "      <td>NaN</td>\n",
       "      <td>NaN</td>\n",
       "      <td>2007</td>\n",
       "    </tr>\n",
       "    <tr>\n",
       "      <th>127674</th>\n",
       "      <td>988556.0</td>\n",
       "      <td>07/02/2007</td>\n",
       "      <td>Quarta</td>\n",
       "      <td>07:15:00</td>\n",
       "      <td>BA</td>\n",
       "      <td>324</td>\n",
       "      <td>603.5</td>\n",
       "      <td>SIMOES FILHO</td>\n",
       "      <td>Falta de atenção</td>\n",
       "      <td>Colisão traseira</td>\n",
       "      <td>...</td>\n",
       "      <td>2</td>\n",
       "      <td>0</td>\n",
       "      <td>0</td>\n",
       "      <td>2</td>\n",
       "      <td>NaN</td>\n",
       "      <td>NaN</td>\n",
       "      <td>NaN</td>\n",
       "      <td>NaN</td>\n",
       "      <td>NaN</td>\n",
       "      <td>2007</td>\n",
       "    </tr>\n",
       "  </tbody>\n",
       "</table>\n",
       "<p>2013757 rows × 31 columns</p>\n",
       "</div>"
      ],
      "text/plain": [
       "              id data_inversa dia_semana   horario  uf     br     km  \\\n",
       "0       496519.0   2023-01-01    domingo  02:00:00  ES  101.0    114   \n",
       "1       496543.0   2023-01-01    domingo  03:40:00  SP  116.0  113,1   \n",
       "2       496590.0   2023-01-01    domingo  01:40:00  MT  163.0   1112   \n",
       "3       496610.0   2023-01-01    domingo  10:40:00  PR  376.0  314,8   \n",
       "4       496659.0   2023-01-01    domingo  14:55:00  MG  116.0  569,4   \n",
       "...          ...          ...        ...       ...  ..    ...    ...   \n",
       "127670  956310.0   15/12/2007     Sábado  08:00:00  MG     50   22.0   \n",
       "127671  964123.0   16/06/2007     Sábado  14:50:00  PR    373  268.3   \n",
       "127672  985245.0   11/12/2007      Terça  14:00:00  MT     70  697.1   \n",
       "127673  987413.0   09/05/2007     Quarta  14:50:00  SC    470   65.8   \n",
       "127674  988556.0   07/02/2007     Quarta  07:15:00  BA    324  603.5   \n",
       "\n",
       "                municipio                            causa_acidente  \\\n",
       "0               SOORETAMA            Ausência de reação do condutor   \n",
       "1                 TAUBATE             Entrada inopinada do pedestre   \n",
       "2       GUARANTA DO NORTE  Reação tardia ou ineficiente do condutor   \n",
       "3              ORTIGUEIRA                   Velocidade Incompatível   \n",
       "4                MANHUACU         Acumulo de água sobre o pavimento   \n",
       "...                   ...                                       ...   \n",
       "127670           ARAGUARI                          Falta de atenção   \n",
       "127671      PRUDENTOPOLIS                                    Outras   \n",
       "127672            CACERES                                    Outras   \n",
       "127673            INDAIAL                          Falta de atenção   \n",
       "127674       SIMOES FILHO                          Falta de atenção   \n",
       "\n",
       "                    tipo_acidente  ... ilesos ignorados feridos veiculos  \\\n",
       "0       Saída de leito carroçável  ...      0         0       1        1   \n",
       "1       Atropelamento de Pedestre  ...      0         4       0        1   \n",
       "2                      Tombamento  ...      0         0       1        1   \n",
       "3                      Tombamento  ...      1         0       0        1   \n",
       "4                 Colisão frontal  ...      1         0       2        2   \n",
       "...                           ...  ...    ...       ...     ...      ...   \n",
       "127670    Colisão com objeto fixo  ...      0         0       4        1   \n",
       "127671            Danos Eventuais  ...      2         0       1        2   \n",
       "127672            Colisão frontal  ...      2         0       6        3   \n",
       "127673        Colisão Transversal  ...      0         0       3        2   \n",
       "127674           Colisão traseira  ...      2         0       0        2   \n",
       "\n",
       "            latitude     longitude regional  delegacia             uop   ano  \n",
       "0       -19,09484877  -40,05095848  SPRF-ES   DEL04-ES  UOP01-DEL04-ES  2023  \n",
       "1        -23,0445658  -45,58259814  SPRF-SP   DEL02-SP  UOP02-DEL02-SP  2023  \n",
       "2        -9,70020602  -54,87588757  SPRF-MT   DEL06-MT  UOP03-DEL06-MT  2023  \n",
       "3         -23,985512    -51,083555  SPRF-PR   DEL07-PR  UOP02-DEL07-PR  2023  \n",
       "4       -20,10007457  -42,17884091  SPRF-MG   DEL06-MG  UOP03-DEL06-MG  2023  \n",
       "...              ...           ...      ...        ...             ...   ...  \n",
       "127670           NaN           NaN      NaN        NaN             NaN  2007  \n",
       "127671           NaN           NaN      NaN        NaN             NaN  2007  \n",
       "127672           NaN           NaN      NaN        NaN             NaN  2007  \n",
       "127673           NaN           NaN      NaN        NaN             NaN  2007  \n",
       "127674           NaN           NaN      NaN        NaN             NaN  2007  \n",
       "\n",
       "[2013757 rows x 31 columns]"
      ]
     },
     "execution_count": 5,
     "metadata": {},
     "output_type": "execute_result"
    }
   ],
   "source": [
    "data"
   ]
  },
  {
   "cell_type": "code",
   "execution_count": 6,
   "metadata": {},
   "outputs": [],
   "source": [
    "def convert_to_desired_format(date_string):\n",
    "    try:\n",
    "        return pd.to_datetime(date_string, format='%d/%m/%Y').strftime('%Y-%m-%d')\n",
    "    except ValueError:\n",
    "        try:\n",
    "            return pd.to_datetime(date_string, format='%Y-%m-%d').strftime('%Y-%m-%d')\n",
    "        except ValueError:\n",
    "            try:\n",
    "                return pd.to_datetime(date_string, format='%d/%m/%y').strftime('%Y-%m-%d')\n",
    "            except ValueError:\n",
    "                return None\n",
    "\n",
    "# Aplicar a função à sua coluna de datas\n",
    "data['data_inversa'] = data['data_inversa'].apply(convert_to_desired_format)\n",
    "\n",
    "\n"
   ]
  },
  {
   "cell_type": "code",
   "execution_count": 7,
   "metadata": {},
   "outputs": [
    {
     "data": {
      "text/html": [
       "<div>\n",
       "<style scoped>\n",
       "    .dataframe tbody tr th:only-of-type {\n",
       "        vertical-align: middle;\n",
       "    }\n",
       "\n",
       "    .dataframe tbody tr th {\n",
       "        vertical-align: top;\n",
       "    }\n",
       "\n",
       "    .dataframe thead th {\n",
       "        text-align: right;\n",
       "    }\n",
       "</style>\n",
       "<table border=\"1\" class=\"dataframe\">\n",
       "  <thead>\n",
       "    <tr style=\"text-align: right;\">\n",
       "      <th></th>\n",
       "      <th>id</th>\n",
       "      <th>data_inversa</th>\n",
       "      <th>dia_semana</th>\n",
       "      <th>horario</th>\n",
       "      <th>uf</th>\n",
       "      <th>br</th>\n",
       "      <th>km</th>\n",
       "      <th>municipio</th>\n",
       "      <th>causa_acidente</th>\n",
       "      <th>tipo_acidente</th>\n",
       "      <th>...</th>\n",
       "      <th>ilesos</th>\n",
       "      <th>ignorados</th>\n",
       "      <th>feridos</th>\n",
       "      <th>veiculos</th>\n",
       "      <th>latitude</th>\n",
       "      <th>longitude</th>\n",
       "      <th>regional</th>\n",
       "      <th>delegacia</th>\n",
       "      <th>uop</th>\n",
       "      <th>ano</th>\n",
       "    </tr>\n",
       "  </thead>\n",
       "  <tbody>\n",
       "  </tbody>\n",
       "</table>\n",
       "<p>0 rows × 31 columns</p>\n",
       "</div>"
      ],
      "text/plain": [
       "Empty DataFrame\n",
       "Columns: [id, data_inversa, dia_semana, horario, uf, br, km, municipio, causa_acidente, tipo_acidente, classificacao_acidente, fase_dia, sentido_via, condicao_metereologica, tipo_pista, tracado_via, uso_solo, pessoas, mortos, feridos_leves, feridos_graves, ilesos, ignorados, feridos, veiculos, latitude, longitude, regional, delegacia, uop, ano]\n",
       "Index: []\n",
       "\n",
       "[0 rows x 31 columns]"
      ]
     },
     "execution_count": 7,
     "metadata": {},
     "output_type": "execute_result"
    }
   ],
   "source": [
    "data[data['data_inversa'].isna()==True]"
   ]
  },
  {
   "cell_type": "code",
   "execution_count": 8,
   "metadata": {},
   "outputs": [],
   "source": [
    "df['horario'] = pd.to_datetime(df['horario'], format='%H:%M:%S').dt.time\n"
   ]
  },
  {
   "cell_type": "code",
   "execution_count": 9,
   "metadata": {},
   "outputs": [
    {
     "data": {
      "text/plain": [
       "0         False\n",
       "1         False\n",
       "2         False\n",
       "3         False\n",
       "4         False\n",
       "          ...  \n",
       "127670    False\n",
       "127671    False\n",
       "127672    False\n",
       "127673    False\n",
       "127674    False\n",
       "Name: data_inversa, Length: 2013757, dtype: bool"
      ]
     },
     "execution_count": 9,
     "metadata": {},
     "output_type": "execute_result"
    }
   ],
   "source": [
    "data.data_inversa.isna()"
   ]
  },
  {
   "cell_type": "code",
   "execution_count": 10,
   "metadata": {},
   "outputs": [],
   "source": [
    "data = data.fillna('Unknown')"
   ]
  },
  {
   "cell_type": "code",
   "execution_count": 11,
   "metadata": {},
   "outputs": [
    {
     "data": {
      "text/plain": [
       "0"
      ]
     },
     "execution_count": 11,
     "metadata": {},
     "output_type": "execute_result"
    }
   ],
   "source": [
    "data.horario.isna().sum()"
   ]
  },
  {
   "cell_type": "code",
   "execution_count": 12,
   "metadata": {},
   "outputs": [
    {
     "data": {
      "text/plain": [
       "0         2023-01-01\n",
       "1         2023-01-01\n",
       "2         2023-01-01\n",
       "3         2023-01-01\n",
       "4         2023-01-01\n",
       "             ...    \n",
       "127670    2007-12-15\n",
       "127671    2007-06-16\n",
       "127672    2007-12-11\n",
       "127673    2007-05-09\n",
       "127674    2007-02-07\n",
       "Name: data_inversa, Length: 2013757, dtype: object"
      ]
     },
     "execution_count": 12,
     "metadata": {},
     "output_type": "execute_result"
    }
   ],
   "source": [
    "data.data_inversa"
   ]
  },
  {
   "cell_type": "code",
   "execution_count": 13,
   "metadata": {},
   "outputs": [
    {
     "data": {
      "text/plain": [
       "'Coluna id'"
      ]
     },
     "metadata": {},
     "output_type": "display_data"
    },
    {
     "data": {
      "text/plain": [
       "0"
      ]
     },
     "metadata": {},
     "output_type": "display_data"
    },
    {
     "data": {
      "text/plain": [
       "'Coluna data_inversa'"
      ]
     },
     "metadata": {},
     "output_type": "display_data"
    },
    {
     "data": {
      "text/plain": [
       "0"
      ]
     },
     "metadata": {},
     "output_type": "display_data"
    },
    {
     "data": {
      "text/plain": [
       "'Coluna dia_semana'"
      ]
     },
     "metadata": {},
     "output_type": "display_data"
    },
    {
     "data": {
      "text/plain": [
       "0"
      ]
     },
     "metadata": {},
     "output_type": "display_data"
    },
    {
     "data": {
      "text/plain": [
       "'Coluna horario'"
      ]
     },
     "metadata": {},
     "output_type": "display_data"
    },
    {
     "data": {
      "text/plain": [
       "0"
      ]
     },
     "metadata": {},
     "output_type": "display_data"
    },
    {
     "data": {
      "text/plain": [
       "'Coluna uf'"
      ]
     },
     "metadata": {},
     "output_type": "display_data"
    },
    {
     "data": {
      "text/plain": [
       "0"
      ]
     },
     "metadata": {},
     "output_type": "display_data"
    },
    {
     "data": {
      "text/plain": [
       "'Coluna br'"
      ]
     },
     "metadata": {},
     "output_type": "display_data"
    },
    {
     "data": {
      "text/plain": [
       "0"
      ]
     },
     "metadata": {},
     "output_type": "display_data"
    },
    {
     "data": {
      "text/plain": [
       "'Coluna km'"
      ]
     },
     "metadata": {},
     "output_type": "display_data"
    },
    {
     "data": {
      "text/plain": [
       "0"
      ]
     },
     "metadata": {},
     "output_type": "display_data"
    },
    {
     "data": {
      "text/plain": [
       "'Coluna municipio'"
      ]
     },
     "metadata": {},
     "output_type": "display_data"
    },
    {
     "data": {
      "text/plain": [
       "0"
      ]
     },
     "metadata": {},
     "output_type": "display_data"
    },
    {
     "data": {
      "text/plain": [
       "'Coluna causa_acidente'"
      ]
     },
     "metadata": {},
     "output_type": "display_data"
    },
    {
     "data": {
      "text/plain": [
       "0"
      ]
     },
     "metadata": {},
     "output_type": "display_data"
    },
    {
     "data": {
      "text/plain": [
       "'Coluna tipo_acidente'"
      ]
     },
     "metadata": {},
     "output_type": "display_data"
    },
    {
     "data": {
      "text/plain": [
       "0"
      ]
     },
     "metadata": {},
     "output_type": "display_data"
    },
    {
     "data": {
      "text/plain": [
       "'Coluna classificacao_acidente'"
      ]
     },
     "metadata": {},
     "output_type": "display_data"
    },
    {
     "data": {
      "text/plain": [
       "0"
      ]
     },
     "metadata": {},
     "output_type": "display_data"
    },
    {
     "data": {
      "text/plain": [
       "'Coluna fase_dia'"
      ]
     },
     "metadata": {},
     "output_type": "display_data"
    },
    {
     "data": {
      "text/plain": [
       "0"
      ]
     },
     "metadata": {},
     "output_type": "display_data"
    },
    {
     "data": {
      "text/plain": [
       "'Coluna sentido_via'"
      ]
     },
     "metadata": {},
     "output_type": "display_data"
    },
    {
     "data": {
      "text/plain": [
       "0"
      ]
     },
     "metadata": {},
     "output_type": "display_data"
    },
    {
     "data": {
      "text/plain": [
       "'Coluna condicao_metereologica'"
      ]
     },
     "metadata": {},
     "output_type": "display_data"
    },
    {
     "data": {
      "text/plain": [
       "0"
      ]
     },
     "metadata": {},
     "output_type": "display_data"
    },
    {
     "data": {
      "text/plain": [
       "'Coluna tipo_pista'"
      ]
     },
     "metadata": {},
     "output_type": "display_data"
    },
    {
     "data": {
      "text/plain": [
       "0"
      ]
     },
     "metadata": {},
     "output_type": "display_data"
    },
    {
     "data": {
      "text/plain": [
       "'Coluna tracado_via'"
      ]
     },
     "metadata": {},
     "output_type": "display_data"
    },
    {
     "data": {
      "text/plain": [
       "0"
      ]
     },
     "metadata": {},
     "output_type": "display_data"
    },
    {
     "data": {
      "text/plain": [
       "'Coluna uso_solo'"
      ]
     },
     "metadata": {},
     "output_type": "display_data"
    },
    {
     "data": {
      "text/plain": [
       "0"
      ]
     },
     "metadata": {},
     "output_type": "display_data"
    },
    {
     "data": {
      "text/plain": [
       "'Coluna pessoas'"
      ]
     },
     "metadata": {},
     "output_type": "display_data"
    },
    {
     "data": {
      "text/plain": [
       "0"
      ]
     },
     "metadata": {},
     "output_type": "display_data"
    },
    {
     "data": {
      "text/plain": [
       "'Coluna mortos'"
      ]
     },
     "metadata": {},
     "output_type": "display_data"
    },
    {
     "data": {
      "text/plain": [
       "0"
      ]
     },
     "metadata": {},
     "output_type": "display_data"
    },
    {
     "data": {
      "text/plain": [
       "'Coluna feridos_leves'"
      ]
     },
     "metadata": {},
     "output_type": "display_data"
    },
    {
     "data": {
      "text/plain": [
       "0"
      ]
     },
     "metadata": {},
     "output_type": "display_data"
    },
    {
     "data": {
      "text/plain": [
       "'Coluna feridos_graves'"
      ]
     },
     "metadata": {},
     "output_type": "display_data"
    },
    {
     "data": {
      "text/plain": [
       "0"
      ]
     },
     "metadata": {},
     "output_type": "display_data"
    },
    {
     "data": {
      "text/plain": [
       "'Coluna ilesos'"
      ]
     },
     "metadata": {},
     "output_type": "display_data"
    },
    {
     "data": {
      "text/plain": [
       "0"
      ]
     },
     "metadata": {},
     "output_type": "display_data"
    },
    {
     "data": {
      "text/plain": [
       "'Coluna ignorados'"
      ]
     },
     "metadata": {},
     "output_type": "display_data"
    },
    {
     "data": {
      "text/plain": [
       "0"
      ]
     },
     "metadata": {},
     "output_type": "display_data"
    },
    {
     "data": {
      "text/plain": [
       "'Coluna feridos'"
      ]
     },
     "metadata": {},
     "output_type": "display_data"
    },
    {
     "data": {
      "text/plain": [
       "0"
      ]
     },
     "metadata": {},
     "output_type": "display_data"
    },
    {
     "data": {
      "text/plain": [
       "'Coluna veiculos'"
      ]
     },
     "metadata": {},
     "output_type": "display_data"
    },
    {
     "data": {
      "text/plain": [
       "0"
      ]
     },
     "metadata": {},
     "output_type": "display_data"
    },
    {
     "data": {
      "text/plain": [
       "'Coluna latitude'"
      ]
     },
     "metadata": {},
     "output_type": "display_data"
    },
    {
     "data": {
      "text/plain": [
       "0"
      ]
     },
     "metadata": {},
     "output_type": "display_data"
    },
    {
     "data": {
      "text/plain": [
       "'Coluna longitude'"
      ]
     },
     "metadata": {},
     "output_type": "display_data"
    },
    {
     "data": {
      "text/plain": [
       "0"
      ]
     },
     "metadata": {},
     "output_type": "display_data"
    },
    {
     "data": {
      "text/plain": [
       "'Coluna regional'"
      ]
     },
     "metadata": {},
     "output_type": "display_data"
    },
    {
     "data": {
      "text/plain": [
       "0"
      ]
     },
     "metadata": {},
     "output_type": "display_data"
    },
    {
     "data": {
      "text/plain": [
       "'Coluna delegacia'"
      ]
     },
     "metadata": {},
     "output_type": "display_data"
    },
    {
     "data": {
      "text/plain": [
       "0"
      ]
     },
     "metadata": {},
     "output_type": "display_data"
    },
    {
     "data": {
      "text/plain": [
       "'Coluna uop'"
      ]
     },
     "metadata": {},
     "output_type": "display_data"
    },
    {
     "data": {
      "text/plain": [
       "0"
      ]
     },
     "metadata": {},
     "output_type": "display_data"
    },
    {
     "data": {
      "text/plain": [
       "'Coluna ano'"
      ]
     },
     "metadata": {},
     "output_type": "display_data"
    },
    {
     "data": {
      "text/plain": [
       "0"
      ]
     },
     "metadata": {},
     "output_type": "display_data"
    }
   ],
   "source": [
    "for i in data.columns:\n",
    "    display(\"Coluna \" + str(i))\n",
    "    display(data[i].isna().sum())"
   ]
  },
  {
   "cell_type": "code",
   "execution_count": 14,
   "metadata": {},
   "outputs": [
    {
     "data": {
      "text/plain": [
       "Index(['id', 'data_inversa', 'dia_semana', 'horario', 'uf', 'br', 'km',\n",
       "       'municipio', 'causa_acidente', 'tipo_acidente',\n",
       "       'classificacao_acidente', 'fase_dia', 'sentido_via',\n",
       "       'condicao_metereologica', 'tipo_pista', 'tracado_via', 'uso_solo',\n",
       "       'pessoas', 'mortos', 'feridos_leves', 'feridos_graves', 'ilesos',\n",
       "       'ignorados', 'feridos', 'veiculos', 'latitude', 'longitude', 'regional',\n",
       "       'delegacia', 'uop', 'ano'],\n",
       "      dtype='object')"
      ]
     },
     "execution_count": 14,
     "metadata": {},
     "output_type": "execute_result"
    }
   ],
   "source": [
    "data.columns"
   ]
  },
  {
   "cell_type": "code",
   "execution_count": 15,
   "metadata": {},
   "outputs": [
    {
     "data": {
      "text/plain": [
       "array(['SPRF-ES', 'SPRF-SP', 'SPRF-MT', 'SPRF-PR', 'SPRF-MG', 'SPRF-BA',\n",
       "       'SPRF-RJ', 'SPRF-RS', 'SPRF-SC', 'SPRF-PI', 'SPRF-GO', 'SPRF-PE',\n",
       "       'SPRF-PA', 'SPRF-MS', 'SPRF-MA', 'SPRF-CE', 'SPRF-AP', 'SPRF-PB',\n",
       "       'SPRF-DF', 'SPRF-SE', 'SPRF-RO', 'SPRF-RN', 'SPRF-TO', 'SPRF-RR',\n",
       "       'SPRF-AL', 'SPRF-AC', 'Unknown', 'SPRF-AM', 'UniPRF'], dtype=object)"
      ]
     },
     "execution_count": 15,
     "metadata": {},
     "output_type": "execute_result"
    }
   ],
   "source": [
    "data.regional.unique()"
   ]
  },
  {
   "cell_type": "code",
   "execution_count": null,
   "metadata": {},
   "outputs": [],
   "source": []
  },
  {
   "cell_type": "code",
   "execution_count": 16,
   "metadata": {},
   "outputs": [
    {
     "data": {
      "text/plain": [
       "array([2023, 2022, 2021, 2020, 2019, 2018, 2017, 2016, 2015, 2014, 2013,\n",
       "       2012, 2011, 2010, 2009, 2008, 2007], dtype=int64)"
      ]
     },
     "execution_count": 16,
     "metadata": {},
     "output_type": "execute_result"
    }
   ],
   "source": [
    "data['ano'].unique()"
   ]
  },
  {
   "cell_type": "code",
   "execution_count": 17,
   "metadata": {},
   "outputs": [],
   "source": [
    "data['latitude'] = data['latitude'].str.replace(',', '.').replace('Unknown',-99999999).astype('float')\n"
   ]
  },
  {
   "cell_type": "code",
   "execution_count": 18,
   "metadata": {},
   "outputs": [],
   "source": [
    "data['longitude'] = data['longitude'].str.replace(',', '.').replace('Unknown',-99999999).astype('float')\n"
   ]
  },
  {
   "cell_type": "code",
   "execution_count": 19,
   "metadata": {},
   "outputs": [
    {
     "data": {
      "text/html": [
       "<div>\n",
       "<style scoped>\n",
       "    .dataframe tbody tr th:only-of-type {\n",
       "        vertical-align: middle;\n",
       "    }\n",
       "\n",
       "    .dataframe tbody tr th {\n",
       "        vertical-align: top;\n",
       "    }\n",
       "\n",
       "    .dataframe thead th {\n",
       "        text-align: right;\n",
       "    }\n",
       "</style>\n",
       "<table border=\"1\" class=\"dataframe\">\n",
       "  <thead>\n",
       "    <tr style=\"text-align: right;\">\n",
       "      <th></th>\n",
       "      <th>id</th>\n",
       "      <th>pessoas</th>\n",
       "      <th>mortos</th>\n",
       "      <th>feridos_leves</th>\n",
       "      <th>feridos_graves</th>\n",
       "      <th>ilesos</th>\n",
       "      <th>ignorados</th>\n",
       "      <th>feridos</th>\n",
       "      <th>veiculos</th>\n",
       "      <th>latitude</th>\n",
       "      <th>longitude</th>\n",
       "      <th>ano</th>\n",
       "    </tr>\n",
       "  </thead>\n",
       "  <tbody>\n",
       "    <tr>\n",
       "      <th>count</th>\n",
       "      <td>2.013757e+06</td>\n",
       "      <td>2.013757e+06</td>\n",
       "      <td>2.013757e+06</td>\n",
       "      <td>2.013757e+06</td>\n",
       "      <td>2.013757e+06</td>\n",
       "      <td>2.013757e+06</td>\n",
       "      <td>2.013757e+06</td>\n",
       "      <td>2.013757e+06</td>\n",
       "      <td>2.013757e+06</td>\n",
       "      <td>1.950181e+06</td>\n",
       "      <td>1.950181e+06</td>\n",
       "      <td>2.013757e+06</td>\n",
       "    </tr>\n",
       "    <tr>\n",
       "      <th>mean</th>\n",
       "      <td>1.996128e+07</td>\n",
       "      <td>2.201825e+00</td>\n",
       "      <td>5.587963e-02</td>\n",
       "      <td>5.342636e-01</td>\n",
       "      <td>1.855120e-01</td>\n",
       "      <td>1.327267e+00</td>\n",
       "      <td>9.885503e-02</td>\n",
       "      <td>7.197755e-01</td>\n",
       "      <td>1.721082e+00</td>\n",
       "      <td>-8.010594e+07</td>\n",
       "      <td>-8.010750e+07</td>\n",
       "      <td>2.013225e+03</td>\n",
       "    </tr>\n",
       "    <tr>\n",
       "      <th>std</th>\n",
       "      <td>3.500025e+07</td>\n",
       "      <td>1.649531e+00</td>\n",
       "      <td>2.922474e-01</td>\n",
       "      <td>1.013070e+00</td>\n",
       "      <td>5.734412e-01</td>\n",
       "      <td>1.298617e+00</td>\n",
       "      <td>3.972506e-01</td>\n",
       "      <td>1.209604e+00</td>\n",
       "      <td>7.265491e-01</td>\n",
       "      <td>3.992650e+07</td>\n",
       "      <td>4.002003e+07</td>\n",
       "      <td>4.228416e+00</td>\n",
       "    </tr>\n",
       "    <tr>\n",
       "      <th>min</th>\n",
       "      <td>8.000000e+00</td>\n",
       "      <td>1.000000e+00</td>\n",
       "      <td>0.000000e+00</td>\n",
       "      <td>0.000000e+00</td>\n",
       "      <td>0.000000e+00</td>\n",
       "      <td>0.000000e+00</td>\n",
       "      <td>0.000000e+00</td>\n",
       "      <td>0.000000e+00</td>\n",
       "      <td>1.000000e+00</td>\n",
       "      <td>-1.033383e+09</td>\n",
       "      <td>-4.016764e+09</td>\n",
       "      <td>2.007000e+03</td>\n",
       "    </tr>\n",
       "    <tr>\n",
       "      <th>25%</th>\n",
       "      <td>3.764640e+05</td>\n",
       "      <td>1.000000e+00</td>\n",
       "      <td>0.000000e+00</td>\n",
       "      <td>0.000000e+00</td>\n",
       "      <td>0.000000e+00</td>\n",
       "      <td>1.000000e+00</td>\n",
       "      <td>0.000000e+00</td>\n",
       "      <td>0.000000e+00</td>\n",
       "      <td>1.000000e+00</td>\n",
       "      <td>-1.000000e+08</td>\n",
       "      <td>-1.000000e+08</td>\n",
       "      <td>2.010000e+03</td>\n",
       "    </tr>\n",
       "    <tr>\n",
       "      <th>50%</th>\n",
       "      <td>7.754890e+05</td>\n",
       "      <td>2.000000e+00</td>\n",
       "      <td>0.000000e+00</td>\n",
       "      <td>0.000000e+00</td>\n",
       "      <td>0.000000e+00</td>\n",
       "      <td>1.000000e+00</td>\n",
       "      <td>0.000000e+00</td>\n",
       "      <td>0.000000e+00</td>\n",
       "      <td>2.000000e+00</td>\n",
       "      <td>-1.000000e+08</td>\n",
       "      <td>-1.000000e+08</td>\n",
       "      <td>2.013000e+03</td>\n",
       "    </tr>\n",
       "    <tr>\n",
       "      <th>75%</th>\n",
       "      <td>1.304960e+06</td>\n",
       "      <td>2.000000e+00</td>\n",
       "      <td>0.000000e+00</td>\n",
       "      <td>1.000000e+00</td>\n",
       "      <td>0.000000e+00</td>\n",
       "      <td>2.000000e+00</td>\n",
       "      <td>0.000000e+00</td>\n",
       "      <td>1.000000e+00</td>\n",
       "      <td>2.000000e+00</td>\n",
       "      <td>-1.000000e+08</td>\n",
       "      <td>-1.000000e+08</td>\n",
       "      <td>2.016000e+03</td>\n",
       "    </tr>\n",
       "    <tr>\n",
       "      <th>max</th>\n",
       "      <td>8.352989e+07</td>\n",
       "      <td>2.480000e+02</td>\n",
       "      <td>3.300000e+01</td>\n",
       "      <td>6.100000e+01</td>\n",
       "      <td>2.220000e+02</td>\n",
       "      <td>9.900000e+01</td>\n",
       "      <td>8.600000e+01</td>\n",
       "      <td>2.390000e+02</td>\n",
       "      <td>2.500000e+01</td>\n",
       "      <td>1.630000e+02</td>\n",
       "      <td>7.170000e+02</td>\n",
       "      <td>2.023000e+03</td>\n",
       "    </tr>\n",
       "  </tbody>\n",
       "</table>\n",
       "</div>"
      ],
      "text/plain": [
       "                 id       pessoas        mortos  feridos_leves  \\\n",
       "count  2.013757e+06  2.013757e+06  2.013757e+06   2.013757e+06   \n",
       "mean   1.996128e+07  2.201825e+00  5.587963e-02   5.342636e-01   \n",
       "std    3.500025e+07  1.649531e+00  2.922474e-01   1.013070e+00   \n",
       "min    8.000000e+00  1.000000e+00  0.000000e+00   0.000000e+00   \n",
       "25%    3.764640e+05  1.000000e+00  0.000000e+00   0.000000e+00   \n",
       "50%    7.754890e+05  2.000000e+00  0.000000e+00   0.000000e+00   \n",
       "75%    1.304960e+06  2.000000e+00  0.000000e+00   1.000000e+00   \n",
       "max    8.352989e+07  2.480000e+02  3.300000e+01   6.100000e+01   \n",
       "\n",
       "       feridos_graves        ilesos     ignorados       feridos      veiculos  \\\n",
       "count    2.013757e+06  2.013757e+06  2.013757e+06  2.013757e+06  2.013757e+06   \n",
       "mean     1.855120e-01  1.327267e+00  9.885503e-02  7.197755e-01  1.721082e+00   \n",
       "std      5.734412e-01  1.298617e+00  3.972506e-01  1.209604e+00  7.265491e-01   \n",
       "min      0.000000e+00  0.000000e+00  0.000000e+00  0.000000e+00  1.000000e+00   \n",
       "25%      0.000000e+00  1.000000e+00  0.000000e+00  0.000000e+00  1.000000e+00   \n",
       "50%      0.000000e+00  1.000000e+00  0.000000e+00  0.000000e+00  2.000000e+00   \n",
       "75%      0.000000e+00  2.000000e+00  0.000000e+00  1.000000e+00  2.000000e+00   \n",
       "max      2.220000e+02  9.900000e+01  8.600000e+01  2.390000e+02  2.500000e+01   \n",
       "\n",
       "           latitude     longitude           ano  \n",
       "count  1.950181e+06  1.950181e+06  2.013757e+06  \n",
       "mean  -8.010594e+07 -8.010750e+07  2.013225e+03  \n",
       "std    3.992650e+07  4.002003e+07  4.228416e+00  \n",
       "min   -1.033383e+09 -4.016764e+09  2.007000e+03  \n",
       "25%   -1.000000e+08 -1.000000e+08  2.010000e+03  \n",
       "50%   -1.000000e+08 -1.000000e+08  2.013000e+03  \n",
       "75%   -1.000000e+08 -1.000000e+08  2.016000e+03  \n",
       "max    1.630000e+02  7.170000e+02  2.023000e+03  "
      ]
     },
     "execution_count": 19,
     "metadata": {},
     "output_type": "execute_result"
    }
   ],
   "source": [
    "data.describe()"
   ]
  },
  {
   "cell_type": "code",
   "execution_count": 20,
   "metadata": {},
   "outputs": [
    {
     "data": {
      "text/html": [
       "<div>\n",
       "<style scoped>\n",
       "    .dataframe tbody tr th:only-of-type {\n",
       "        vertical-align: middle;\n",
       "    }\n",
       "\n",
       "    .dataframe tbody tr th {\n",
       "        vertical-align: top;\n",
       "    }\n",
       "\n",
       "    .dataframe thead th {\n",
       "        text-align: right;\n",
       "    }\n",
       "</style>\n",
       "<table border=\"1\" class=\"dataframe\">\n",
       "  <thead>\n",
       "    <tr style=\"text-align: right;\">\n",
       "      <th></th>\n",
       "      <th>mortos</th>\n",
       "      <th>feridos_leves</th>\n",
       "      <th>feridos_graves</th>\n",
       "      <th>ilesos</th>\n",
       "      <th>ignorados</th>\n",
       "      <th>feridos</th>\n",
       "    </tr>\n",
       "  </thead>\n",
       "  <tbody>\n",
       "    <tr>\n",
       "      <th>0</th>\n",
       "      <td>0</td>\n",
       "      <td>1</td>\n",
       "      <td>0</td>\n",
       "      <td>0</td>\n",
       "      <td>0</td>\n",
       "      <td>1</td>\n",
       "    </tr>\n",
       "    <tr>\n",
       "      <th>1</th>\n",
       "      <td>1</td>\n",
       "      <td>0</td>\n",
       "      <td>0</td>\n",
       "      <td>0</td>\n",
       "      <td>4</td>\n",
       "      <td>0</td>\n",
       "    </tr>\n",
       "    <tr>\n",
       "      <th>2</th>\n",
       "      <td>0</td>\n",
       "      <td>0</td>\n",
       "      <td>1</td>\n",
       "      <td>0</td>\n",
       "      <td>0</td>\n",
       "      <td>1</td>\n",
       "    </tr>\n",
       "    <tr>\n",
       "      <th>3</th>\n",
       "      <td>0</td>\n",
       "      <td>0</td>\n",
       "      <td>0</td>\n",
       "      <td>1</td>\n",
       "      <td>0</td>\n",
       "      <td>0</td>\n",
       "    </tr>\n",
       "    <tr>\n",
       "      <th>4</th>\n",
       "      <td>0</td>\n",
       "      <td>0</td>\n",
       "      <td>2</td>\n",
       "      <td>1</td>\n",
       "      <td>0</td>\n",
       "      <td>2</td>\n",
       "    </tr>\n",
       "    <tr>\n",
       "      <th>...</th>\n",
       "      <td>...</td>\n",
       "      <td>...</td>\n",
       "      <td>...</td>\n",
       "      <td>...</td>\n",
       "      <td>...</td>\n",
       "      <td>...</td>\n",
       "    </tr>\n",
       "    <tr>\n",
       "      <th>127670</th>\n",
       "      <td>0</td>\n",
       "      <td>2</td>\n",
       "      <td>2</td>\n",
       "      <td>0</td>\n",
       "      <td>0</td>\n",
       "      <td>4</td>\n",
       "    </tr>\n",
       "    <tr>\n",
       "      <th>127671</th>\n",
       "      <td>0</td>\n",
       "      <td>0</td>\n",
       "      <td>1</td>\n",
       "      <td>2</td>\n",
       "      <td>0</td>\n",
       "      <td>1</td>\n",
       "    </tr>\n",
       "    <tr>\n",
       "      <th>127672</th>\n",
       "      <td>1</td>\n",
       "      <td>0</td>\n",
       "      <td>6</td>\n",
       "      <td>2</td>\n",
       "      <td>0</td>\n",
       "      <td>6</td>\n",
       "    </tr>\n",
       "    <tr>\n",
       "      <th>127673</th>\n",
       "      <td>0</td>\n",
       "      <td>3</td>\n",
       "      <td>0</td>\n",
       "      <td>0</td>\n",
       "      <td>0</td>\n",
       "      <td>3</td>\n",
       "    </tr>\n",
       "    <tr>\n",
       "      <th>127674</th>\n",
       "      <td>0</td>\n",
       "      <td>0</td>\n",
       "      <td>0</td>\n",
       "      <td>2</td>\n",
       "      <td>0</td>\n",
       "      <td>0</td>\n",
       "    </tr>\n",
       "  </tbody>\n",
       "</table>\n",
       "<p>2013757 rows × 6 columns</p>\n",
       "</div>"
      ],
      "text/plain": [
       "        mortos  feridos_leves  feridos_graves  ilesos  ignorados  feridos\n",
       "0            0              1               0       0          0        1\n",
       "1            1              0               0       0          4        0\n",
       "2            0              0               1       0          0        1\n",
       "3            0              0               0       1          0        0\n",
       "4            0              0               2       1          0        2\n",
       "...        ...            ...             ...     ...        ...      ...\n",
       "127670       0              2               2       0          0        4\n",
       "127671       0              0               1       2          0        1\n",
       "127672       1              0               6       2          0        6\n",
       "127673       0              3               0       0          0        3\n",
       "127674       0              0               0       2          0        0\n",
       "\n",
       "[2013757 rows x 6 columns]"
      ]
     },
     "execution_count": 20,
     "metadata": {},
     "output_type": "execute_result"
    }
   ],
   "source": [
    "data[['mortos', 'feridos_leves','feridos_graves',\t'ilesos',\t'ignorados',\t'feridos']]"
   ]
  },
  {
   "cell_type": "code",
   "execution_count": 22,
   "metadata": {},
   "outputs": [],
   "source": [
    "data = data.drop('id', axis=1)"
   ]
  },
  {
   "cell_type": "code",
   "execution_count": 23,
   "metadata": {},
   "outputs": [],
   "source": [
    "data.to_csv('preprocess_data.csv')"
   ]
  }
 ],
 "metadata": {
  "kernelspec": {
   "display_name": "Python 3",
   "language": "python",
   "name": "python3"
  },
  "language_info": {
   "codemirror_mode": {
    "name": "ipython",
    "version": 3
   },
   "file_extension": ".py",
   "mimetype": "text/x-python",
   "name": "python",
   "nbconvert_exporter": "python",
   "pygments_lexer": "ipython3",
   "version": "3.10.0"
  },
  "orig_nbformat": 4
 },
 "nbformat": 4,
 "nbformat_minor": 2
}
