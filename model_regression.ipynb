{
 "cells": [
  {
   "cell_type": "code",
   "execution_count": 2,
   "metadata": {},
   "outputs": [
    {
     "name": "stderr",
     "output_type": "stream",
     "text": [
      "[nltk_data] Downloading package punkt to\n",
      "[nltk_data]     C:\\Users\\vferr\\AppData\\Roaming\\nltk_data...\n",
      "[nltk_data]   Package punkt is already up-to-date!\n",
      "[nltk_data] Downloading package stopwords to\n",
      "[nltk_data]     C:\\Users\\vferr\\AppData\\Roaming\\nltk_data...\n",
      "[nltk_data]   Package stopwords is already up-to-date!\n"
     ]
    },
    {
     "data": {
      "text/plain": [
       "True"
      ]
     },
     "execution_count": 2,
     "metadata": {},
     "output_type": "execute_result"
    }
   ],
   "source": [
    "import pandas as pd\n",
    "import seaborn as sns\n",
    "import matplotlib.pyplot as plt\n",
    "from sklearn.feature_selection import mutual_info_regression\n",
    "import numpy as np\n",
    "import datetime\n",
    "from imblearn.over_sampling import RandomOverSampler\n",
    "from imblearn.under_sampling import RandomUnderSampler\n",
    "from imblearn.over_sampling import SMOTE\n",
    "from sklearn.metrics import classification_report\n",
    "from sklearn.neural_network import MLPClassifier\n",
    "from sklearn.model_selection import train_test_split\n",
    "from sklearn.preprocessing import MinMaxScaler\n",
    "from scipy.stats import chi2_contingency\n",
    "from keras.models import Sequential\n",
    "from keras.layers import Dense, Activation,  BatchNormalization, Dropout\n",
    "import joblib\n",
    "from sklearn.preprocessing import StandardScaler\n",
    "from sklearn.feature_selection import RFE\n",
    "from sklearn.linear_model import LogisticRegression\n",
    "\n",
    "from keras.models import load_model\n",
    "\n",
    "import nltk\n",
    "from nltk.corpus import stopwords\n",
    "from nltk.tokenize import word_tokenize\n",
    "import spacy\n",
    "\n",
    "\n",
    "# Download NLTK resources if you haven't already\n",
    "nltk.download('punkt')\n",
    "nltk.download('stopwords')\n",
    "\n",
    "\n",
    " \n",
    "\n"
   ]
  },
  {
   "cell_type": "code",
   "execution_count": 2,
   "metadata": {},
   "outputs": [],
   "source": [
    "##! pip install --upgrade pydantic\n"
   ]
  },
  {
   "cell_type": "code",
   "execution_count": 3,
   "metadata": {},
   "outputs": [
    {
     "name": "stderr",
     "output_type": "stream",
     "text": [
      "C:\\Users\\vferr\\AppData\\Local\\Temp\\ipykernel_15140\\4224766566.py:1: DtypeWarning: Columns (6,7) have mixed types. Specify dtype option on import or set low_memory=False.\n",
      "  data = pd.read_csv('preprocess_data.csv')\n"
     ]
    }
   ],
   "source": [
    "data = pd.read_csv('preprocess_data.csv')"
   ]
  },
  {
   "cell_type": "code",
   "execution_count": 4,
   "metadata": {},
   "outputs": [],
   "source": [
    "data['br'] = data['br'].str.replace(\".0\", \"\")"
   ]
  },
  {
   "cell_type": "code",
   "execution_count": 5,
   "metadata": {},
   "outputs": [
    {
     "data": {
      "text/plain": [
       "array(['101', '116', '163', '376', '262', '381', '465', '392', '316',\n",
       "       '50', '365', '290', '386', '40', '324', '364', '407', '210', '412',\n",
       "       '428', '280', '470', '20', '480', '158', '153', '222', '277',\n",
       "       '282', '251', '70', '459', '259', '493', '230', '110', '343',\n",
       "       '242', '285', '60', '319', '174', '232', '467', '405', '476', '10',\n",
       "       '410', '423', '155', '287', '393', '421', '452', '356', '472',\n",
       "       '414', '135', '435', '373', '432', '226', '369', '354', '267',\n",
       "       'Unknown', '408', '359', '471', '349', '304', '424', '463', '293',\n",
       "       '80', '146', '235', '30', '104', '468', '448', '430', '406', '330',\n",
       "       '415', '402', '361', '487', '272', '427', '367', '495', '122',\n",
       "       '419', '429', '401', '420', '436', '308', '317', '156', '469',\n",
       "       '418', '425', '416', '488', '447', '437', '434', '352', '342',\n",
       "       '403', '433', '485', '422', '265', '482', '484', '475', '426',\n",
       "       '477', '457', '120', '383', '498', '377', '451', '404', '473', '0',\n",
       "       '450', nan, '474', '460', '(null)', '4', '617', '580', '221',\n",
       "       '560', '84', '687', '178', '601', '605', '604'], dtype=object)"
      ]
     },
     "execution_count": 5,
     "metadata": {},
     "output_type": "execute_result"
    }
   ],
   "source": [
    "data['br'].unique()"
   ]
  },
  {
   "cell_type": "code",
   "execution_count": 6,
   "metadata": {},
   "outputs": [],
   "source": [
    "## Garantir que minha coluna ANO está no formato de int\n",
    "data.ano = data.ano.astype(int)"
   ]
  },
  {
   "cell_type": "code",
   "execution_count": 7,
   "metadata": {},
   "outputs": [],
   "source": [
    "for column in data.columns:\n",
    "    if data[column].dtype == 'O':\n",
    "        data[column] = data[column].str.lower()\n",
    "        data[column] = data[column].replace(\n",
    "            '(null)', 'unknown').replace('0', 'unknown')\n",
    "        data[column] = data[column].str.encode(\n",
    "            'ISO-8859-1').str.decode('utf-8', 'ignore')\n",
    "        data[column] = data[column].fillna('unknown')\n",
    "    else:\n",
    "        data[column] = data[column].fillna(-99999999)\n"
   ]
  },
  {
   "cell_type": "code",
   "execution_count": 8,
   "metadata": {},
   "outputs": [
    {
     "data": {
      "text/plain": [
       "array(['101', '116', '163', '376', '262', '381', '465', '392', '316',\n",
       "       '50', '365', '290', '386', '40', '324', '364', '407', '210', '412',\n",
       "       '428', '280', '470', '20', '480', '158', '153', '222', '277',\n",
       "       '282', '251', '70', '459', '259', '493', '230', '110', '343',\n",
       "       '242', '285', '60', '319', '174', '232', '467', '405', '476', '10',\n",
       "       '410', '423', '155', '287', '393', '421', '452', '356', '472',\n",
       "       '414', '135', '435', '373', '432', '226', '369', '354', '267',\n",
       "       'unknown', '408', '359', '471', '349', '304', '424', '463', '293',\n",
       "       '80', '146', '235', '30', '104', '468', '448', '430', '406', '330',\n",
       "       '415', '402', '361', '487', '272', '427', '367', '495', '122',\n",
       "       '419', '429', '401', '420', '436', '308', '317', '156', '469',\n",
       "       '418', '425', '416', '488', '447', '437', '434', '352', '342',\n",
       "       '403', '433', '485', '422', '265', '482', '484', '475', '426',\n",
       "       '477', '457', '120', '383', '498', '377', '451', '404', '473',\n",
       "       '450', '474', '460', '4', '617', '580', '221', '560', '84', '687',\n",
       "       '178', '601', '605', '604'], dtype=object)"
      ]
     },
     "execution_count": 8,
     "metadata": {},
     "output_type": "execute_result"
    }
   ],
   "source": [
    "data.br.unique()"
   ]
  },
  {
   "cell_type": "code",
   "execution_count": 9,
   "metadata": {},
   "outputs": [],
   "source": [
    "#### Our approach will be based on the idea of choosing best features, grouping our data \n",
    "#### using those features so We can have the amount of accidents for each combination \n",
    "#### of features. \n",
    "\n",
    "### Since our task is a regression (to predict values, not classes) not a classification\n",
    "### We are not gonna be worried about data balacing. \n",
    "\n",
    "### Now, we are gonna work on the following steps first:\n",
    "\n",
    "# Feature Selection.\n",
    "# Missing values.\n",
    "# Data Transformation: Standardization and Hot Encodings. \n",
    "\n",
    "## Note that in our preprocessing notebook we've already dealed with missing data\n",
    "## turning them into Unknown or (numerical speaking) into -999999999.\n"
   ]
  },
  {
   "cell_type": "code",
   "execution_count": 10,
   "metadata": {},
   "outputs": [],
   "source": [
    "all_columns = [ 'dia_semana', 'horario',\n",
    "        'uf', 'br', 'km', 'municipio', 'causa_acidente', 'tipo_acidente',\n",
    "        'classificacao_acidente', 'fase_dia', 'sentido_via',\n",
    "        'condicao_metereologica', 'tipo_pista', 'tracado_via', 'uso_solo',\n",
    "        'pessoas', 'mortos', 'feridos_leves', 'feridos_graves', 'ilesos',\n",
    "        'ignorados', 'feridos', 'veiculos', 'latitude', 'longitude', 'regional',\n",
    "        'delegacia', 'uop', 'ano']\n",
    "\n",
    "grouped_data = data.groupby(all_columns).size().reset_index(name='num_accidents')\n"
   ]
  },
  {
   "cell_type": "code",
   "execution_count": 11,
   "metadata": {},
   "outputs": [],
   "source": [
    "X = grouped_data.drop('num_accidents', axis=1)\n",
    "\n",
    "Y = grouped_data['num_accidents']"
   ]
  },
  {
   "cell_type": "code",
   "execution_count": 12,
   "metadata": {},
   "outputs": [],
   "source": [
    "### We were gonna use Mutual Information to choose between the features, since We have categorical data\n",
    "### and hot encoding our data now would use more memory than is desirable, but, after a few tries, \n",
    "### the features choices were not consistent, because of that I changed the feature selection algorithm \n",
    "### for Chi-square test.\n",
    "\n",
    "for column in X.columns:\n",
    "    X[column] = X[column].astype('category').cat.codes\n"
   ]
  },
  {
   "cell_type": "code",
   "execution_count": 19,
   "metadata": {},
   "outputs": [
    {
     "name": "stderr",
     "output_type": "stream",
     "text": [
      "C:\\Users\\vferr\\AppData\\Local\\Packages\\PythonSoftwareFoundation.Python.3.10_qbz5n2kfra8p0\\LocalCache\\local-packages\\Python310\\site-packages\\sklearn\\linear_model\\_logistic.py:458: ConvergenceWarning: lbfgs failed to converge (status=1):\n",
      "STOP: TOTAL NO. of ITERATIONS REACHED LIMIT.\n",
      "\n",
      "Increase the number of iterations (max_iter) or scale the data as shown in:\n",
      "    https://scikit-learn.org/stable/modules/preprocessing.html\n",
      "Please also refer to the documentation for alternative solver options:\n",
      "    https://scikit-learn.org/stable/modules/linear_model.html#logistic-regression\n",
      "  n_iter_i = _check_optimize_result(\n",
      "C:\\Users\\vferr\\AppData\\Local\\Packages\\PythonSoftwareFoundation.Python.3.10_qbz5n2kfra8p0\\LocalCache\\local-packages\\Python310\\site-packages\\sklearn\\linear_model\\_logistic.py:458: ConvergenceWarning: lbfgs failed to converge (status=1):\n",
      "STOP: TOTAL NO. of ITERATIONS REACHED LIMIT.\n",
      "\n",
      "Increase the number of iterations (max_iter) or scale the data as shown in:\n",
      "    https://scikit-learn.org/stable/modules/preprocessing.html\n",
      "Please also refer to the documentation for alternative solver options:\n",
      "    https://scikit-learn.org/stable/modules/linear_model.html#logistic-regression\n",
      "  n_iter_i = _check_optimize_result(\n",
      "C:\\Users\\vferr\\AppData\\Local\\Packages\\PythonSoftwareFoundation.Python.3.10_qbz5n2kfra8p0\\LocalCache\\local-packages\\Python310\\site-packages\\sklearn\\linear_model\\_logistic.py:458: ConvergenceWarning: lbfgs failed to converge (status=1):\n",
      "STOP: TOTAL NO. of ITERATIONS REACHED LIMIT.\n",
      "\n",
      "Increase the number of iterations (max_iter) or scale the data as shown in:\n",
      "    https://scikit-learn.org/stable/modules/preprocessing.html\n",
      "Please also refer to the documentation for alternative solver options:\n",
      "    https://scikit-learn.org/stable/modules/linear_model.html#logistic-regression\n",
      "  n_iter_i = _check_optimize_result(\n",
      "C:\\Users\\vferr\\AppData\\Local\\Packages\\PythonSoftwareFoundation.Python.3.10_qbz5n2kfra8p0\\LocalCache\\local-packages\\Python310\\site-packages\\sklearn\\linear_model\\_logistic.py:458: ConvergenceWarning: lbfgs failed to converge (status=1):\n",
      "STOP: TOTAL NO. of ITERATIONS REACHED LIMIT.\n",
      "\n",
      "Increase the number of iterations (max_iter) or scale the data as shown in:\n",
      "    https://scikit-learn.org/stable/modules/preprocessing.html\n",
      "Please also refer to the documentation for alternative solver options:\n",
      "    https://scikit-learn.org/stable/modules/linear_model.html#logistic-regression\n",
      "  n_iter_i = _check_optimize_result(\n",
      "C:\\Users\\vferr\\AppData\\Local\\Packages\\PythonSoftwareFoundation.Python.3.10_qbz5n2kfra8p0\\LocalCache\\local-packages\\Python310\\site-packages\\sklearn\\linear_model\\_logistic.py:458: ConvergenceWarning: lbfgs failed to converge (status=1):\n",
      "STOP: TOTAL NO. of ITERATIONS REACHED LIMIT.\n",
      "\n",
      "Increase the number of iterations (max_iter) or scale the data as shown in:\n",
      "    https://scikit-learn.org/stable/modules/preprocessing.html\n",
      "Please also refer to the documentation for alternative solver options:\n",
      "    https://scikit-learn.org/stable/modules/linear_model.html#logistic-regression\n",
      "  n_iter_i = _check_optimize_result(\n",
      "C:\\Users\\vferr\\AppData\\Local\\Packages\\PythonSoftwareFoundation.Python.3.10_qbz5n2kfra8p0\\LocalCache\\local-packages\\Python310\\site-packages\\sklearn\\linear_model\\_logistic.py:458: ConvergenceWarning: lbfgs failed to converge (status=1):\n",
      "STOP: TOTAL NO. of ITERATIONS REACHED LIMIT.\n",
      "\n",
      "Increase the number of iterations (max_iter) or scale the data as shown in:\n",
      "    https://scikit-learn.org/stable/modules/preprocessing.html\n",
      "Please also refer to the documentation for alternative solver options:\n",
      "    https://scikit-learn.org/stable/modules/linear_model.html#logistic-regression\n",
      "  n_iter_i = _check_optimize_result(\n",
      "C:\\Users\\vferr\\AppData\\Local\\Packages\\PythonSoftwareFoundation.Python.3.10_qbz5n2kfra8p0\\LocalCache\\local-packages\\Python310\\site-packages\\sklearn\\linear_model\\_logistic.py:458: ConvergenceWarning: lbfgs failed to converge (status=1):\n",
      "STOP: TOTAL NO. of ITERATIONS REACHED LIMIT.\n",
      "\n",
      "Increase the number of iterations (max_iter) or scale the data as shown in:\n",
      "    https://scikit-learn.org/stable/modules/preprocessing.html\n",
      "Please also refer to the documentation for alternative solver options:\n",
      "    https://scikit-learn.org/stable/modules/linear_model.html#logistic-regression\n",
      "  n_iter_i = _check_optimize_result(\n",
      "C:\\Users\\vferr\\AppData\\Local\\Packages\\PythonSoftwareFoundation.Python.3.10_qbz5n2kfra8p0\\LocalCache\\local-packages\\Python310\\site-packages\\sklearn\\linear_model\\_logistic.py:458: ConvergenceWarning: lbfgs failed to converge (status=1):\n",
      "STOP: TOTAL NO. of ITERATIONS REACHED LIMIT.\n",
      "\n",
      "Increase the number of iterations (max_iter) or scale the data as shown in:\n",
      "    https://scikit-learn.org/stable/modules/preprocessing.html\n",
      "Please also refer to the documentation for alternative solver options:\n",
      "    https://scikit-learn.org/stable/modules/linear_model.html#logistic-regression\n",
      "  n_iter_i = _check_optimize_result(\n",
      "C:\\Users\\vferr\\AppData\\Local\\Packages\\PythonSoftwareFoundation.Python.3.10_qbz5n2kfra8p0\\LocalCache\\local-packages\\Python310\\site-packages\\sklearn\\linear_model\\_logistic.py:458: ConvergenceWarning: lbfgs failed to converge (status=1):\n",
      "STOP: TOTAL NO. of ITERATIONS REACHED LIMIT.\n",
      "\n",
      "Increase the number of iterations (max_iter) or scale the data as shown in:\n",
      "    https://scikit-learn.org/stable/modules/preprocessing.html\n",
      "Please also refer to the documentation for alternative solver options:\n",
      "    https://scikit-learn.org/stable/modules/linear_model.html#logistic-regression\n",
      "  n_iter_i = _check_optimize_result(\n",
      "C:\\Users\\vferr\\AppData\\Local\\Packages\\PythonSoftwareFoundation.Python.3.10_qbz5n2kfra8p0\\LocalCache\\local-packages\\Python310\\site-packages\\sklearn\\linear_model\\_logistic.py:458: ConvergenceWarning: lbfgs failed to converge (status=1):\n",
      "STOP: TOTAL NO. of ITERATIONS REACHED LIMIT.\n",
      "\n",
      "Increase the number of iterations (max_iter) or scale the data as shown in:\n",
      "    https://scikit-learn.org/stable/modules/preprocessing.html\n",
      "Please also refer to the documentation for alternative solver options:\n",
      "    https://scikit-learn.org/stable/modules/linear_model.html#logistic-regression\n",
      "  n_iter_i = _check_optimize_result(\n",
      "C:\\Users\\vferr\\AppData\\Local\\Packages\\PythonSoftwareFoundation.Python.3.10_qbz5n2kfra8p0\\LocalCache\\local-packages\\Python310\\site-packages\\sklearn\\linear_model\\_logistic.py:458: ConvergenceWarning: lbfgs failed to converge (status=1):\n",
      "STOP: TOTAL NO. of ITERATIONS REACHED LIMIT.\n",
      "\n",
      "Increase the number of iterations (max_iter) or scale the data as shown in:\n",
      "    https://scikit-learn.org/stable/modules/preprocessing.html\n",
      "Please also refer to the documentation for alternative solver options:\n",
      "    https://scikit-learn.org/stable/modules/linear_model.html#logistic-regression\n",
      "  n_iter_i = _check_optimize_result(\n",
      "C:\\Users\\vferr\\AppData\\Local\\Packages\\PythonSoftwareFoundation.Python.3.10_qbz5n2kfra8p0\\LocalCache\\local-packages\\Python310\\site-packages\\sklearn\\linear_model\\_logistic.py:458: ConvergenceWarning: lbfgs failed to converge (status=1):\n",
      "STOP: TOTAL NO. of ITERATIONS REACHED LIMIT.\n",
      "\n",
      "Increase the number of iterations (max_iter) or scale the data as shown in:\n",
      "    https://scikit-learn.org/stable/modules/preprocessing.html\n",
      "Please also refer to the documentation for alternative solver options:\n",
      "    https://scikit-learn.org/stable/modules/linear_model.html#logistic-regression\n",
      "  n_iter_i = _check_optimize_result(\n",
      "C:\\Users\\vferr\\AppData\\Local\\Packages\\PythonSoftwareFoundation.Python.3.10_qbz5n2kfra8p0\\LocalCache\\local-packages\\Python310\\site-packages\\sklearn\\linear_model\\_logistic.py:458: ConvergenceWarning: lbfgs failed to converge (status=1):\n",
      "STOP: TOTAL NO. of ITERATIONS REACHED LIMIT.\n",
      "\n",
      "Increase the number of iterations (max_iter) or scale the data as shown in:\n",
      "    https://scikit-learn.org/stable/modules/preprocessing.html\n",
      "Please also refer to the documentation for alternative solver options:\n",
      "    https://scikit-learn.org/stable/modules/linear_model.html#logistic-regression\n",
      "  n_iter_i = _check_optimize_result(\n",
      "C:\\Users\\vferr\\AppData\\Local\\Packages\\PythonSoftwareFoundation.Python.3.10_qbz5n2kfra8p0\\LocalCache\\local-packages\\Python310\\site-packages\\sklearn\\linear_model\\_logistic.py:458: ConvergenceWarning: lbfgs failed to converge (status=1):\n",
      "STOP: TOTAL NO. of ITERATIONS REACHED LIMIT.\n",
      "\n",
      "Increase the number of iterations (max_iter) or scale the data as shown in:\n",
      "    https://scikit-learn.org/stable/modules/preprocessing.html\n",
      "Please also refer to the documentation for alternative solver options:\n",
      "    https://scikit-learn.org/stable/modules/linear_model.html#logistic-regression\n",
      "  n_iter_i = _check_optimize_result(\n",
      "C:\\Users\\vferr\\AppData\\Local\\Packages\\PythonSoftwareFoundation.Python.3.10_qbz5n2kfra8p0\\LocalCache\\local-packages\\Python310\\site-packages\\sklearn\\linear_model\\_logistic.py:458: ConvergenceWarning: lbfgs failed to converge (status=1):\n",
      "STOP: TOTAL NO. of ITERATIONS REACHED LIMIT.\n",
      "\n",
      "Increase the number of iterations (max_iter) or scale the data as shown in:\n",
      "    https://scikit-learn.org/stable/modules/preprocessing.html\n",
      "Please also refer to the documentation for alternative solver options:\n",
      "    https://scikit-learn.org/stable/modules/linear_model.html#logistic-regression\n",
      "  n_iter_i = _check_optimize_result(\n",
      "C:\\Users\\vferr\\AppData\\Local\\Packages\\PythonSoftwareFoundation.Python.3.10_qbz5n2kfra8p0\\LocalCache\\local-packages\\Python310\\site-packages\\sklearn\\linear_model\\_logistic.py:458: ConvergenceWarning: lbfgs failed to converge (status=1):\n",
      "STOP: TOTAL NO. of ITERATIONS REACHED LIMIT.\n",
      "\n",
      "Increase the number of iterations (max_iter) or scale the data as shown in:\n",
      "    https://scikit-learn.org/stable/modules/preprocessing.html\n",
      "Please also refer to the documentation for alternative solver options:\n",
      "    https://scikit-learn.org/stable/modules/linear_model.html#logistic-regression\n",
      "  n_iter_i = _check_optimize_result(\n",
      "C:\\Users\\vferr\\AppData\\Local\\Packages\\PythonSoftwareFoundation.Python.3.10_qbz5n2kfra8p0\\LocalCache\\local-packages\\Python310\\site-packages\\sklearn\\linear_model\\_logistic.py:458: ConvergenceWarning: lbfgs failed to converge (status=1):\n",
      "STOP: TOTAL NO. of ITERATIONS REACHED LIMIT.\n",
      "\n",
      "Increase the number of iterations (max_iter) or scale the data as shown in:\n",
      "    https://scikit-learn.org/stable/modules/preprocessing.html\n",
      "Please also refer to the documentation for alternative solver options:\n",
      "    https://scikit-learn.org/stable/modules/linear_model.html#logistic-regression\n",
      "  n_iter_i = _check_optimize_result(\n",
      "C:\\Users\\vferr\\AppData\\Local\\Packages\\PythonSoftwareFoundation.Python.3.10_qbz5n2kfra8p0\\LocalCache\\local-packages\\Python310\\site-packages\\sklearn\\linear_model\\_logistic.py:458: ConvergenceWarning: lbfgs failed to converge (status=1):\n",
      "STOP: TOTAL NO. of ITERATIONS REACHED LIMIT.\n",
      "\n",
      "Increase the number of iterations (max_iter) or scale the data as shown in:\n",
      "    https://scikit-learn.org/stable/modules/preprocessing.html\n",
      "Please also refer to the documentation for alternative solver options:\n",
      "    https://scikit-learn.org/stable/modules/linear_model.html#logistic-regression\n",
      "  n_iter_i = _check_optimize_result(\n",
      "C:\\Users\\vferr\\AppData\\Local\\Packages\\PythonSoftwareFoundation.Python.3.10_qbz5n2kfra8p0\\LocalCache\\local-packages\\Python310\\site-packages\\sklearn\\linear_model\\_logistic.py:458: ConvergenceWarning: lbfgs failed to converge (status=1):\n",
      "STOP: TOTAL NO. of ITERATIONS REACHED LIMIT.\n",
      "\n",
      "Increase the number of iterations (max_iter) or scale the data as shown in:\n",
      "    https://scikit-learn.org/stable/modules/preprocessing.html\n",
      "Please also refer to the documentation for alternative solver options:\n",
      "    https://scikit-learn.org/stable/modules/linear_model.html#logistic-regression\n",
      "  n_iter_i = _check_optimize_result(\n"
     ]
    },
    {
     "name": "stdout",
     "output_type": "stream",
     "text": [
      "Selected Features:\n",
      "['uf', 'tipo_acidente', 'fase_dia', 'regional', 'ano']\n"
     ]
    },
    {
     "name": "stderr",
     "output_type": "stream",
     "text": [
      "C:\\Users\\vferr\\AppData\\Local\\Packages\\PythonSoftwareFoundation.Python.3.10_qbz5n2kfra8p0\\LocalCache\\local-packages\\Python310\\site-packages\\sklearn\\linear_model\\_logistic.py:458: ConvergenceWarning: lbfgs failed to converge (status=1):\n",
      "STOP: TOTAL NO. of ITERATIONS REACHED LIMIT.\n",
      "\n",
      "Increase the number of iterations (max_iter) or scale the data as shown in:\n",
      "    https://scikit-learn.org/stable/modules/preprocessing.html\n",
      "Please also refer to the documentation for alternative solver options:\n",
      "    https://scikit-learn.org/stable/modules/linear_model.html#logistic-regression\n",
      "  n_iter_i = _check_optimize_result(\n"
     ]
    }
   ],
   "source": [
    "model = LogisticRegression()\n",
    "num_feat = 5 \n",
    "num_iter = 10  \n",
    "\n",
    "\n",
    "selected_features = []\n",
    "\n",
    "for _ in range(num_iter):\n",
    "    select_f = RFE(model, n_features_to_select=num_feat)\n",
    "    select_f = select_f.fit(X, Y)\n",
    "    selected_features.extend(X.columns[select_f.support_])\n",
    "\n",
    "    X = X[X.columns[~select_f.support_]]\n",
    "    if len(selected_features) >= num_feat:\n",
    "        break\n",
    "\n",
    "selected_features = selected_features[:num_feat]"
   ]
  },
  {
   "cell_type": "code",
   "execution_count": 13,
   "metadata": {},
   "outputs": [],
   "source": [
    "selected_features = ['uf', 'tipo_acidente', 'fase_dia', 'regional', 'ano']\n"
   ]
  },
  {
   "cell_type": "code",
   "execution_count": 14,
   "metadata": {},
   "outputs": [],
   "source": [
    "important_features = list(selected_features)"
   ]
  },
  {
   "cell_type": "code",
   "execution_count": 15,
   "metadata": {},
   "outputs": [
    {
     "data": {
      "text/plain": [
       "['uf', 'tipo_acidente', 'fase_dia', 'regional', 'ano']"
      ]
     },
     "execution_count": 15,
     "metadata": {},
     "output_type": "execute_result"
    }
   ],
   "source": [
    "important_features\n"
   ]
  },
  {
   "cell_type": "code",
   "execution_count": 16,
   "metadata": {},
   "outputs": [],
   "source": [
    "### We've got  what we neeed!! Great! \n",
    "# Using:\n",
    "# ['uf', 'tipo_acidente', 'fase_dia', 'regional', 'ano']\n",
    "# to predict the number of car_accidents!\n"
   ]
  },
  {
   "cell_type": "code",
   "execution_count": 17,
   "metadata": {},
   "outputs": [],
   "source": [
    "dataset = data.groupby(important_features).size().reset_index(name='num_accidents')"
   ]
  },
  {
   "cell_type": "code",
   "execution_count": 18,
   "metadata": {},
   "outputs": [
    {
     "data": {
      "text/plain": [
       "73.97535081919037"
      ]
     },
     "execution_count": 18,
     "metadata": {},
     "output_type": "execute_result"
    }
   ],
   "source": [
    "dataset['num_accidents'].mean()\n"
   ]
  },
  {
   "cell_type": "code",
   "execution_count": 19,
   "metadata": {},
   "outputs": [],
   "source": [
    "### Let´s hot encode our categorical features and normalize our num_accidents"
   ]
  },
  {
   "cell_type": "code",
   "execution_count": 20,
   "metadata": {},
   "outputs": [],
   "source": [
    "scaler = MinMaxScaler()\n",
    "dataset['num_accidents_norm'] = scaler.fit_transform(dataset[['num_accidents']])\n",
    "\n",
    "scaler = StandardScaler()\n",
    "\n",
    "anos = dataset['ano'].values.reshape(-1, 1)\n",
    "scaled_ano = scaler.fit_transform(anos)\n",
    "\n",
    "dataset['ano'] = scaled_ano\n"
   ]
  },
  {
   "cell_type": "code",
   "execution_count": 21,
   "metadata": {},
   "outputs": [
    {
     "data": {
      "text/plain": [
       "Index(['uf', 'tipo_acidente', 'fase_dia', 'regional', 'ano', 'num_accidents',\n",
       "       'num_accidents_norm'],\n",
       "      dtype='object')"
      ]
     },
     "execution_count": 21,
     "metadata": {},
     "output_type": "execute_result"
    }
   ],
   "source": [
    "dataset.columns"
   ]
  },
  {
   "cell_type": "code",
   "execution_count": 22,
   "metadata": {},
   "outputs": [
    {
     "data": {
      "text/plain": [
       "['uf', 'tipo_acidente', 'fase_dia', 'regional', 'ano']"
      ]
     },
     "execution_count": 22,
     "metadata": {},
     "output_type": "execute_result"
    }
   ],
   "source": [
    "important_features"
   ]
  },
  {
   "cell_type": "code",
   "execution_count": 23,
   "metadata": {},
   "outputs": [],
   "source": [
    "dataset_ = pd.get_dummies(dataset, columns=['uf', 'tipo_acidente', 'fase_dia', 'regional'], drop_first=True)\n"
   ]
  },
  {
   "cell_type": "code",
   "execution_count": 24,
   "metadata": {},
   "outputs": [],
   "source": [
    "X = dataset_.drop([\"num_accidents\", \"num_accidents_norm\"], axis=1)\n",
    "Y = dataset_['num_accidents_norm']\n"
   ]
  },
  {
   "cell_type": "code",
   "execution_count": 25,
   "metadata": {},
   "outputs": [
    {
     "data": {
      "text/plain": [
       "Index(['ano', 'uf_al', 'uf_am', 'uf_ap', 'uf_ba', 'uf_ce', 'uf_df', 'uf_es',\n",
       "       'uf_go', 'uf_ma', 'uf_mg', 'uf_ms', 'uf_mt', 'uf_pa', 'uf_pb', 'uf_pe',\n",
       "       'uf_pi', 'uf_pr', 'uf_rj', 'uf_rn', 'uf_ro', 'uf_rr', 'uf_rs', 'uf_sc',\n",
       "       'uf_se', 'uf_sp', 'uf_to', 'uf_unknown',\n",
       "       'tipo_acidente_atropelamento de pedestre',\n",
       "       'tipo_acidente_atropelamento de pessoa', 'tipo_acidente_capotamento',\n",
       "       'tipo_acidente_coliso com bicicleta', 'tipo_acidente_coliso com objeto',\n",
       "       'tipo_acidente_coliso com objeto em movimento',\n",
       "       'tipo_acidente_coliso com objeto esttico',\n",
       "       'tipo_acidente_coliso com objeto fixo',\n",
       "       'tipo_acidente_coliso com objeto mvel', 'tipo_acidente_coliso frontal',\n",
       "       'tipo_acidente_coliso lateral',\n",
       "       'tipo_acidente_coliso lateral mesmo sentido',\n",
       "       'tipo_acidente_coliso lateral sentido oposto',\n",
       "       'tipo_acidente_coliso transversal', 'tipo_acidente_coliso traseira',\n",
       "       'tipo_acidente_danos eventuais', 'tipo_acidente_derramamento de carga',\n",
       "       'tipo_acidente_engavetamento', 'tipo_acidente_eventos atpicos',\n",
       "       'tipo_acidente_incndio',\n",
       "       'tipo_acidente_queda de motocicleta / bicicleta / veculo',\n",
       "       'tipo_acidente_queda de ocupante de veculo',\n",
       "       'tipo_acidente_sada de leito carrovel', 'tipo_acidente_sada de pista',\n",
       "       'tipo_acidente_tombamento', 'tipo_acidente_unknown', 'fase_dia_dusk',\n",
       "       'fase_dia_full day', 'fase_dia_full night', 'fase_dia_unknown',\n",
       "       'regional_sprf-al', 'regional_sprf-am', 'regional_sprf-ap',\n",
       "       'regional_sprf-ba', 'regional_sprf-ce', 'regional_sprf-df',\n",
       "       'regional_sprf-es', 'regional_sprf-go', 'regional_sprf-ma',\n",
       "       'regional_sprf-mg', 'regional_sprf-ms', 'regional_sprf-mt',\n",
       "       'regional_sprf-pa', 'regional_sprf-pb', 'regional_sprf-pe',\n",
       "       'regional_sprf-pi', 'regional_sprf-pr', 'regional_sprf-rj',\n",
       "       'regional_sprf-rn', 'regional_sprf-ro', 'regional_sprf-rr',\n",
       "       'regional_sprf-rs', 'regional_sprf-sc', 'regional_sprf-se',\n",
       "       'regional_sprf-sp', 'regional_sprf-to', 'regional_uniprf',\n",
       "       'regional_unknown'],\n",
       "      dtype='object')"
      ]
     },
     "execution_count": 25,
     "metadata": {},
     "output_type": "execute_result"
    }
   ],
   "source": [
    "X.columns"
   ]
  },
  {
   "cell_type": "code",
   "execution_count": 26,
   "metadata": {},
   "outputs": [],
   "source": [
    "for i in X.columns:\n",
    "    if i != 'ano':\n",
    "        X[i] = [0 if x == False else 1 for x in X[i]]\n",
    "\n"
   ]
  },
  {
   "cell_type": "code",
   "execution_count": 27,
   "metadata": {},
   "outputs": [
    {
     "data": {
      "text/html": [
       "<div>\n",
       "<style scoped>\n",
       "    .dataframe tbody tr th:only-of-type {\n",
       "        vertical-align: middle;\n",
       "    }\n",
       "\n",
       "    .dataframe tbody tr th {\n",
       "        vertical-align: top;\n",
       "    }\n",
       "\n",
       "    .dataframe thead th {\n",
       "        text-align: right;\n",
       "    }\n",
       "</style>\n",
       "<table border=\"1\" class=\"dataframe\">\n",
       "  <thead>\n",
       "    <tr style=\"text-align: right;\">\n",
       "      <th></th>\n",
       "      <th>ano</th>\n",
       "      <th>uf_al</th>\n",
       "      <th>uf_am</th>\n",
       "      <th>uf_ap</th>\n",
       "      <th>uf_ba</th>\n",
       "      <th>uf_ce</th>\n",
       "      <th>uf_df</th>\n",
       "      <th>uf_es</th>\n",
       "      <th>uf_go</th>\n",
       "      <th>uf_ma</th>\n",
       "      <th>...</th>\n",
       "      <th>regional_sprf-rn</th>\n",
       "      <th>regional_sprf-ro</th>\n",
       "      <th>regional_sprf-rr</th>\n",
       "      <th>regional_sprf-rs</th>\n",
       "      <th>regional_sprf-sc</th>\n",
       "      <th>regional_sprf-se</th>\n",
       "      <th>regional_sprf-sp</th>\n",
       "      <th>regional_sprf-to</th>\n",
       "      <th>regional_uniprf</th>\n",
       "      <th>regional_unknown</th>\n",
       "    </tr>\n",
       "  </thead>\n",
       "  <tbody>\n",
       "    <tr>\n",
       "      <th>0</th>\n",
       "      <td>0.384003</td>\n",
       "      <td>0</td>\n",
       "      <td>0</td>\n",
       "      <td>0</td>\n",
       "      <td>0</td>\n",
       "      <td>0</td>\n",
       "      <td>0</td>\n",
       "      <td>0</td>\n",
       "      <td>0</td>\n",
       "      <td>0</td>\n",
       "      <td>...</td>\n",
       "      <td>0</td>\n",
       "      <td>0</td>\n",
       "      <td>0</td>\n",
       "      <td>0</td>\n",
       "      <td>0</td>\n",
       "      <td>0</td>\n",
       "      <td>0</td>\n",
       "      <td>0</td>\n",
       "      <td>0</td>\n",
       "      <td>0</td>\n",
       "    </tr>\n",
       "    <tr>\n",
       "      <th>1</th>\n",
       "      <td>0.793519</td>\n",
       "      <td>0</td>\n",
       "      <td>0</td>\n",
       "      <td>0</td>\n",
       "      <td>0</td>\n",
       "      <td>0</td>\n",
       "      <td>0</td>\n",
       "      <td>0</td>\n",
       "      <td>0</td>\n",
       "      <td>0</td>\n",
       "      <td>...</td>\n",
       "      <td>0</td>\n",
       "      <td>0</td>\n",
       "      <td>0</td>\n",
       "      <td>0</td>\n",
       "      <td>0</td>\n",
       "      <td>0</td>\n",
       "      <td>0</td>\n",
       "      <td>0</td>\n",
       "      <td>0</td>\n",
       "      <td>0</td>\n",
       "    </tr>\n",
       "    <tr>\n",
       "      <th>2</th>\n",
       "      <td>0.998278</td>\n",
       "      <td>0</td>\n",
       "      <td>0</td>\n",
       "      <td>0</td>\n",
       "      <td>0</td>\n",
       "      <td>0</td>\n",
       "      <td>0</td>\n",
       "      <td>0</td>\n",
       "      <td>0</td>\n",
       "      <td>0</td>\n",
       "      <td>...</td>\n",
       "      <td>0</td>\n",
       "      <td>0</td>\n",
       "      <td>0</td>\n",
       "      <td>0</td>\n",
       "      <td>0</td>\n",
       "      <td>0</td>\n",
       "      <td>0</td>\n",
       "      <td>0</td>\n",
       "      <td>0</td>\n",
       "      <td>0</td>\n",
       "    </tr>\n",
       "    <tr>\n",
       "      <th>3</th>\n",
       "      <td>-1.663580</td>\n",
       "      <td>0</td>\n",
       "      <td>0</td>\n",
       "      <td>0</td>\n",
       "      <td>0</td>\n",
       "      <td>0</td>\n",
       "      <td>0</td>\n",
       "      <td>0</td>\n",
       "      <td>0</td>\n",
       "      <td>0</td>\n",
       "      <td>...</td>\n",
       "      <td>0</td>\n",
       "      <td>0</td>\n",
       "      <td>0</td>\n",
       "      <td>0</td>\n",
       "      <td>0</td>\n",
       "      <td>0</td>\n",
       "      <td>0</td>\n",
       "      <td>0</td>\n",
       "      <td>0</td>\n",
       "      <td>1</td>\n",
       "    </tr>\n",
       "    <tr>\n",
       "      <th>4</th>\n",
       "      <td>-1.458822</td>\n",
       "      <td>0</td>\n",
       "      <td>0</td>\n",
       "      <td>0</td>\n",
       "      <td>0</td>\n",
       "      <td>0</td>\n",
       "      <td>0</td>\n",
       "      <td>0</td>\n",
       "      <td>0</td>\n",
       "      <td>0</td>\n",
       "      <td>...</td>\n",
       "      <td>0</td>\n",
       "      <td>0</td>\n",
       "      <td>0</td>\n",
       "      <td>0</td>\n",
       "      <td>0</td>\n",
       "      <td>0</td>\n",
       "      <td>0</td>\n",
       "      <td>0</td>\n",
       "      <td>0</td>\n",
       "      <td>1</td>\n",
       "    </tr>\n",
       "    <tr>\n",
       "      <th>...</th>\n",
       "      <td>...</td>\n",
       "      <td>...</td>\n",
       "      <td>...</td>\n",
       "      <td>...</td>\n",
       "      <td>...</td>\n",
       "      <td>...</td>\n",
       "      <td>...</td>\n",
       "      <td>...</td>\n",
       "      <td>...</td>\n",
       "      <td>...</td>\n",
       "      <td>...</td>\n",
       "      <td>...</td>\n",
       "      <td>...</td>\n",
       "      <td>...</td>\n",
       "      <td>...</td>\n",
       "      <td>...</td>\n",
       "      <td>...</td>\n",
       "      <td>...</td>\n",
       "      <td>...</td>\n",
       "      <td>...</td>\n",
       "      <td>...</td>\n",
       "    </tr>\n",
       "    <tr>\n",
       "      <th>27217</th>\n",
       "      <td>-1.663580</td>\n",
       "      <td>0</td>\n",
       "      <td>0</td>\n",
       "      <td>0</td>\n",
       "      <td>0</td>\n",
       "      <td>0</td>\n",
       "      <td>0</td>\n",
       "      <td>0</td>\n",
       "      <td>0</td>\n",
       "      <td>0</td>\n",
       "      <td>...</td>\n",
       "      <td>0</td>\n",
       "      <td>0</td>\n",
       "      <td>0</td>\n",
       "      <td>0</td>\n",
       "      <td>0</td>\n",
       "      <td>0</td>\n",
       "      <td>0</td>\n",
       "      <td>0</td>\n",
       "      <td>0</td>\n",
       "      <td>1</td>\n",
       "    </tr>\n",
       "    <tr>\n",
       "      <th>27218</th>\n",
       "      <td>-0.639789</td>\n",
       "      <td>0</td>\n",
       "      <td>0</td>\n",
       "      <td>0</td>\n",
       "      <td>0</td>\n",
       "      <td>0</td>\n",
       "      <td>0</td>\n",
       "      <td>0</td>\n",
       "      <td>0</td>\n",
       "      <td>0</td>\n",
       "      <td>...</td>\n",
       "      <td>0</td>\n",
       "      <td>0</td>\n",
       "      <td>0</td>\n",
       "      <td>0</td>\n",
       "      <td>0</td>\n",
       "      <td>0</td>\n",
       "      <td>0</td>\n",
       "      <td>0</td>\n",
       "      <td>0</td>\n",
       "      <td>1</td>\n",
       "    </tr>\n",
       "    <tr>\n",
       "      <th>27219</th>\n",
       "      <td>-1.458822</td>\n",
       "      <td>0</td>\n",
       "      <td>0</td>\n",
       "      <td>0</td>\n",
       "      <td>0</td>\n",
       "      <td>0</td>\n",
       "      <td>0</td>\n",
       "      <td>0</td>\n",
       "      <td>0</td>\n",
       "      <td>0</td>\n",
       "      <td>...</td>\n",
       "      <td>0</td>\n",
       "      <td>0</td>\n",
       "      <td>0</td>\n",
       "      <td>0</td>\n",
       "      <td>0</td>\n",
       "      <td>0</td>\n",
       "      <td>0</td>\n",
       "      <td>0</td>\n",
       "      <td>0</td>\n",
       "      <td>1</td>\n",
       "    </tr>\n",
       "    <tr>\n",
       "      <th>27220</th>\n",
       "      <td>-1.458822</td>\n",
       "      <td>0</td>\n",
       "      <td>0</td>\n",
       "      <td>0</td>\n",
       "      <td>0</td>\n",
       "      <td>0</td>\n",
       "      <td>0</td>\n",
       "      <td>0</td>\n",
       "      <td>0</td>\n",
       "      <td>0</td>\n",
       "      <td>...</td>\n",
       "      <td>0</td>\n",
       "      <td>0</td>\n",
       "      <td>0</td>\n",
       "      <td>0</td>\n",
       "      <td>0</td>\n",
       "      <td>0</td>\n",
       "      <td>0</td>\n",
       "      <td>0</td>\n",
       "      <td>0</td>\n",
       "      <td>1</td>\n",
       "    </tr>\n",
       "    <tr>\n",
       "      <th>27221</th>\n",
       "      <td>-0.639789</td>\n",
       "      <td>0</td>\n",
       "      <td>0</td>\n",
       "      <td>0</td>\n",
       "      <td>0</td>\n",
       "      <td>0</td>\n",
       "      <td>0</td>\n",
       "      <td>0</td>\n",
       "      <td>0</td>\n",
       "      <td>0</td>\n",
       "      <td>...</td>\n",
       "      <td>0</td>\n",
       "      <td>0</td>\n",
       "      <td>0</td>\n",
       "      <td>0</td>\n",
       "      <td>0</td>\n",
       "      <td>0</td>\n",
       "      <td>0</td>\n",
       "      <td>0</td>\n",
       "      <td>0</td>\n",
       "      <td>1</td>\n",
       "    </tr>\n",
       "  </tbody>\n",
       "</table>\n",
       "<p>27222 rows × 86 columns</p>\n",
       "</div>"
      ],
      "text/plain": [
       "            ano  uf_al  uf_am  uf_ap  uf_ba  uf_ce  uf_df  uf_es  uf_go   \n",
       "0      0.384003      0      0      0      0      0      0      0      0  \\\n",
       "1      0.793519      0      0      0      0      0      0      0      0   \n",
       "2      0.998278      0      0      0      0      0      0      0      0   \n",
       "3     -1.663580      0      0      0      0      0      0      0      0   \n",
       "4     -1.458822      0      0      0      0      0      0      0      0   \n",
       "...         ...    ...    ...    ...    ...    ...    ...    ...    ...   \n",
       "27217 -1.663580      0      0      0      0      0      0      0      0   \n",
       "27218 -0.639789      0      0      0      0      0      0      0      0   \n",
       "27219 -1.458822      0      0      0      0      0      0      0      0   \n",
       "27220 -1.458822      0      0      0      0      0      0      0      0   \n",
       "27221 -0.639789      0      0      0      0      0      0      0      0   \n",
       "\n",
       "       uf_ma  ...  regional_sprf-rn  regional_sprf-ro  regional_sprf-rr   \n",
       "0          0  ...                 0                 0                 0  \\\n",
       "1          0  ...                 0                 0                 0   \n",
       "2          0  ...                 0                 0                 0   \n",
       "3          0  ...                 0                 0                 0   \n",
       "4          0  ...                 0                 0                 0   \n",
       "...      ...  ...               ...               ...               ...   \n",
       "27217      0  ...                 0                 0                 0   \n",
       "27218      0  ...                 0                 0                 0   \n",
       "27219      0  ...                 0                 0                 0   \n",
       "27220      0  ...                 0                 0                 0   \n",
       "27221      0  ...                 0                 0                 0   \n",
       "\n",
       "       regional_sprf-rs  regional_sprf-sc  regional_sprf-se  regional_sprf-sp   \n",
       "0                     0                 0                 0                 0  \\\n",
       "1                     0                 0                 0                 0   \n",
       "2                     0                 0                 0                 0   \n",
       "3                     0                 0                 0                 0   \n",
       "4                     0                 0                 0                 0   \n",
       "...                 ...               ...               ...               ...   \n",
       "27217                 0                 0                 0                 0   \n",
       "27218                 0                 0                 0                 0   \n",
       "27219                 0                 0                 0                 0   \n",
       "27220                 0                 0                 0                 0   \n",
       "27221                 0                 0                 0                 0   \n",
       "\n",
       "       regional_sprf-to  regional_uniprf  regional_unknown  \n",
       "0                     0                0                 0  \n",
       "1                     0                0                 0  \n",
       "2                     0                0                 0  \n",
       "3                     0                0                 1  \n",
       "4                     0                0                 1  \n",
       "...                 ...              ...               ...  \n",
       "27217                 0                0                 1  \n",
       "27218                 0                0                 1  \n",
       "27219                 0                0                 1  \n",
       "27220                 0                0                 1  \n",
       "27221                 0                0                 1  \n",
       "\n",
       "[27222 rows x 86 columns]"
      ]
     },
     "execution_count": 27,
     "metadata": {},
     "output_type": "execute_result"
    }
   ],
   "source": [
    "X"
   ]
  },
  {
   "cell_type": "code",
   "execution_count": 28,
   "metadata": {},
   "outputs": [],
   "source": [
    "X_train, X_test, y_train, y_teste = train_test_split(X, Y, random_state=32, test_size=0.3)"
   ]
  },
  {
   "cell_type": "code",
   "execution_count": 29,
   "metadata": {},
   "outputs": [],
   "source": [
    "## We are gonna create a MLP neural Network using Sequential from keras. \n",
    "## I am also adding BatchNormalization - To imporve stability and performance.\n",
    "## As also output dropout - to prevent overfitting.  "
   ]
  },
  {
   "cell_type": "code",
   "execution_count": 30,
   "metadata": {},
   "outputs": [],
   "source": [
    "### Before We start our neural network, we must work with a few steps:\n",
    "\n",
    "# 1 - Let's choose our sctivation function (We chose ReLu) so We can initalize our weights(he_normal).\n",
    "# 2 - Remeber to add Batch  normalization and dropouts - our probability in droping out a neuron is of 0.2 (the best response), which means 20%.\n",
    "# 3 - Let's choose our optimizer (ADAM) and loss-function - I chose mean_squared_error which makes a lot of sense for me, since We have a regression problem.\n",
    "\n"
   ]
  },
  {
   "cell_type": "code",
   "execution_count": 31,
   "metadata": {},
   "outputs": [
    {
     "data": {
      "text/plain": [
       "ano                 float64\n",
       "uf_al                 int64\n",
       "uf_am                 int64\n",
       "uf_ap                 int64\n",
       "uf_ba                 int64\n",
       "                     ...   \n",
       "regional_sprf-se      int64\n",
       "regional_sprf-sp      int64\n",
       "regional_sprf-to      int64\n",
       "regional_uniprf       int64\n",
       "regional_unknown      int64\n",
       "Length: 86, dtype: object"
      ]
     },
     "execution_count": 31,
     "metadata": {},
     "output_type": "execute_result"
    }
   ],
   "source": [
    "X_train.dtypes"
   ]
  },
  {
   "cell_type": "code",
   "execution_count": 66,
   "metadata": {},
   "outputs": [],
   "source": [
    "model = Sequential()"
   ]
  },
  {
   "cell_type": "code",
   "execution_count": 67,
   "metadata": {},
   "outputs": [],
   "source": [
    "model.add(\n",
    "    Dense(units=100, input_dim=X_train.shape[1], kernel_initializer='he_normal'))\n",
    "model.add(BatchNormalization())  # Add Batch Normalization\n",
    "model.add(Activation('relu'))\n",
    "model.add(Dropout(0.2))\n"
   ]
  },
  {
   "cell_type": "code",
   "execution_count": 68,
   "metadata": {},
   "outputs": [],
   "source": [
    "model.add(Dense(units=50, kernel_initializer='he_normal'))\n",
    "model.add(BatchNormalization())  # Add Batch Normalization\n",
    "model.add(Activation('relu'))\n",
    "model.add(Dropout(0.2))\n"
   ]
  },
  {
   "cell_type": "code",
   "execution_count": 69,
   "metadata": {},
   "outputs": [],
   "source": [
    "model.add(Dense(units=1, kernel_initializer='he_normal'))\n"
   ]
  },
  {
   "cell_type": "code",
   "execution_count": 70,
   "metadata": {},
   "outputs": [],
   "source": [
    "model.compile(loss='mean_squared_error', optimizer='adam')\n"
   ]
  },
  {
   "cell_type": "code",
   "execution_count": 71,
   "metadata": {},
   "outputs": [
    {
     "name": "stdout",
     "output_type": "stream",
     "text": [
      "Model: \"sequential_3\"\n",
      "_________________________________________________________________\n",
      " Layer (type)                Output Shape              Param #   \n",
      "=================================================================\n",
      " dense_10 (Dense)            (None, 100)               8700      \n",
      "                                                                 \n",
      " batch_normalization_8 (Bat  (None, 100)               400       \n",
      " chNormalization)                                                \n",
      "                                                                 \n",
      " activation_8 (Activation)   (None, 100)               0         \n",
      "                                                                 \n",
      " dropout (Dropout)           (None, 100)               0         \n",
      "                                                                 \n",
      " dense_11 (Dense)            (None, 50)                5050      \n",
      "                                                                 \n",
      " batch_normalization_9 (Bat  (None, 50)                200       \n",
      " chNormalization)                                                \n",
      "                                                                 \n",
      " activation_9 (Activation)   (None, 50)                0         \n",
      "                                                                 \n",
      " dropout_1 (Dropout)         (None, 50)                0         \n",
      "                                                                 \n",
      " dense_12 (Dense)            (None, 1)                 51        \n",
      "                                                                 \n",
      "=================================================================\n",
      "Total params: 14401 (56.25 KB)\n",
      "Trainable params: 14101 (55.08 KB)\n",
      "Non-trainable params: 300 (1.17 KB)\n",
      "_________________________________________________________________\n"
     ]
    }
   ],
   "source": [
    "model.summary()\n"
   ]
  },
  {
   "cell_type": "code",
   "execution_count": 72,
   "metadata": {},
   "outputs": [
    {
     "name": "stdout",
     "output_type": "stream",
     "text": [
      "Epoch 1/10\n",
      "477/477 [==============================] - 1s 1ms/step - loss: 0.2252 - val_loss: 0.0106\n",
      "Epoch 2/10\n",
      "477/477 [==============================] - 1s 3ms/step - loss: 0.0293 - val_loss: 0.0032\n",
      "Epoch 3/10\n",
      "477/477 [==============================] - 1s 1ms/step - loss: 0.0060 - val_loss: 0.0021\n",
      "Epoch 4/10\n",
      "477/477 [==============================] - 1s 1ms/step - loss: 0.0026 - val_loss: 0.0020\n",
      "Epoch 5/10\n",
      "477/477 [==============================] - 1s 1ms/step - loss: 0.0020 - val_loss: 0.0020\n",
      "Epoch 6/10\n",
      "477/477 [==============================] - 1s 1ms/step - loss: 0.0019 - val_loss: 0.0019\n",
      "Epoch 7/10\n",
      "477/477 [==============================] - 1s 1ms/step - loss: 0.0019 - val_loss: 0.0019\n",
      "Epoch 8/10\n",
      "477/477 [==============================] - 1s 1ms/step - loss: 0.0019 - val_loss: 0.0018\n",
      "Epoch 9/10\n",
      "477/477 [==============================] - 1s 1ms/step - loss: 0.0018 - val_loss: 0.0018\n",
      "Epoch 10/10\n",
      "477/477 [==============================] - 1s 1ms/step - loss: 0.0017 - val_loss: 0.0016\n"
     ]
    },
    {
     "data": {
      "image/png": "[encoded data removed]",
      "text/plain": [
       "<Figure size 640x480 with 1 Axes>"
      ]
     },
     "metadata": {},
     "output_type": "display_data"
    }
   ],
   "source": [
    "training = model.fit(X_train, y_train, validation_split=0.2,\n",
    "                    epochs=10, batch_size=32)\n",
    "\n",
    "## Monitor:\n",
    "\n",
    "\n",
    "loss = training.history['loss']\n",
    "val_loss = training.history['val_loss']\n",
    "\n",
    "# Plot training and validation loss\n",
    "plt.plot(loss, label='Training Loss')\n",
    "plt.plot(val_loss, label='Validation Loss')\n",
    "plt.xlabel('Epochs')\n",
    "plt.ylabel('Loss')\n",
    "plt.legend()\n",
    "plt.show()\n"
   ]
  },
  {
   "cell_type": "code",
   "execution_count": 73,
   "metadata": {},
   "outputs": [
    {
     "name": "stdout",
     "output_type": "stream",
     "text": [
      "  1/256 [..............................] - ETA: 4s - loss: 2.3747e-04"
     ]
    },
    {
     "name": "stdout",
     "output_type": "stream",
     "text": [
      "256/256 [==============================] - 0s 578us/step - loss: 0.0018\n",
      "Test Loss: 0.001822797697968781\n"
     ]
    }
   ],
   "source": [
    "test_loss = model.evaluate(X_test, y_teste)\n",
    "print(f'Test Loss: {test_loss}')\n"
   ]
  },
  {
   "cell_type": "code",
   "execution_count": 74,
   "metadata": {},
   "outputs": [
    {
     "name": "stdout",
     "output_type": "stream",
     "text": [
      "256/256 [==============================] - 0s 519us/step\n"
     ]
    }
   ],
   "source": [
    "y_pred = model.predict(X_test)\n"
   ]
  },
  {
   "cell_type": "code",
   "execution_count": 75,
   "metadata": {},
   "outputs": [
    {
     "name": "stdout",
     "output_type": "stream",
     "text": [
      "Mean Absolute Error (MAE): 0.01588890227844866\n",
      "Root Mean Squared Error (RMSE): 0.042694238199249175\n"
     ]
    }
   ],
   "source": [
    "mae = np.mean(np.abs(y_pred.flatten() - y_teste))\n",
    "print(f'Mean Absolute Error (MAE): {mae}')\n",
    "\n",
    "rmse = np.sqrt(np.mean((y_pred.flatten() - y_teste)**2))\n",
    "print(f'Root Mean Squared Error (RMSE): {rmse}')\n"
   ]
  },
  {
   "cell_type": "code",
   "execution_count": 76,
   "metadata": {},
   "outputs": [
    {
     "name": "stderr",
     "output_type": "stream",
     "text": [
      "C:\\Users\\vferr\\AppData\\Local\\Packages\\PythonSoftwareFoundation.Python.3.10_qbz5n2kfra8p0\\LocalCache\\local-packages\\Python310\\site-packages\\keras\\src\\engine\\training.py:3000: UserWarning: You are saving your model as an HDF5 file via `model.save()`. This file format is considered legacy. We recommend using instead the native Keras format, e.g. `model.save('my_model.keras')`.\n",
      "  saving_api.save_model(\n"
     ]
    }
   ],
   "source": [
    "model.save('mlp_model.h5')"
   ]
  },
  {
   "cell_type": "code",
   "execution_count": 77,
   "metadata": {},
   "outputs": [
    {
     "data": {
      "text/plain": [
       "['mlp_model.pkl']"
      ]
     },
     "execution_count": 77,
     "metadata": {},
     "output_type": "execute_result"
    }
   ],
   "source": [
    "model = load_model('mlp_model.h5')\n",
    "\n",
    "joblib.dump(model, 'mlp_model.pkl')\n"
   ]
  },
  {
   "cell_type": "code",
   "execution_count": null,
   "metadata": {},
   "outputs": [],
   "source": [
    "states = data.uf.unique()\n"
   ]
  },
  {
   "cell_type": "code",
   "execution_count": 44,
   "metadata": {},
   "outputs": [
    {
     "data": {
      "text/plain": [
       "['colunas']"
      ]
     },
     "execution_count": 44,
     "metadata": {},
     "output_type": "execute_result"
    }
   ],
   "source": [
    "sample_columns = pd.DataFrame(columns = X_train.columns)\n",
    "\n",
    "# for i in sample_columns.columns:\n",
    "    #sample_columns[i] = 0\n",
    "\n",
    "joblib.dump(sample_columns, 'colunas')\n"
   ]
  },
  {
   "cell_type": "code",
   "execution_count": 48,
   "metadata": {},
   "outputs": [
    {
     "data": {
      "text/plain": [
       "4681"
      ]
     },
     "execution_count": 48,
     "metadata": {},
     "output_type": "execute_result"
    }
   ],
   "source": [
    "dataset['num_accidents'].max()\n"
   ]
  },
  {
   "cell_type": "code",
   "execution_count": 47,
   "metadata": {},
   "outputs": [
    {
     "data": {
      "text/html": [
       "<div>\n",
       "<style scoped>\n",
       "    .dataframe tbody tr th:only-of-type {\n",
       "        vertical-align: middle;\n",
       "    }\n",
       "\n",
       "    .dataframe tbody tr th {\n",
       "        vertical-align: top;\n",
       "    }\n",
       "\n",
       "    .dataframe thead th {\n",
       "        text-align: right;\n",
       "    }\n",
       "</style>\n",
       "<table border=\"1\" class=\"dataframe\">\n",
       "  <thead>\n",
       "    <tr style=\"text-align: right;\">\n",
       "      <th></th>\n",
       "      <th>uf</th>\n",
       "      <th>tipo_acidente</th>\n",
       "      <th>fase_dia</th>\n",
       "      <th>regional</th>\n",
       "      <th>ano</th>\n",
       "      <th>num_accidents</th>\n",
       "      <th>num_accidents_norm</th>\n",
       "    </tr>\n",
       "  </thead>\n",
       "  <tbody>\n",
       "    <tr>\n",
       "      <th>0</th>\n",
       "      <td>ac</td>\n",
       "      <td>atropelamento de animal</td>\n",
       "      <td>dawn</td>\n",
       "      <td>sprf-ac</td>\n",
       "      <td>0.384003</td>\n",
       "      <td>1</td>\n",
       "      <td>0.000000</td>\n",
       "    </tr>\n",
       "    <tr>\n",
       "      <th>1</th>\n",
       "      <td>ac</td>\n",
       "      <td>atropelamento de animal</td>\n",
       "      <td>dawn</td>\n",
       "      <td>sprf-ac</td>\n",
       "      <td>0.793519</td>\n",
       "      <td>1</td>\n",
       "      <td>0.000000</td>\n",
       "    </tr>\n",
       "    <tr>\n",
       "      <th>2</th>\n",
       "      <td>ac</td>\n",
       "      <td>atropelamento de animal</td>\n",
       "      <td>dawn</td>\n",
       "      <td>sprf-ac</td>\n",
       "      <td>0.998278</td>\n",
       "      <td>1</td>\n",
       "      <td>0.000000</td>\n",
       "    </tr>\n",
       "    <tr>\n",
       "      <th>3</th>\n",
       "      <td>ac</td>\n",
       "      <td>atropelamento de animal</td>\n",
       "      <td>dawn</td>\n",
       "      <td>unknown</td>\n",
       "      <td>-1.663580</td>\n",
       "      <td>3</td>\n",
       "      <td>0.000427</td>\n",
       "    </tr>\n",
       "    <tr>\n",
       "      <th>4</th>\n",
       "      <td>ac</td>\n",
       "      <td>atropelamento de animal</td>\n",
       "      <td>dawn</td>\n",
       "      <td>unknown</td>\n",
       "      <td>-1.458822</td>\n",
       "      <td>2</td>\n",
       "      <td>0.000214</td>\n",
       "    </tr>\n",
       "    <tr>\n",
       "      <th>...</th>\n",
       "      <td>...</td>\n",
       "      <td>...</td>\n",
       "      <td>...</td>\n",
       "      <td>...</td>\n",
       "      <td>...</td>\n",
       "      <td>...</td>\n",
       "      <td>...</td>\n",
       "    </tr>\n",
       "    <tr>\n",
       "      <th>27217</th>\n",
       "      <td>unknown</td>\n",
       "      <td>coliso transversal</td>\n",
       "      <td>full day</td>\n",
       "      <td>unknown</td>\n",
       "      <td>-1.663580</td>\n",
       "      <td>1</td>\n",
       "      <td>0.000000</td>\n",
       "    </tr>\n",
       "    <tr>\n",
       "      <th>27218</th>\n",
       "      <td>unknown</td>\n",
       "      <td>coliso traseira</td>\n",
       "      <td>full night</td>\n",
       "      <td>unknown</td>\n",
       "      <td>-0.639789</td>\n",
       "      <td>1</td>\n",
       "      <td>0.000000</td>\n",
       "    </tr>\n",
       "    <tr>\n",
       "      <th>27219</th>\n",
       "      <td>unknown</td>\n",
       "      <td>queda de motocicleta / bicicleta / veculo</td>\n",
       "      <td>full night</td>\n",
       "      <td>unknown</td>\n",
       "      <td>-1.458822</td>\n",
       "      <td>1</td>\n",
       "      <td>0.000000</td>\n",
       "    </tr>\n",
       "    <tr>\n",
       "      <th>27220</th>\n",
       "      <td>unknown</td>\n",
       "      <td>sada de pista</td>\n",
       "      <td>dusk</td>\n",
       "      <td>unknown</td>\n",
       "      <td>-1.458822</td>\n",
       "      <td>1</td>\n",
       "      <td>0.000000</td>\n",
       "    </tr>\n",
       "    <tr>\n",
       "      <th>27221</th>\n",
       "      <td>unknown</td>\n",
       "      <td>sada de pista</td>\n",
       "      <td>dusk</td>\n",
       "      <td>unknown</td>\n",
       "      <td>-0.639789</td>\n",
       "      <td>1</td>\n",
       "      <td>0.000000</td>\n",
       "    </tr>\n",
       "  </tbody>\n",
       "</table>\n",
       "<p>27222 rows × 7 columns</p>\n",
       "</div>"
      ],
      "text/plain": [
       "            uf                              tipo_acidente    fase_dia   \n",
       "0           ac                    atropelamento de animal        dawn  \\\n",
       "1           ac                    atropelamento de animal        dawn   \n",
       "2           ac                    atropelamento de animal        dawn   \n",
       "3           ac                    atropelamento de animal        dawn   \n",
       "4           ac                    atropelamento de animal        dawn   \n",
       "...        ...                                        ...         ...   \n",
       "27217  unknown                         coliso transversal    full day   \n",
       "27218  unknown                            coliso traseira  full night   \n",
       "27219  unknown  queda de motocicleta / bicicleta / veculo  full night   \n",
       "27220  unknown                              sada de pista        dusk   \n",
       "27221  unknown                              sada de pista        dusk   \n",
       "\n",
       "      regional       ano  num_accidents  num_accidents_norm  \n",
       "0      sprf-ac  0.384003              1            0.000000  \n",
       "1      sprf-ac  0.793519              1            0.000000  \n",
       "2      sprf-ac  0.998278              1            0.000000  \n",
       "3      unknown -1.663580              3            0.000427  \n",
       "4      unknown -1.458822              2            0.000214  \n",
       "...        ...       ...            ...                 ...  \n",
       "27217  unknown -1.663580              1            0.000000  \n",
       "27218  unknown -0.639789              1            0.000000  \n",
       "27219  unknown -1.458822              1            0.000000  \n",
       "27220  unknown -1.458822              1            0.000000  \n",
       "27221  unknown -0.639789              1            0.000000  \n",
       "\n",
       "[27222 rows x 7 columns]"
      ]
     },
     "execution_count": 47,
     "metadata": {},
     "output_type": "execute_result"
    }
   ],
   "source": [
    "dataset"
   ]
  },
  {
   "cell_type": "code",
   "execution_count": 46,
   "metadata": {},
   "outputs": [
    {
     "data": {
      "text/plain": [
       "uf                       pe\n",
       "tipo_acidente    tombamento\n",
       "fase_dia           full day\n",
       "regional            sprf-pe\n",
       "ano                    2023\n",
       "Name: 100, dtype: object"
      ]
     },
     "execution_count": 46,
     "metadata": {},
     "output_type": "execute_result"
    }
   ],
   "source": [
    "data.iloc[100][important_features]"
   ]
  },
  {
   "cell_type": "code",
   "execution_count": null,
   "metadata": {},
   "outputs": [],
   "source": []
  }
 ],
 "metadata": {
  "kernelspec": {
   "display_name": "Python 3",
   "language": "python",
   "name": "python3"
  },
  "language_info": {
   "codemirror_mode": {
    "name": "ipython",
    "version": 3
   },
   "file_extension": ".py",
   "mimetype": "text/x-python",
   "name": "python",
   "nbconvert_exporter": "python",
   "pygments_lexer": "ipython3",
   "version": "3.10.11"
  },
  "orig_nbformat": 4
 },
 "nbformat": 4,
 "nbformat_minor": 2
}
